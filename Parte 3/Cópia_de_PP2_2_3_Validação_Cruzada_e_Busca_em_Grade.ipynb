{
  "nbformat": 4,
  "nbformat_minor": 0,
  "metadata": {
    "kernelspec": {
      "display_name": "Python 3",
      "language": "python",
      "name": "python3"
    },
    "language_info": {
      "codemirror_mode": {
        "name": "ipython",
        "version": 3
      },
      "file_extension": ".py",
      "mimetype": "text/x-python",
      "name": "python",
      "nbconvert_exporter": "python",
      "pygments_lexer": "ipython3",
      "version": "3.6.10"
    },
    "colab": {
      "name": "Cópia de PP2.2.3 - Validação Cruzada e Busca em Grade.ipynb",
      "provenance": [],
      "collapsed_sections": [],
      "include_colab_link": true
    }
  },
  "cells": [
    {
      "cell_type": "markdown",
      "metadata": {
        "id": "view-in-github",
        "colab_type": "text"
      },
      "source": [
        "<a href=\"https://colab.research.google.com/github/Alejandro-RL/Atividade_2.2/blob/main/Parte%203/C%C3%B3pia_de_PP2_2_3_Validac%CC%A7a%CC%83o_Cruzada_e_Busca_em_Grade.ipynb\" target=\"_parent\"><img src=\"https://colab.research.google.com/assets/colab-badge.svg\" alt=\"Open In Colab\"/></a>"
      ]
    },
    {
      "cell_type": "markdown",
      "source": [
        "\n",
        "\n",
        "* Adan Thierry Souza dos Santos - 1915080050\n",
        "* Alejandro da Rocha Loureiro - 1915080001\n",
        "* Fernando Araújo Alves Filho - 1915080063\n",
        "* Victor Brasil de Pina - 1915080079\n",
        "\n"
      ],
      "metadata": {
        "id": "5rSCehiDKw9J"
      }
    },
    {
      "cell_type": "markdown",
      "metadata": {
        "id": "DKvWUeHzGp6l"
      },
      "source": [
        "# Redes Neurais Artificiais 2021.1\n",
        "\n",
        "- **Disciplina**: Redes Neurais Artificiais 2021.1  \n",
        "- **Professora**: Elloá B. Guedes (ebgcosta@uea.edu.br)  \n",
        "- **Github**: http://github.com/elloa  \n",
        "        \n",
        "\n",
        "Levando em conta a base de dados **_Forest Cover Type_**, esta parte do Projeto Prático diz respeito à proposição e avaliação de múltiplas redes neurais artificiais do tipo feedforward multilayer perceptron para o problema da classificação multi-classe da cobertura florestal em uma área do Roosevelt National Forest.\n",
        "\n",
        "## Busca em Grade\n",
        "\n",
        "Uma maneira padrão de escolher os parâmetros de um modelo de Machine Learning é por meio de uma busca em grade via força bruta. O algoritmo da busca em grade é dado como segue:\n",
        "\n",
        "1. Escolha a métrica de desempenho que você deseja maximizar  \n",
        "2. Escolha o algoritmo de Machine Learning (exemplo: redes neurais artificiais). Em seguida, defina os parâmetros ou hiperparâmetros deste tipo de modelo sobre os quais você deseja otimizar (número de épocas, taxa de aprendizado, etc.) e construa um array de valores a serem testados para cada parâmetro ou hiperparâmetro.  \n",
        "3. Defina a grade de busca, a qual é dada como o produto cartesiano de cada parâmetro a ser testado. Por exemplo, para os arrays [50, 100, 1000] e [10, 15], tem-se que a grade é [(50,10), (50,15), (100,10), (100,15), (1000,10), (1000,15)].\n",
        "4. Para cada combinação de parâmetros a serem otimizados, utilize o conjunto de treinamento para realizar uma validação cruzada (holdout ou k-fold) e calcule a métrica de avaliação no conjunto de teste (ou conjuntos de teste)\n",
        "5. Escolha a combinação de parâmetros que maximizam a métrica de avaliação. Este é o modelo otimizado.\n",
        "\n",
        "Por que esta abordagem funciona? Porque a busca em grade efetua uma pesquisa extensiva sobre as possíveis combinações de valores para cada um dos parâmetros a serem ajustados. Para cada combinação, ela estima a performance do modelo em dados novos. Por fim, o modelo com melhor métrica de desempenho é escolhido. Tem-se então que este modelo é o que melhor pode vir a generalizar mediante dados nunca antes vistos.\n",
        "\n",
        "## Efetuando a Busca em Grade sobre Hiperparâmetros das Top-6 RNAs\n",
        "\n",
        "Considerando a etapa anterior do projeto prático, foram identificadas pelo menos 6 melhores Redes Neurais para o problema da classificação multi-classe da cobertura florestal no conjunto de dados selecionado. Algumas destas redes possuem atributos categóricos como variáveis preditoras, enquanto outras possuem apenas os atributos numéricos como preditores.\n",
        "\n",
        "A primeira etapa desta segunda parte do projeto consiste em trazer para este notebook estas seis arquiteturas, ressaltando:\n",
        "\n",
        "1. Número de neurônios ocultos por camada  \n",
        "2. Função de Ativação  \n",
        "3. Utilização ou não de atributos categóricos   \n",
        "4. Desempenho médio +- desvio padrão nos testes anteriores  \n",
        "5. Número de repetições que a equipe conseguiu realizar para verificar os resultados  \n",
        "\n",
        "Elabore uma busca em grade sobre estas arquiteturas que contemple variações nos hiperparâmetros a seguir, conforme documentação de [MLPClassifier](https://scikit-learn.org/stable/modules/generated/sklearn.neural_network.MLPClassifier.html)\n",
        "\n",
        "A. Solver  (Não usar o LBFGS, pois é mais adequado para datasets pequenos)  \n",
        "B. Batch Size  \n",
        "C. Learning Rate Init  \n",
        "D. Paciência (n_iter_no_change)  \n",
        "E. Épocas  \n",
        "\n",
        "Nesta busca em grande, contemple a utilização do objeto [GridSearchCV](https://scikit-learn.org/stable/modules/generated/sklearn.model_selection.GridSearchCV.html)"
      ]
    },
    {
      "cell_type": "code",
      "source": [
        "import pandas as pd\n",
        "import matplotlib.pyplot as plt\n",
        "import numpy as np\n",
        "from sklearn.model_selection import train_test_split\n",
        "from sklearn.neural_network import MLPClassifier\n",
        "from sklearn.metrics import confusion_matrix, balanced_accuracy_score,f1_score,precision_score,recall_score\n",
        "from sklearn.model_selection import GridSearchCV  \n",
        "from joblib import dump, load"
      ],
      "metadata": {
        "id": "xy6pfQZzPP4g"
      },
      "execution_count": 1,
      "outputs": []
    },
    {
      "cell_type": "code",
      "source": [
        "!wget https://www.dropbox.com/s/2j9euhvkl1njfzh/covtype.csv"
      ],
      "metadata": {
        "id": "5bTUH3m_Hgll",
        "colab": {
          "base_uri": "https://localhost:8080/"
        },
        "outputId": "26f56ec6-880d-494b-f4aa-678ea65d90e1"
      },
      "execution_count": 2,
      "outputs": [
        {
          "output_type": "stream",
          "name": "stdout",
          "text": [
            "--2021-12-13 19:34:14--  https://www.dropbox.com/s/2j9euhvkl1njfzh/covtype.csv\n",
            "Resolving www.dropbox.com (www.dropbox.com)... 162.125.5.18, 2620:100:601d:18::a27d:512\n",
            "Connecting to www.dropbox.com (www.dropbox.com)|162.125.5.18|:443... connected.\n",
            "HTTP request sent, awaiting response... 301 Moved Permanently\n",
            "Location: /s/raw/2j9euhvkl1njfzh/covtype.csv [following]\n",
            "--2021-12-13 19:34:14--  https://www.dropbox.com/s/raw/2j9euhvkl1njfzh/covtype.csv\n",
            "Reusing existing connection to www.dropbox.com:443.\n",
            "HTTP request sent, awaiting response... 302 Found\n",
            "Location: https://ucd0252646a034d5b60519cf4135.dl.dropboxusercontent.com/cd/0/inline/Bbz7JQFb3KJFsGZh2ErEpqXQJkASHfcHMCaxHRLxh83tDwx2v5NJsEs1j-UEKnrH6zX8dXWSAd0uNnZmrAsYlZvdvYnUkim64-YBgrY_acD9im3V0UDJs_WHTz1FRnnIEQve4UQCMaxwh_-QKGUDKHTB/file# [following]\n",
            "--2021-12-13 19:34:14--  https://ucd0252646a034d5b60519cf4135.dl.dropboxusercontent.com/cd/0/inline/Bbz7JQFb3KJFsGZh2ErEpqXQJkASHfcHMCaxHRLxh83tDwx2v5NJsEs1j-UEKnrH6zX8dXWSAd0uNnZmrAsYlZvdvYnUkim64-YBgrY_acD9im3V0UDJs_WHTz1FRnnIEQve4UQCMaxwh_-QKGUDKHTB/file\n",
            "Resolving ucd0252646a034d5b60519cf4135.dl.dropboxusercontent.com (ucd0252646a034d5b60519cf4135.dl.dropboxusercontent.com)... 162.125.5.15, 2620:100:601d:15::a27d:50f\n",
            "Connecting to ucd0252646a034d5b60519cf4135.dl.dropboxusercontent.com (ucd0252646a034d5b60519cf4135.dl.dropboxusercontent.com)|162.125.5.15|:443... connected.\n",
            "HTTP request sent, awaiting response... 200 OK\n",
            "Length: 75170064 (72M) [text/plain]\n",
            "Saving to: ‘covtype.csv.6’\n",
            "\n",
            "covtype.csv.6       100%[===================>]  71.69M  59.1MB/s    in 1.2s    \n",
            "\n",
            "2021-12-13 19:34:16 (59.1 MB/s) - ‘covtype.csv.6’ saved [75170064/75170064]\n",
            "\n"
          ]
        }
      ]
    },
    {
      "cell_type": "code",
      "source": [
        "def validation(rede, X_test_std,y_test, p = True):\n",
        "  y_pred = rede.predict(X_test_std)\n",
        "  cmatrix = confusion_matrix(y_test,y_pred)\n",
        "  \n",
        "  #6.2 Acurácia\n",
        "  acc = balanced_accuracy_score(y_test,y_pred,adjusted=False)\n",
        "  \n",
        "\n",
        "  #6.4 Precisão\n",
        "  pre = precision_score(y_test,y_pred,average='weighted')\n",
        "  \n",
        "\n",
        "  #6.5 Revocação \n",
        "  rev = recall_score(y_test,y_pred,average='weighted')\n",
        "  \n",
        "\n",
        "  #6.3 F-Score\n",
        "  f1 = f1_score(y_test,y_pred,average='weighted')\n",
        "  \n",
        "\n",
        "  if (p):\n",
        "    print(\"Matriz de confusão:\\n\")\n",
        "    print(cmatrix)\n",
        "    print(\"\\nAcurácia: \",acc)\n",
        "    print(\"\\nPrecisão: \",pre)\n",
        "    print(\"\\nRevocação: \",rev)\n",
        "    print(\"\\nF-Score: \",f1)\n",
        "  return cmatrix, acc, pre, rev, f1"
      ],
      "metadata": {
        "id": "pDbjxX4yR2ME"
      },
      "execution_count": 3,
      "outputs": []
    },
    {
      "cell_type": "code",
      "source": [
        "df = pd.read_csv('/content/covtype.csv')"
      ],
      "metadata": {
        "id": "VbIl2vefHhaY"
      },
      "execution_count": 4,
      "outputs": []
    },
    {
      "cell_type": "code",
      "source": [
        "X = df[df.columns[0:10]]\n",
        "y = df[df.columns[-1]]"
      ],
      "metadata": {
        "id": "hqGFKkD5HjtK"
      },
      "execution_count": 5,
      "outputs": []
    },
    {
      "cell_type": "code",
      "source": [
        "X_train, X_test, y_train, y_test = train_test_split(X, y, test_size=0.3,train_size=0.7,random_state=42, shuffle=True)"
      ],
      "metadata": {
        "id": "7UXPHMFIHllz"
      },
      "execution_count": 6,
      "outputs": []
    },
    {
      "cell_type": "code",
      "source": [
        "X_train_std = (X_train - np.mean(X_train))/np.std(X_train)\n",
        "X_test_std = (X_test - np.mean(X_train))/np.std(X_train)"
      ],
      "metadata": {
        "id": "OJ6GdmTuHopV"
      },
      "execution_count": 7,
      "outputs": []
    },
    {
      "cell_type": "code",
      "source": [
        "#Melhores  6 Redes do Trabalho Anterior, por 15 Repetições\n",
        "#Conseguimos melhores resultados sem os atributos categóricos\n",
        "redes = [[] for i in range(6)] \n",
        "redes[0] = MLPClassifier(hidden_layer_sizes=(30,40),activation='logistic',max_iter=200,solver=\"adam\")\n",
        "redes[1] = MLPClassifier(hidden_layer_sizes=(10,15),activation='tanh',max_iter=200,solver=\"adam\")\n",
        "redes[2] = MLPClassifier(hidden_layer_sizes=(10,15),activation='relu',max_iter=150,solver=\"adam\")\n",
        "redes[3] = MLPClassifier(hidden_layer_sizes=(25,25),activation='tanh',max_iter=200,solver=\"adam\")\n",
        "redes[4] = MLPClassifier(hidden_layer_sizes=(25,25),activation='tanh',max_iter=100,solver=\"adam\")\n",
        "redes[5] = MLPClassifier(hidden_layer_sizes=(25,25),activation='relu',max_iter=100,solver=\"adam\")"
      ],
      "metadata": {
        "id": "5pgkpUEyWjiV"
      },
      "execution_count": 8,
      "outputs": []
    },
    {
      "cell_type": "code",
      "source": [
        "'''\n",
        "\n",
        "Rede de índice:  0\n",
        "Acurácia Média:  0.6625432510864768\n",
        "F-Score Médio:   0.8036498803809674\n",
        "\n",
        "Rede de índice:  1\n",
        "Acurácia Média:  0.5381018340996561\n",
        "F-Score Médio:   0.7439390815931607\n",
        "\n",
        "Rede de índice:  2\n",
        "Acurácia Média:  0.5429059643905464\n",
        "F-Score Médio:   0.7346680900384723\n",
        "\n",
        "Rede de índice:  3\n",
        "Acurácia Média:  0.6442603044172408\n",
        "F-Score Médio:   0.7942627494389778\n",
        "\n",
        "Rede de índice:  4\n",
        "Acurácia Média:  0.6311301344393269\n",
        "F-Score Médio:   0.7901136926854332\n",
        "\n",
        "Rede de índice:  5\n",
        "Acurácia Média:  0.6233769019863493\n",
        "F-Score Médio:   0.7740351681237906\n",
        "'''"
      ],
      "metadata": {
        "id": "lKIAF2OrcYmC",
        "colab": {
          "base_uri": "https://localhost:8080/",
          "height": 89
        },
        "outputId": "ce3cc5e2-03e7-4e93-d524-85f53b26e623"
      },
      "execution_count": 9,
      "outputs": [
        {
          "output_type": "execute_result",
          "data": {
            "application/vnd.google.colaboratory.intrinsic+json": {
              "type": "string"
            },
            "text/plain": [
              "'\\n\\nRede de índice:  0\\nAcurácia Média:  0.6625432510864768\\nF-Score Médio:   0.8036498803809674\\n\\nRede de índice:  1\\nAcurácia Média:  0.5381018340996561\\nF-Score Médio:   0.7439390815931607\\n\\nRede de índice:  2\\nAcurácia Média:  0.5429059643905464\\nF-Score Médio:   0.7346680900384723\\n\\nRede de índice:  3\\nAcurácia Média:  0.6442603044172408\\nF-Score Médio:   0.7942627494389778\\n\\nRede de índice:  4\\nAcurácia Média:  0.6311301344393269\\nF-Score Médio:   0.7901136926854332\\n\\nRede de índice:  5\\nAcurácia Média:  0.6233769019863493\\nF-Score Médio:   0.7740351681237906\\n'"
            ]
          },
          "metadata": {},
          "execution_count": 9
        }
      ]
    },
    {
      "cell_type": "code",
      "source": [
        "'''\n",
        "Hiperparâmetros\n",
        "A. Solver - ‘sgd’, ‘adam’\n",
        "B. Batch Size -  inteiro (default = batch_size=min(200, n_samples))\n",
        "C. Learning Rate Init - float (default=0.001)\n",
        "D. Paciência (n_iter_no_change) - inteiro (default=10)\n",
        "E. Épocas (max_iter) - inteiro (default=200)\n",
        "'''"
      ],
      "metadata": {
        "id": "SELscPNyV0xA",
        "colab": {
          "base_uri": "https://localhost:8080/",
          "height": 54
        },
        "outputId": "7cc9f397-5b58-49cf-cc9e-290562a1b675"
      },
      "execution_count": 10,
      "outputs": [
        {
          "output_type": "execute_result",
          "data": {
            "application/vnd.google.colaboratory.intrinsic+json": {
              "type": "string"
            },
            "text/plain": [
              "'\\nHiperparâmetros\\nA. Solver - ‘sgd’, ‘adam’\\nB. Batch Size -  inteiro (default = batch_size=min(200, n_samples))\\nC. Learning Rate Init - float (default=0.001)\\nD. Paciência (n_iter_no_change) - inteiro (default=10)\\nE. Épocas (max_iter) - inteiro (default=200)\\n'"
            ]
          },
          "metadata": {},
          "execution_count": 10
        }
      ]
    },
    {
      "cell_type": "code",
      "source": [
        "#2 possibilidades para os 5 parâmetros = 32 combinações possíveis\n",
        "parameters = {'solver':['sgd','adam'],'batch_size':[300,600],\n",
        "              'learning_rate_init':[0.0001,0.01],'n_iter_no_change':[5,25],\n",
        "              'max_iter':[100,300]}"
      ],
      "metadata": {
        "id": "S34_88ioIOvg"
      },
      "execution_count": 11,
      "outputs": []
    },
    {
      "cell_type": "code",
      "source": [
        "parameters = {'solver':['sgd','adam'],'max_iter':[1,3]}"
      ],
      "metadata": {
        "id": "cdUEqBhyh-om"
      },
      "execution_count": 12,
      "outputs": []
    },
    {
      "cell_type": "markdown",
      "metadata": {
        "id": "fQkRnl0xGp6z"
      },
      "source": [
        "## Validação Cruzada k-fold\n",
        "\n",
        "Na elaboração da busca em grid, vamos avaliar os modelos propostos segundo uma estratégia de validação cruzada ainda não explorada até o momento: a validação cruzada k-fold. Segundo a mesma, o conjunto de dados é particionado em k partes: a cada iteração, separa-se uma das partes para teste e o modelo é treinado com as k-1 partes remanescentes. Valores sugestivos de k na literatura são k = 3, 5 ou 10, pois o custo computacional desta validação dos modelos é alto. A métrica de desempenho é resultante da média dos desempenhos nas k iterações. A figura a seguir ilustra a ideia desta avaliação\n",
        "\n",
        "<img src = \"https://ethen8181.github.io/machine-learning/model_selection/img/kfolds.png\" width=600></img>\n",
        "\n",
        "Considerando a métrica de desempenho F1-Score, considere a validação cruzada 5-fold para aferir os resultados da busca em grande anterior."
      ]
    },
    {
      "cell_type": "code",
      "source": [
        "grids = [[] for i in range(6)]\n",
        "for i in range(len(redes)):\n",
        "  grids[i] = GridSearchCV(redes[i],parameters,n_jobs=-1,scoring='f1_weighted',cv=5)\n",
        "  grids[i].fit(X_train_std,y_train)"
      ],
      "metadata": {
        "id": "egp8fNwTX2Nh",
        "colab": {
          "base_uri": "https://localhost:8080/"
        },
        "outputId": "f89f749d-d3f8-44a7-f7b9-fcdb25c8fd22"
      },
      "execution_count": 13,
      "outputs": [
        {
          "output_type": "stream",
          "name": "stderr",
          "text": [
            "/usr/local/lib/python3.7/dist-packages/sklearn/neural_network/_multilayer_perceptron.py:696: ConvergenceWarning: Stochastic Optimizer: Maximum iterations (3) reached and the optimization hasn't converged yet.\n",
            "  ConvergenceWarning,\n",
            "/usr/local/lib/python3.7/dist-packages/sklearn/neural_network/_multilayer_perceptron.py:696: ConvergenceWarning: Stochastic Optimizer: Maximum iterations (3) reached and the optimization hasn't converged yet.\n",
            "  ConvergenceWarning,\n",
            "/usr/local/lib/python3.7/dist-packages/sklearn/neural_network/_multilayer_perceptron.py:696: ConvergenceWarning: Stochastic Optimizer: Maximum iterations (3) reached and the optimization hasn't converged yet.\n",
            "  ConvergenceWarning,\n",
            "/usr/local/lib/python3.7/dist-packages/sklearn/neural_network/_multilayer_perceptron.py:696: ConvergenceWarning: Stochastic Optimizer: Maximum iterations (3) reached and the optimization hasn't converged yet.\n",
            "  ConvergenceWarning,\n",
            "/usr/local/lib/python3.7/dist-packages/sklearn/neural_network/_multilayer_perceptron.py:696: ConvergenceWarning: Stochastic Optimizer: Maximum iterations (3) reached and the optimization hasn't converged yet.\n",
            "  ConvergenceWarning,\n",
            "/usr/local/lib/python3.7/dist-packages/sklearn/neural_network/_multilayer_perceptron.py:696: ConvergenceWarning: Stochastic Optimizer: Maximum iterations (3) reached and the optimization hasn't converged yet.\n",
            "  ConvergenceWarning,\n"
          ]
        }
      ]
    },
    {
      "cell_type": "code",
      "source": [
        "f1_cv = [[] for i in range(6)]\n",
        "for i in range(len(grids)):\n",
        "  print('Rede de índice: ',i)\n",
        "  print(\"Melhores parâmetros: \",grids[i].best_params_)\n",
        "  print(\"F1 usando os melhores parâmetros\",grids[i].score(X_train_std,y_train))\n",
        "  f1_cv[i] = grids[i].score(X_train_std,y_train)\n",
        "  print()\n"
      ],
      "metadata": {
        "colab": {
          "base_uri": "https://localhost:8080/"
        },
        "id": "24tBq4fCYaOd",
        "outputId": "0f330428-7e65-4ac0-a356-073a44556583"
      },
      "execution_count": 14,
      "outputs": [
        {
          "output_type": "stream",
          "name": "stdout",
          "text": [
            "Rede de índice:  0\n",
            "Melhores parâmetros:  {'max_iter': 3, 'solver': 'adam'}\n",
            "F1 usando os melhores parâmetros 0.6939821228123172\n",
            "\n",
            "Rede de índice:  1\n",
            "Melhores parâmetros:  {'max_iter': 3, 'solver': 'adam'}\n",
            "F1 usando os melhores parâmetros 0.6997848328589822\n",
            "\n",
            "Rede de índice:  2\n",
            "Melhores parâmetros:  {'max_iter': 3, 'solver': 'adam'}\n",
            "F1 usando os melhores parâmetros 0.6981330696048593\n",
            "\n",
            "Rede de índice:  3\n",
            "Melhores parâmetros:  {'max_iter': 3, 'solver': 'adam'}\n",
            "F1 usando os melhores parâmetros 0.7165606702042013\n",
            "\n",
            "Rede de índice:  4\n",
            "Melhores parâmetros:  {'max_iter': 3, 'solver': 'adam'}\n",
            "F1 usando os melhores parâmetros 0.7200353200319048\n",
            "\n",
            "Rede de índice:  5\n",
            "Melhores parâmetros:  {'max_iter': 3, 'solver': 'adam'}\n",
            "F1 usando os melhores parâmetros 0.7253447113719692\n",
            "\n"
          ]
        }
      ]
    },
    {
      "cell_type": "code",
      "metadata": {
        "id": "v4nUz3tQGp64"
      },
      "source": [
        "f1 = [0.8036498803809674, 0.7439390815931607,0.7346680900384723,0.7942627494389778,0.7901136926854332,0.7740351681237906]"
      ],
      "execution_count": 15,
      "outputs": []
    },
    {
      "cell_type": "code",
      "metadata": {
        "id": "0a4zUouWGp65",
        "colab": {
          "base_uri": "https://localhost:8080/",
          "height": 585
        },
        "outputId": "abba4825-0c44-4c47-c12a-08d9a2de8f27"
      },
      "source": [
        "labels = ['Rede 0', 'Rede 1', 'Rede 2', 'Rede 3', 'Rede 4','Rede 5']\n",
        "\n",
        "x = np.arange(len(labels))  # the label locations\n",
        "width = 0.35  # the width of the bars\n",
        "\n",
        "fig, ax = plt.subplots(figsize=(12,8))\n",
        "rects1 = ax.bar(x - width/2, f1, width, label='F-Score Antigo')\n",
        "rects2 = ax.bar(x + width/2, f1_cv, width, label='F-Score Novo')\n",
        "\n",
        "# Add some text for labels, title and custom x-axis tick labels, etc.\n",
        "ax.set_ylabel('Scores')\n",
        "ax.set_title('F1-Score usando Validação Cruzada 5-fold')\n",
        "ax.set_xticks(x)\n",
        "ax.set_xticklabels(labels)\n",
        "ax.legend()\n",
        "\n",
        "\n",
        "def autolabel(rects):\n",
        "    for rect in rects:\n",
        "        height = rect.get_height()\n",
        "        ax.annotate('{:.4f}'.format(height),\n",
        "                    xy=(rect.get_x() + rect.get_width() / 2, height),\n",
        "                    xytext=(0, 3),  # 3 points vertical offset\n",
        "                    textcoords=\"offset points\",\n",
        "                    ha='center', va='bottom')\n",
        "\n",
        "\n",
        "autolabel(rects1)\n",
        "autolabel(rects2)\n",
        "\n",
        "fig.tight_layout()\n",
        "\n",
        "plt.show()"
      ],
      "execution_count": 16,
      "outputs": [
        {
          "output_type": "display_data",
          "data": {
            "image/png": "[encoded data removed]",
            "text/plain": [
              "<Figure size 864x576 with 1 Axes>"
            ]
          },
          "metadata": {
            "needs_background": "light"
          }
        }
      ]
    },
    {
      "cell_type": "markdown",
      "metadata": {
        "id": "DvWawbr4Gp68"
      },
      "source": [
        "## Identificando a mellhor solução\n",
        "\n",
        "Como resultado da busca em grande com validação cruzada 5-fold, identifique o modelo otimizado com melhor desempenho para o problema. Apresente claramente este modelo, seus parâmetros, hiperparâmetros otimizados e resultados para cada um dos folds avaliados. Esta é a melhor solução identificada em decorrência deste projeto"
      ]
    },
    {
      "cell_type": "code",
      "metadata": {
        "id": "SWkEi2cBGp6-",
        "colab": {
          "base_uri": "https://localhost:8080/"
        },
        "outputId": "06da3bde-bfdf-4b15-9e3e-e0fdd83c7270"
      },
      "source": [
        "max_value = max(f1_cv)\n",
        "max_index = f1_cv.index(max_value)\n",
        "print(\"A rede com o maior F-Score foi a Rede\",max_index)\n",
        "print(\"Com F-Score de: \",max_value)"
      ],
      "execution_count": 17,
      "outputs": [
        {
          "output_type": "stream",
          "name": "stdout",
          "text": [
            "A rede com o maior F-Score foi a Rede 5\n",
            "Com F-Score de:  0.7253447113719692\n"
          ]
        }
      ]
    },
    {
      "cell_type": "code",
      "metadata": {
        "id": "e2lKsR6LGp7A",
        "colab": {
          "base_uri": "https://localhost:8080/"
        },
        "outputId": "efb39388-d503-4d9d-a94d-8d9d901a4ce9"
      },
      "source": [
        "print(\"Os parâmetros usados para chegar nesse resultado:\")\n",
        "print(\"Parâmetros da rede em sí: \",grids[max_index].estimator)\n",
        "print(\"Melhor combinação de parâmetros encontrados na busca em grade: \", grids[max_index].best_params_)\n",
        "\n"
      ],
      "execution_count": 18,
      "outputs": [
        {
          "output_type": "stream",
          "name": "stdout",
          "text": [
            "Os parâmetros usados para chegar nesse resultado:\n",
            "Parâmetros da rede em sí:  MLPClassifier(hidden_layer_sizes=(25, 25), max_iter=100)\n",
            "Melhor combinação de parâmetros encontrados na busca em grade:  {'max_iter': 3, 'solver': 'adam'}\n"
          ]
        }
      ]
    },
    {
      "cell_type": "code",
      "source": [
        "results = pd.DataFrame(grids[max_index].cv_results_)\n",
        "results"
      ],
      "metadata": {
        "colab": {
          "base_uri": "https://localhost:8080/",
          "height": 334
        },
        "id": "2SjR7WmuNp51",
        "outputId": "0d43d097-20c5-4a4b-e704-397b56c38293"
      },
      "execution_count": 19,
      "outputs": [
        {
          "output_type": "execute_result",
          "data": {
            "text/html": [
              "<div>\n",
              "<style scoped>\n",
              "    .dataframe tbody tr th:only-of-type {\n",
              "        vertical-align: middle;\n",
              "    }\n",
              "\n",
              "    .dataframe tbody tr th {\n",
              "        vertical-align: top;\n",
              "    }\n",
              "\n",
              "    .dataframe thead th {\n",
              "        text-align: right;\n",
              "    }\n",
              "</style>\n",
              "<table border=\"1\" class=\"dataframe\">\n",
              "  <thead>\n",
              "    <tr style=\"text-align: right;\">\n",
              "      <th></th>\n",
              "      <th>mean_fit_time</th>\n",
              "      <th>std_fit_time</th>\n",
              "      <th>mean_score_time</th>\n",
              "      <th>std_score_time</th>\n",
              "      <th>param_max_iter</th>\n",
              "      <th>param_solver</th>\n",
              "      <th>params</th>\n",
              "      <th>split0_test_score</th>\n",
              "      <th>split1_test_score</th>\n",
              "      <th>split2_test_score</th>\n",
              "      <th>split3_test_score</th>\n",
              "      <th>split4_test_score</th>\n",
              "      <th>mean_test_score</th>\n",
              "      <th>std_test_score</th>\n",
              "      <th>rank_test_score</th>\n",
              "    </tr>\n",
              "  </thead>\n",
              "  <tbody>\n",
              "    <tr>\n",
              "      <th>0</th>\n",
              "      <td>2.364426</td>\n",
              "      <td>0.023149</td>\n",
              "      <td>0.171674</td>\n",
              "      <td>0.004745</td>\n",
              "      <td>1</td>\n",
              "      <td>sgd</td>\n",
              "      <td>{'max_iter': 1, 'solver': 'sgd'}</td>\n",
              "      <td>0.646644</td>\n",
              "      <td>0.655874</td>\n",
              "      <td>0.656648</td>\n",
              "      <td>0.658510</td>\n",
              "      <td>0.658468</td>\n",
              "      <td>0.655229</td>\n",
              "      <td>0.004413</td>\n",
              "      <td>4</td>\n",
              "    </tr>\n",
              "    <tr>\n",
              "      <th>1</th>\n",
              "      <td>2.513894</td>\n",
              "      <td>0.024767</td>\n",
              "      <td>0.172053</td>\n",
              "      <td>0.005958</td>\n",
              "      <td>1</td>\n",
              "      <td>adam</td>\n",
              "      <td>{'max_iter': 1, 'solver': 'adam'}</td>\n",
              "      <td>0.699747</td>\n",
              "      <td>0.699172</td>\n",
              "      <td>0.699904</td>\n",
              "      <td>0.700890</td>\n",
              "      <td>0.701085</td>\n",
              "      <td>0.700160</td>\n",
              "      <td>0.000721</td>\n",
              "      <td>2</td>\n",
              "    </tr>\n",
              "    <tr>\n",
              "      <th>2</th>\n",
              "      <td>6.722883</td>\n",
              "      <td>0.021027</td>\n",
              "      <td>0.170172</td>\n",
              "      <td>0.004964</td>\n",
              "      <td>3</td>\n",
              "      <td>sgd</td>\n",
              "      <td>{'max_iter': 3, 'solver': 'sgd'}</td>\n",
              "      <td>0.676098</td>\n",
              "      <td>0.673746</td>\n",
              "      <td>0.680322</td>\n",
              "      <td>0.680021</td>\n",
              "      <td>0.678208</td>\n",
              "      <td>0.677679</td>\n",
              "      <td>0.002479</td>\n",
              "      <td>3</td>\n",
              "    </tr>\n",
              "    <tr>\n",
              "      <th>3</th>\n",
              "      <td>7.276518</td>\n",
              "      <td>0.100165</td>\n",
              "      <td>0.164869</td>\n",
              "      <td>0.025572</td>\n",
              "      <td>3</td>\n",
              "      <td>adam</td>\n",
              "      <td>{'max_iter': 3, 'solver': 'adam'}</td>\n",
              "      <td>0.717844</td>\n",
              "      <td>0.721825</td>\n",
              "      <td>0.722748</td>\n",
              "      <td>0.718357</td>\n",
              "      <td>0.722003</td>\n",
              "      <td>0.720555</td>\n",
              "      <td>0.002035</td>\n",
              "      <td>1</td>\n",
              "    </tr>\n",
              "  </tbody>\n",
              "</table>\n",
              "</div>"
            ],
            "text/plain": [
              "   mean_fit_time  std_fit_time  ...  std_test_score  rank_test_score\n",
              "0       2.364426      0.023149  ...        0.004413                4\n",
              "1       2.513894      0.024767  ...        0.000721                2\n",
              "2       6.722883      0.021027  ...        0.002479                3\n",
              "3       7.276518      0.100165  ...        0.002035                1\n",
              "\n",
              "[4 rows x 15 columns]"
            ]
          },
          "metadata": {},
          "execution_count": 19
        }
      ]
    },
    {
      "cell_type": "markdown",
      "metadata": {
        "id": "tmP2w_oxGp7B"
      },
      "source": [
        "## Empacotando a solução\n",
        "\n",
        "Suponha que você deve entregar este classificador ao órgão responsável por administrar o Roosevelt National Park. Para tanto, você deve fazer uma preparação do mesmo para utilização neste cenário. Uma vez que já identificou os melhores parâmetros e hiperparâmetros, o passo remanescente consiste em treinar o modelo com estes valores e todos os dados disponíveis, salvando o conjunto de pesos do modelo ao final para entrega ao cliente. Assim, finalize o projeto prático realizando tais passos.\n",
        "\n",
        "1. Consulte a documentação a seguir:\n",
        "https://scikit-learn.org/stable/modules/model_persistence.html  \n",
        "2. Treine o modelo com todos os dados  \n",
        "3. Salve o modelo em disco  \n",
        "4. Construa uma rotina que recupere o modelo em disco  \n",
        "5. Mostre que a rotina é funcional, fazendo previsões com todos os elementos do dataset e exibindo uma matriz de confusão das mesmas"
      ]
    },
    {
      "cell_type": "code",
      "metadata": {
        "id": "8ALqIOE8Gp7C",
        "colab": {
          "base_uri": "https://localhost:8080/"
        },
        "outputId": "ca62f4c1-8257-425c-e6ef-8d6030069077"
      },
      "source": [
        "#2\n",
        "#Pegando todos os dados\n",
        "X = df[df.columns[0:54]]\n",
        "y = df[df.columns[-1]]\n",
        "X_train, X_test, y_train, y_test = train_test_split(X, y, test_size=0.3,train_size=0.7,shuffle=True,random_state=42)\n",
        "X_train_std = (X_train - np.mean(X_train))/np.std(X_train)\n",
        "X_test_std = (X_test - np.mean(X_train))/np.std(X_train)\n",
        "\n",
        "#Colocando os melhores parâmetros na rede\n",
        "melhores_params = grids[max_index].best_params_\n",
        "melhor_rede = redes[max_index]\n",
        "melhor_rede.set_params(**melhores_params)\n",
        "\n",
        "#Treinando \n",
        "melhor_rede.fit(X_train_std,y_train)"
      ],
      "execution_count": 20,
      "outputs": [
        {
          "output_type": "stream",
          "name": "stderr",
          "text": [
            "/usr/local/lib/python3.7/dist-packages/sklearn/neural_network/_multilayer_perceptron.py:696: ConvergenceWarning: Stochastic Optimizer: Maximum iterations (3) reached and the optimization hasn't converged yet.\n",
            "  ConvergenceWarning,\n"
          ]
        },
        {
          "output_type": "execute_result",
          "data": {
            "text/plain": [
              "MLPClassifier(hidden_layer_sizes=(25, 25), max_iter=3)"
            ]
          },
          "metadata": {},
          "execution_count": 20
        }
      ]
    },
    {
      "cell_type": "code",
      "source": [
        "#3\n",
        "dump(melhor_rede, 'melhor_rede.joblib') "
      ],
      "metadata": {
        "colab": {
          "base_uri": "https://localhost:8080/"
        },
        "id": "ZqQ_oSZoNKNO",
        "outputId": "322172ce-a73d-4f53-b466-7d0cb596b311"
      },
      "execution_count": 21,
      "outputs": [
        {
          "output_type": "execute_result",
          "data": {
            "text/plain": [
              "['melhor_rede.joblib']"
            ]
          },
          "metadata": {},
          "execution_count": 21
        }
      ]
    },
    {
      "cell_type": "code",
      "source": [
        "#4\n",
        "melhor_rede1 = load('melhor_rede.joblib') "
      ],
      "metadata": {
        "id": "oNNJp6MCMZUP"
      },
      "execution_count": 22,
      "outputs": []
    },
    {
      "cell_type": "code",
      "source": [
        "#5\n",
        "validation(melhor_rede1,X_test_std, y_test)\n",
        "!"
      ],
      "metadata": {
        "colab": {
          "base_uri": "https://localhost:8080/"
        },
        "id": "WVjfg7-QRmIB",
        "outputId": "fbcfadb4-a75b-4502-87e4-aa2135c3abba"
      },
      "execution_count": 23,
      "outputs": [
        {
          "output_type": "stream",
          "name": "stdout",
          "text": [
            "Matriz de confusão:\n",
            "\n",
            "[[47189 15514     8     0    28    27   790]\n",
            " [10873 72928   636     4   158   424    55]\n",
            " [    0   995  9050   161    12   418     2]\n",
            " [    0     1   385   343     0    66     0]\n",
            " [  125  2216    78     0   499    23     0]\n",
            " [   20  1124  2561    59     0  1463     0]\n",
            " [ 1708    84     0     0     0     0  4277]]\n",
            "\n",
            "Acurácia:  0.5765901860189978\n",
            "\n",
            "Precisão:  0.7759568487017333\n",
            "\n",
            "Revocação:  0.7788059941252066\n",
            "\n",
            "F-Score:  0.7711091919435693\n"
          ]
        }
      ]
    }
  ]
}