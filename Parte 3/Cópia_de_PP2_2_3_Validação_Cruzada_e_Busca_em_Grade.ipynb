{
  "nbformat": 4,
  "nbformat_minor": 0,
  "metadata": {
    "kernelspec": {
      "display_name": "Python 3",
      "language": "python",
      "name": "python3"
    },
    "language_info": {
      "codemirror_mode": {
        "name": "ipython",
        "version": 3
      },
      "file_extension": ".py",
      "mimetype": "text/x-python",
      "name": "python",
      "nbconvert_exporter": "python",
      "pygments_lexer": "ipython3",
      "version": "3.6.10"
    },
    "colab": {
      "name": "Cópia de Cópia de PP2.2.3 - Validação Cruzada e Busca em Grade.ipynb",
      "provenance": [],
      "collapsed_sections": [],
      "include_colab_link": true
    }
  },
  "cells": [
    {
      "cell_type": "markdown",
      "metadata": {
        "id": "view-in-github",
        "colab_type": "text"
      },
      "source": [
        "<a href=\"https://colab.research.google.com/github/Alejandro-RL/Atividade_2.2/blob/main/Parte%203/C%C3%B3pia_de_PP2_2_3_Validac%CC%A7a%CC%83o_Cruzada_e_Busca_em_Grade.ipynb\" target=\"_parent\"><img src=\"https://colab.research.google.com/assets/colab-badge.svg\" alt=\"Open In Colab\"/></a>"
      ]
    },
    {
      "cell_type": "markdown",
      "source": [
        "\n",
        "\n",
        "* Adan Thierry Souza dos Santos - 1915080050\n",
        "* Alejandro da Rocha Loureiro - 1915080001\n",
        "* Fernando Araújo Alves Filho - 1915080063\n",
        "* Victor Brasil de Pina - 1915080079\n",
        "\n"
      ],
      "metadata": {
        "id": "5rSCehiDKw9J"
      }
    },
    {
      "cell_type": "markdown",
      "metadata": {
        "id": "DKvWUeHzGp6l"
      },
      "source": [
        "# Redes Neurais Artificiais 2021.1\n",
        "\n",
        "- **Disciplina**: Redes Neurais Artificiais 2021.1  \n",
        "- **Professora**: Elloá B. Guedes (ebgcosta@uea.edu.br)  \n",
        "- **Github**: http://github.com/elloa  \n",
        "        \n",
        "\n",
        "Levando em conta a base de dados **_Forest Cover Type_**, esta parte do Projeto Prático diz respeito à proposição e avaliação de múltiplas redes neurais artificiais do tipo feedforward multilayer perceptron para o problema da classificação multi-classe da cobertura florestal em uma área do Roosevelt National Forest.\n",
        "\n",
        "## Busca em Grade\n",
        "\n",
        "Uma maneira padrão de escolher os parâmetros de um modelo de Machine Learning é por meio de uma busca em grade via força bruta. O algoritmo da busca em grade é dado como segue:\n",
        "\n",
        "1. Escolha a métrica de desempenho que você deseja maximizar  \n",
        "2. Escolha o algoritmo de Machine Learning (exemplo: redes neurais artificiais). Em seguida, defina os parâmetros ou hiperparâmetros deste tipo de modelo sobre os quais você deseja otimizar (número de épocas, taxa de aprendizado, etc.) e construa um array de valores a serem testados para cada parâmetro ou hiperparâmetro.  \n",
        "3. Defina a grade de busca, a qual é dada como o produto cartesiano de cada parâmetro a ser testado. Por exemplo, para os arrays [50, 100, 1000] e [10, 15], tem-se que a grade é [(50,10), (50,15), (100,10), (100,15), (1000,10), (1000,15)].\n",
        "4. Para cada combinação de parâmetros a serem otimizados, utilize o conjunto de treinamento para realizar uma validação cruzada (holdout ou k-fold) e calcule a métrica de avaliação no conjunto de teste (ou conjuntos de teste)\n",
        "5. Escolha a combinação de parâmetros que maximizam a métrica de avaliação. Este é o modelo otimizado.\n",
        "\n",
        "Por que esta abordagem funciona? Porque a busca em grade efetua uma pesquisa extensiva sobre as possíveis combinações de valores para cada um dos parâmetros a serem ajustados. Para cada combinação, ela estima a performance do modelo em dados novos. Por fim, o modelo com melhor métrica de desempenho é escolhido. Tem-se então que este modelo é o que melhor pode vir a generalizar mediante dados nunca antes vistos.\n",
        "\n",
        "## Efetuando a Busca em Grade sobre Hiperparâmetros das Top-6 RNAs\n",
        "\n",
        "Considerando a etapa anterior do projeto prático, foram identificadas pelo menos 6 melhores Redes Neurais para o problema da classificação multi-classe da cobertura florestal no conjunto de dados selecionado. Algumas destas redes possuem atributos categóricos como variáveis preditoras, enquanto outras possuem apenas os atributos numéricos como preditores.\n",
        "\n",
        "A primeira etapa desta segunda parte do projeto consiste em trazer para este notebook estas seis arquiteturas, ressaltando:\n",
        "\n",
        "1. Número de neurônios ocultos por camada  \n",
        "2. Função de Ativação  \n",
        "3. Utilização ou não de atributos categóricos   \n",
        "4. Desempenho médio +- desvio padrão nos testes anteriores  \n",
        "5. Número de repetições que a equipe conseguiu realizar para verificar os resultados  \n",
        "\n",
        "Elabore uma busca em grade sobre estas arquiteturas que contemple variações nos hiperparâmetros a seguir, conforme documentação de [MLPClassifier](https://scikit-learn.org/stable/modules/generated/sklearn.neural_network.MLPClassifier.html)\n",
        "\n",
        "A. Solver  (Não usar o LBFGS, pois é mais adequado para datasets pequenos)  \n",
        "B. Batch Size  \n",
        "C. Learning Rate Init  \n",
        "D. Paciência (n_iter_no_change)  \n",
        "E. Épocas  \n",
        "\n",
        "Nesta busca em grande, contemple a utilização do objeto [GridSearchCV](https://scikit-learn.org/stable/modules/generated/sklearn.model_selection.GridSearchCV.html)"
      ]
    },
    {
      "cell_type": "code",
      "source": [
        "import pandas as pd\n",
        "import matplotlib.pyplot as plt\n",
        "import numpy as np\n",
        "from sklearn.model_selection import train_test_split\n",
        "from sklearn.neural_network import MLPClassifier\n",
        "from sklearn.metrics import confusion_matrix, balanced_accuracy_score,f1_score,precision_score,recall_score\n",
        "from sklearn.model_selection import GridSearchCV  \n",
        "from joblib import dump, load"
      ],
      "metadata": {
        "id": "xy6pfQZzPP4g"
      },
      "execution_count": 2,
      "outputs": []
    },
    {
      "cell_type": "code",
      "source": [
        "!wget https://www.dropbox.com/s/2j9euhvkl1njfzh/covtype.csv"
      ],
      "metadata": {
        "id": "5bTUH3m_Hgll"
      },
      "execution_count": null,
      "outputs": []
    },
    {
      "cell_type": "code",
      "source": [
        "def validation(rede, X_test_std,y_test, p = True):\n",
        "  y_pred = rede.predict(X_test_std)\n",
        "  cmatrix = confusion_matrix(y_test,y_pred)\n",
        "  \n",
        "  #6.2 Acurácia\n",
        "  acc = balanced_accuracy_score(y_test,y_pred,adjusted=False)\n",
        "  \n",
        "\n",
        "  #6.4 Precisão\n",
        "  pre = precision_score(y_test,y_pred,average='weighted')\n",
        "  \n",
        "\n",
        "  #6.5 Revocação \n",
        "  rev = recall_score(y_test,y_pred,average='weighted')\n",
        "  \n",
        "\n",
        "  #6.3 F-Score\n",
        "  f1 = f1_score(y_test,y_pred,average='weighted')\n",
        "  \n",
        "\n",
        "  if (p):\n",
        "    print(\"Matriz de confusão:\\n\")\n",
        "    print(cmatrix)\n",
        "    print(\"\\nAcurácia: \",acc)\n",
        "    print(\"\\nPrecisão: \",pre)\n",
        "    print(\"\\nRevocação: \",rev)\n",
        "    print(\"\\nF-Score: \",f1)\n",
        "  return cmatrix, acc, pre, rev, f1"
      ],
      "metadata": {
        "id": "pDbjxX4yR2ME"
      },
      "execution_count": 4,
      "outputs": []
    },
    {
      "cell_type": "code",
      "source": [
        "df = pd.read_csv('/content/covtype.csv')"
      ],
      "metadata": {
        "id": "VbIl2vefHhaY"
      },
      "execution_count": 5,
      "outputs": []
    },
    {
      "cell_type": "code",
      "source": [
        "X = df[df.columns[0:10]]\n",
        "y = df[df.columns[-1]]"
      ],
      "metadata": {
        "id": "hqGFKkD5HjtK"
      },
      "execution_count": 6,
      "outputs": []
    },
    {
      "cell_type": "code",
      "source": [
        "X_train, X_test, y_train, y_test = train_test_split(X, y, test_size=0.3,train_size=0.7,random_state=42, shuffle=True)"
      ],
      "metadata": {
        "id": "7UXPHMFIHllz"
      },
      "execution_count": 7,
      "outputs": []
    },
    {
      "cell_type": "code",
      "source": [
        "X_train_std = (X_train - np.mean(X_train))/np.std(X_train)\n",
        "X_test_std = (X_test - np.mean(X_train))/np.std(X_train)"
      ],
      "metadata": {
        "id": "OJ6GdmTuHopV"
      },
      "execution_count": 8,
      "outputs": []
    },
    {
      "cell_type": "code",
      "source": [
        "#Melhores  6 Redes do Trabalho Anterior, por 15 Repetições\n",
        "#Conseguimos melhores resultados sem os atributos categóricos\n",
        "redes = [[] for i in range(6)] \n",
        "redes[0] = MLPClassifier(hidden_layer_sizes=(30,40),activation='logistic',max_iter=200,solver=\"adam\")\n",
        "redes[1] = MLPClassifier(hidden_layer_sizes=(10,15),activation='tanh',max_iter=200,solver=\"adam\")\n",
        "redes[2] = MLPClassifier(hidden_layer_sizes=(10,15),activation='relu',max_iter=150,solver=\"adam\")\n",
        "redes[3] = MLPClassifier(hidden_layer_sizes=(25,25),activation='tanh',max_iter=200,solver=\"adam\")\n",
        "redes[4] = MLPClassifier(hidden_layer_sizes=(25,25),activation='tanh',max_iter=100,solver=\"adam\")\n",
        "redes[5] = MLPClassifier(hidden_layer_sizes=(25,25),activation='relu',max_iter=100,solver=\"adam\")"
      ],
      "metadata": {
        "id": "5pgkpUEyWjiV"
      },
      "execution_count": 9,
      "outputs": []
    },
    {
      "cell_type": "code",
      "source": [
        "'''\n",
        "\n",
        "Rede de índice:  0\n",
        "Acurácia Média:  0.6625432510864768\n",
        "F-Score Médio:   0.8036498803809674\n",
        "\n",
        "Rede de índice:  1\n",
        "Acurácia Média:  0.5381018340996561\n",
        "F-Score Médio:   0.7439390815931607\n",
        "\n",
        "Rede de índice:  2\n",
        "Acurácia Média:  0.5429059643905464\n",
        "F-Score Médio:   0.7346680900384723\n",
        "\n",
        "Rede de índice:  3\n",
        "Acurácia Média:  0.6442603044172408\n",
        "F-Score Médio:   0.7942627494389778\n",
        "\n",
        "Rede de índice:  4\n",
        "Acurácia Média:  0.6311301344393269\n",
        "F-Score Médio:   0.7901136926854332\n",
        "\n",
        "Rede de índice:  5\n",
        "Acurácia Média:  0.6233769019863493\n",
        "F-Score Médio:   0.7740351681237906\n",
        "'''"
      ],
      "metadata": {
        "id": "lKIAF2OrcYmC",
        "colab": {
          "base_uri": "https://localhost:8080/",
          "height": 89
        },
        "outputId": "865cd4f6-587e-4eea-d39b-244f6334bfa7"
      },
      "execution_count": 10,
      "outputs": [
        {
          "output_type": "execute_result",
          "data": {
            "application/vnd.google.colaboratory.intrinsic+json": {
              "type": "string"
            },
            "text/plain": [
              "'\\n\\nRede de índice:  0\\nAcurácia Média:  0.6625432510864768\\nF-Score Médio:   0.8036498803809674\\n\\nRede de índice:  1\\nAcurácia Média:  0.5381018340996561\\nF-Score Médio:   0.7439390815931607\\n\\nRede de índice:  2\\nAcurácia Média:  0.5429059643905464\\nF-Score Médio:   0.7346680900384723\\n\\nRede de índice:  3\\nAcurácia Média:  0.6442603044172408\\nF-Score Médio:   0.7942627494389778\\n\\nRede de índice:  4\\nAcurácia Média:  0.6311301344393269\\nF-Score Médio:   0.7901136926854332\\n\\nRede de índice:  5\\nAcurácia Média:  0.6233769019863493\\nF-Score Médio:   0.7740351681237906\\n'"
            ]
          },
          "metadata": {},
          "execution_count": 10
        }
      ]
    },
    {
      "cell_type": "code",
      "source": [
        "'''\n",
        "Hiperparâmetros\n",
        "A. Solver - ‘sgd’, ‘adam’\n",
        "B. Batch Size -  inteiro (default = batch_size=min(200, n_samples))\n",
        "C. Learning Rate Init - float (default=0.001)\n",
        "D. Paciência (n_iter_no_change) - inteiro (default=10)\n",
        "E. Épocas (max_iter) - inteiro (default=200)\n",
        "'''"
      ],
      "metadata": {
        "id": "SELscPNyV0xA",
        "colab": {
          "base_uri": "https://localhost:8080/",
          "height": 54
        },
        "outputId": "44b00cd9-fc83-44b1-c217-3ff57bb42600"
      },
      "execution_count": 11,
      "outputs": [
        {
          "output_type": "execute_result",
          "data": {
            "application/vnd.google.colaboratory.intrinsic+json": {
              "type": "string"
            },
            "text/plain": [
              "'\\nHiperparâmetros\\nA. Solver - ‘sgd’, ‘adam’\\nB. Batch Size -  inteiro (default = batch_size=min(200, n_samples))\\nC. Learning Rate Init - float (default=0.001)\\nD. Paciência (n_iter_no_change) - inteiro (default=10)\\nE. Épocas (max_iter) - inteiro (default=200)\\n'"
            ]
          },
          "metadata": {},
          "execution_count": 11
        }
      ]
    },
    {
      "cell_type": "code",
      "source": [
        "#2 possibilidades para os 5 parâmetros = 32 combinações possíveis\n",
        "parameters = {'solver':['sgd','adam'],'batch_size':[300,600],\n",
        "              'learning_rate_init':[0.0001,0.01],'n_iter_no_change':[5,25],\n",
        "              'max_iter':[1,3]}"
      ],
      "metadata": {
        "id": "S34_88ioIOvg"
      },
      "execution_count": 12,
      "outputs": []
    },
    {
      "cell_type": "markdown",
      "metadata": {
        "id": "fQkRnl0xGp6z"
      },
      "source": [
        "## Validação Cruzada k-fold\n",
        "\n",
        "Na elaboração da busca em grid, vamos avaliar os modelos propostos segundo uma estratégia de validação cruzada ainda não explorada até o momento: a validação cruzada k-fold. Segundo a mesma, o conjunto de dados é particionado em k partes: a cada iteração, separa-se uma das partes para teste e o modelo é treinado com as k-1 partes remanescentes. Valores sugestivos de k na literatura são k = 3, 5 ou 10, pois o custo computacional desta validação dos modelos é alto. A métrica de desempenho é resultante da média dos desempenhos nas k iterações. A figura a seguir ilustra a ideia desta avaliação\n",
        "\n",
        "<img src = \"https://ethen8181.github.io/machine-learning/model_selection/img/kfolds.png\" width=600></img>\n",
        "\n",
        "Considerando a métrica de desempenho F1-Score, considere a validação cruzada 5-fold para aferir os resultados da busca em grande anterior."
      ]
    },
    {
      "cell_type": "code",
      "source": [
        "grids = [[] for i in range(6)]\n",
        "for i in range(len(redes)):\n",
        "  grids[i] = GridSearchCV(redes[i],parameters,n_jobs=-1,scoring='f1_weighted',cv=5)\n",
        "  grids[i].fit(X_train_std,y_train)"
      ],
      "metadata": {
        "id": "egp8fNwTX2Nh"
      },
      "execution_count": null,
      "outputs": []
    },
    {
      "cell_type": "code",
      "source": [
        "f1_cv = [[] for i in range(6)]\n",
        "for i in range(len(grids)):\n",
        "  print('Rede de índice: ',i)\n",
        "  print(\"Melhores parâmetros: \",grids[i].best_params_)\n",
        "  print(\"F1 usando os melhores parâmetros\",grids[i].score(X_train_std,y_train))\n",
        "  f1_cv[i] = grids[i].score(X_train_std,y_train)\n",
        "  print()\n"
      ],
      "metadata": {
        "id": "24tBq4fCYaOd"
      },
      "execution_count": null,
      "outputs": []
    },
    {
      "cell_type": "code",
      "metadata": {
        "id": "v4nUz3tQGp64"
      },
      "source": [
        "f1 = [0.8036498803809674, 0.7439390815931607,0.7346680900384723,0.7942627494389778,0.7901136926854332,0.7740351681237906]"
      ],
      "execution_count": null,
      "outputs": []
    },
    {
      "cell_type": "code",
      "metadata": {
        "id": "0a4zUouWGp65"
      },
      "source": [
        "labels = ['Rede 0', 'Rede 1', 'Rede 2', 'Rede 3', 'Rede 4','Rede 5']\n",
        "\n",
        "x = np.arange(len(labels))  # the label locations\n",
        "width = 0.35  # the width of the bars\n",
        "\n",
        "fig, ax = plt.subplots(figsize=(12,8))\n",
        "rects1 = ax.bar(x - width/2, f1, width, label='F-Score Antigo')\n",
        "rects2 = ax.bar(x + width/2, f1_cv, width, label='F-Score Novo')\n",
        "\n",
        "# Add some text for labels, title and custom x-axis tick labels, etc.\n",
        "ax.set_ylabel('Scores')\n",
        "ax.set_title('F1-Score usando Validação Cruzada 5-fold')\n",
        "ax.set_xticks(x)\n",
        "ax.set_xticklabels(labels)\n",
        "ax.legend()\n",
        "\n",
        "\n",
        "def autolabel(rects):\n",
        "    for rect in rects:\n",
        "        height = rect.get_height()\n",
        "        ax.annotate('{:.4f}'.format(height),\n",
        "                    xy=(rect.get_x() + rect.get_width() / 2, height),\n",
        "                    xytext=(0, 3),  # 3 points vertical offset\n",
        "                    textcoords=\"offset points\",\n",
        "                    ha='center', va='bottom')\n",
        "\n",
        "\n",
        "autolabel(rects1)\n",
        "autolabel(rects2)\n",
        "\n",
        "fig.tight_layout()\n",
        "\n",
        "plt.show()"
      ],
      "execution_count": null,
      "outputs": []
    },
    {
      "cell_type": "markdown",
      "metadata": {
        "id": "DvWawbr4Gp68"
      },
      "source": [
        "## Identificando a mellhor solução\n",
        "\n",
        "Como resultado da busca em grande com validação cruzada 5-fold, identifique o modelo otimizado com melhor desempenho para o problema. Apresente claramente este modelo, seus parâmetros, hiperparâmetros otimizados e resultados para cada um dos folds avaliados. Esta é a melhor solução identificada em decorrência deste projeto"
      ]
    },
    {
      "cell_type": "code",
      "metadata": {
        "id": "SWkEi2cBGp6-"
      },
      "source": [
        "max_value = max(f1_cv)\n",
        "max_index = f1_cv.index(max_value)\n",
        "print(\"A rede com o maior F-Score foi a Rede\",max_index)\n",
        "print(\"Com F-Score de: \",max_value)"
      ],
      "execution_count": null,
      "outputs": []
    },
    {
      "cell_type": "code",
      "metadata": {
        "id": "e2lKsR6LGp7A"
      },
      "source": [
        "print(\"Os parâmetros usados para chegar nesse resultado:\")\n",
        "print(\"Parâmetros da rede em sí: \",grids[max_index].estimator)\n",
        "print(\"Melhor combinação de parâmetros encontrados na busca em grade: \", grids[max_index].best_params_)\n",
        "\n"
      ],
      "execution_count": null,
      "outputs": []
    },
    {
      "cell_type": "code",
      "source": [
        "results = pd.DataFrame(grids[max_index].cv_results_)\n",
        "results"
      ],
      "metadata": {
        "id": "2SjR7WmuNp51"
      },
      "execution_count": null,
      "outputs": []
    },
    {
      "cell_type": "markdown",
      "metadata": {
        "id": "tmP2w_oxGp7B"
      },
      "source": [
        "## Empacotando a solução\n",
        "\n",
        "Suponha que você deve entregar este classificador ao órgão responsável por administrar o Roosevelt National Park. Para tanto, você deve fazer uma preparação do mesmo para utilização neste cenário. Uma vez que já identificou os melhores parâmetros e hiperparâmetros, o passo remanescente consiste em treinar o modelo com estes valores e todos os dados disponíveis, salvando o conjunto de pesos do modelo ao final para entrega ao cliente. Assim, finalize o projeto prático realizando tais passos.\n",
        "\n",
        "1. Consulte a documentação a seguir:\n",
        "https://scikit-learn.org/stable/modules/model_persistence.html  \n",
        "2. Treine o modelo com todos os dados  \n",
        "3. Salve o modelo em disco  \n",
        "4. Construa uma rotina que recupere o modelo em disco  \n",
        "5. Mostre que a rotina é funcional, fazendo previsões com todos os elementos do dataset e exibindo uma matriz de confusão das mesmas"
      ]
    },
    {
      "cell_type": "code",
      "metadata": {
        "id": "8ALqIOE8Gp7C"
      },
      "source": [
        "#2\n",
        "#Pegando todos os dados\n",
        "X = df[df.columns[0:54]]\n",
        "y = df[df.columns[-1]]\n",
        "X_train, X_test, y_train, y_test = train_test_split(X, y, test_size=0.3,train_size=0.7,shuffle=True,random_state=42)\n",
        "X_train_std = (X_train - np.mean(X_train))/np.std(X_train)\n",
        "X_test_std = (X_test - np.mean(X_train))/np.std(X_train)\n",
        "\n",
        "#Colocando os melhores parâmetros na rede\n",
        "melhores_params = grids[max_index].best_params_\n",
        "melhor_rede = redes[max_index]\n",
        "melhor_rede.set_params(**melhores_params)\n",
        "\n",
        "#Treinando \n",
        "melhor_rede.fit(X_train_std,y_train)"
      ],
      "execution_count": null,
      "outputs": []
    },
    {
      "cell_type": "code",
      "source": [
        "#3\n",
        "dump(melhor_rede, 'melhor_rede.joblib') "
      ],
      "metadata": {
        "id": "ZqQ_oSZoNKNO"
      },
      "execution_count": null,
      "outputs": []
    },
    {
      "cell_type": "code",
      "source": [
        "#4\n",
        "melhor_rede1 = load('melhor_rede.joblib') "
      ],
      "metadata": {
        "id": "oNNJp6MCMZUP"
      },
      "execution_count": null,
      "outputs": []
    },
    {
      "cell_type": "code",
      "source": [
        "#5\n",
        "validation(melhor_rede1,X_test_std, y_test)\n",
        "!"
      ],
      "metadata": {
        "id": "WVjfg7-QRmIB"
      },
      "execution_count": null,
      "outputs": []
    }
  ]
}