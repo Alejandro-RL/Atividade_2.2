{
  "cells": [
    {
      "cell_type": "markdown",
      "metadata": {
        "id": "view-in-github",
        "colab_type": "text"
      },
      "source": [
        "<a href=\"https://colab.research.google.com/github/Alejandro-RL/Atividade_2.2/blob/main/Parte%202/PP2_2_2_Proposic%CC%A7a%CC%83o_e_Avaliac%CC%A7a%CC%83o_de_RNAs.ipynb\" target=\"_parent\"><img src=\"https://colab.research.google.com/assets/colab-badge.svg\" alt=\"Open In Colab\"/></a>"
      ]
    },
    {
      "cell_type": "markdown",
      "metadata": {
        "id": "0TNil5vpb95f"
      },
      "source": [
        "* Adan Thierry Souza dos Santos - 1915080050\n",
        "* Alejandro da Rocha Loureiro - 1915080001\n",
        "* Fernando Araújo Alves Filho - 1915080063\n",
        "* Victor Brasil de Pina - 1915080079\n"
      ]
    },
    {
      "cell_type": "markdown",
      "metadata": {
        "id": "lb0APdge-F5i"
      },
      "source": [
        "## Redes Neurais Artificiais 2021.1\n",
        "\n",
        "- **Disciplina**: Redes Neurais Artificiais 2021.1  \n",
        "- **Professora**: Elloá B. Guedes (ebgcosta@uea.edu.br)  \n",
        "- **Github**: http://github.com/elloa  \n",
        "        \n",
        "\n",
        "Levando em conta a base de dados **_Forest Cover Type_**, esta segunda parte do Projeto Prático 2.2 diz respeito à proposição e avaliação de múltiplas redes neurais artificiais do tipo feedforward multilayer perceptron para o problema da classificação multi-classe da cobertura florestal em uma área do Roosevelt National Forest.\n",
        "\n",
        "## Testando Redes Neurais sem os Atributos Categórios\n",
        "\n",
        "1. Abra a base de dados em questão\n",
        "2. Elimine todas as colunas relativas aos atributos categóricos\n",
        "3. Armazene o atributo alvo em uma variável y e os atributos preditores em uma variável X\n",
        "4. Efetue uma partição holdout 70/30 com o sklearn, distribuindo os exemplos de maneira aleatória\n",
        "5. Efetue o escalonamento dos atributos\n",
        "\n",
        "### Escalonando os atributos\n",
        "\n",
        "O treinamento de uma rede neural artificial é mais eficiente quando os valores que lhes são fornecidos como entrada são pequenos, pois isto favorece a convergência. Isto é feito escalonando-se todos os atributos para o intervalo [0,1], mas precisa ser feito de maneira cautelosa, para que informações do conjunto de teste não sejam fornecidas no treinamento.\n",
        "\n",
        "Há duas estratégias para tal escalonamento: normalização e padronização. Ambas possuem características particulares, vantagens e limitações, como é possível ver aqui: https://www.analyticsvidhya.com/blog/2020/04/feature-scaling-machine-learning-normalization-standardization/\n",
        "\n",
        "\n",
        "No nosso caso, vamos usar a padronização. Assim, com os atributos preditores do treinamento, isto é, X_train, deve-se subtrair a média e dividir pelo desvio padrão:\n",
        "\n",
        "X_train_std = (X_train - np.mean(X_train))/np.std(X_train)\n",
        "\n",
        "Em seguida, o mesmo deve ser feito com os atributos preditores do conjunto de testes, mas com padronização relativa ao conjunto de treinamento:\n",
        "\n",
        "X_test_std = (X_test - np.mean(X_train))/np.std(X_train)\n",
        "\n",
        "Se todo o conjunto X for utilizado na padronização, a rede neural receberá informações do conjunto de teste por meio da média e variância utilizada para preparar os dados de treinamento, o que não é desejável.\n",
        "\n",
        "\n",
        "### Continuando\n",
        "\n",
        "5. Treine uma rede neural multilayer perceptron para este problema com uma única camada e dez neurônios  \n",
        "    5.1 Utilize a função de ativação ReLU  \n",
        "    5.2 Utilize o solver Adam    \n",
        "    5.3 Imprima o passo a passo do treinamento    \n",
        "    5.4 Utilize o número máximo de épocas igual a 300  \n",
        "6. Com o modelo em questão, após o treinamento, apresente:  \n",
        "    6.1 Matriz de confusão para o conjunto de teste  \n",
        "    6.2 Acurácia  \n",
        "    6.3 F-Score  \n",
        "    6.4 Precisão  \n",
        "    6.5 Revocação  \n",
        "7. Repita o treinamento da mesma rede anterior sem imprimir o passo a passo (verbose False) por 100 vezes  \n",
        "    7.1 Cada uma destas repetições deve ser feita com uma nova partição Holdout  \n",
        "    7.2 Apresente a média e o desvio padrão da acurácia e do F-Score para o conjunto de treino  \n",
        "8. Repita por 100 vezes o treinamento desta mesma rede, mas utilizando o otimizador SGD  \n",
        "    8.1 Apresente a média e o desvio padrão da acurácia e do F-Score para o conjunto de treino  \n",
        "9. Houve influência da escolha do otimizador no desempenho da rede?"
      ]
    },
    {
      "cell_type": "markdown",
      "metadata": {
        "id": "pgBvsTZjKkmi"
      },
      "source": [
        "### Import"
      ]
    },
    {
      "cell_type": "code",
      "execution_count": 1,
      "metadata": {
        "id": "yFeTm9SqdCbk"
      },
      "outputs": [],
      "source": [
        "from IPython.display import clear_output\n",
        "import pandas as pd\n",
        "import matplotlib.pyplot as plt\n",
        "import numpy as np\n",
        "import matplotlib.pyplot as plt\n",
        "from sklearn.model_selection import train_test_split\n",
        "from sklearn.neural_network import MLPClassifier\n",
        "from sklearn.metrics import confusion_matrix, balanced_accuracy_score,f1_score,precision_score,recall_score"
      ]
    },
    {
      "cell_type": "markdown",
      "metadata": {
        "id": "Lj8aqNp4KobK"
      },
      "source": [
        "### Dataset"
      ]
    },
    {
      "cell_type": "code",
      "execution_count": null,
      "metadata": {
        "id": "ABP_oNft-F5q"
      },
      "outputs": [],
      "source": [
        "!wget https://www.dropbox.com/s/2j9euhvkl1njfzh/covtype.csv"
      ]
    },
    {
      "cell_type": "markdown",
      "metadata": {
        "id": "dF0Vjg3rOESI"
      },
      "source": [
        "## Questão 1"
      ]
    },
    {
      "cell_type": "code",
      "execution_count": 3,
      "metadata": {
        "id": "Q9STox4TddBi"
      },
      "outputs": [],
      "source": [
        "#1\n",
        "df = pd.read_csv('/content/covtype.csv')"
      ]
    },
    {
      "cell_type": "markdown",
      "metadata": {
        "id": "RLJ_IQUrOGwZ"
      },
      "source": [
        "##Questão 2 e 3\n",
        "### Definindo atributos preditores e atributo alvo"
      ]
    },
    {
      "cell_type": "code",
      "execution_count": 4,
      "metadata": {
        "id": "Jsyf4eoIdhre"
      },
      "outputs": [],
      "source": [
        "#2 e 3\n",
        "X = df[df.columns[0:10]]\n",
        "y = df[df.columns[-1]]"
      ]
    },
    {
      "cell_type": "markdown",
      "metadata": {
        "id": "9Ka9TJdEKu42"
      },
      "source": [
        "## Questão 4\n",
        "### Train/Test Split \n",
        "70/30"
      ]
    },
    {
      "cell_type": "code",
      "execution_count": 5,
      "metadata": {
        "id": "IAXrEXcdeSzm"
      },
      "outputs": [],
      "source": [
        "#4\n",
        "X_train, X_test, y_train, y_test = train_test_split(X, y, test_size=0.3,train_size=0.7,random_state=42, shuffle=True)"
      ]
    },
    {
      "cell_type": "markdown",
      "metadata": {
        "id": "gFhAYzI7LK-I"
      },
      "source": [
        "## Questão 5\n",
        "### Padronização"
      ]
    },
    {
      "cell_type": "code",
      "execution_count": 6,
      "metadata": {
        "id": "oEY4IzZfe6D1"
      },
      "outputs": [],
      "source": [
        "#5\n",
        "X_train_std = (X_train - np.mean(X_train))/np.std(X_train)\n",
        "X_test_std = (X_test - np.mean(X_train))/np.std(X_train)"
      ]
    },
    {
      "cell_type": "code",
      "execution_count": 7,
      "metadata": {
        "colab": {
          "base_uri": "https://localhost:8080/",
          "height": 488
        },
        "id": "CJDsvao8Y26u",
        "outputId": "bd743749-4acd-4f9a-8c54-1141477cf3cb"
      },
      "outputs": [
        {
          "output_type": "execute_result",
          "data": {
            "text/html": [
              "\n",
              "  <div id=\"df-50b963c6-d9d9-4d7d-9a4e-210c1796bb8f\">\n",
              "    <div class=\"colab-df-container\">\n",
              "      <div>\n",
              "<style scoped>\n",
              "    .dataframe tbody tr th:only-of-type {\n",
              "        vertical-align: middle;\n",
              "    }\n",
              "\n",
              "    .dataframe tbody tr th {\n",
              "        vertical-align: top;\n",
              "    }\n",
              "\n",
              "    .dataframe thead th {\n",
              "        text-align: right;\n",
              "    }\n",
              "</style>\n",
              "<table border=\"1\" class=\"dataframe\">\n",
              "  <thead>\n",
              "    <tr style=\"text-align: right;\">\n",
              "      <th></th>\n",
              "      <th>Elevation</th>\n",
              "      <th>Aspect</th>\n",
              "      <th>Slope</th>\n",
              "      <th>Horizontal_Distance_To_Hydrology</th>\n",
              "      <th>Vertical_Distance_To_Hydrology</th>\n",
              "      <th>Horizontal_Distance_To_Roadways</th>\n",
              "      <th>Hillshade_9am</th>\n",
              "      <th>Hillshade_Noon</th>\n",
              "      <th>Hillshade_3pm</th>\n",
              "      <th>Horizontal_Distance_To_Fire_Points</th>\n",
              "    </tr>\n",
              "  </thead>\n",
              "  <tbody>\n",
              "    <tr>\n",
              "      <th>110220</th>\n",
              "      <td>-1.213285</td>\n",
              "      <td>1.521970</td>\n",
              "      <td>-1.215756</td>\n",
              "      <td>-0.985653</td>\n",
              "      <td>-0.709902</td>\n",
              "      <td>-0.962484</td>\n",
              "      <td>-0.229567</td>\n",
              "      <td>0.541278</td>\n",
              "      <td>0.614032</td>\n",
              "      <td>-0.199579</td>\n",
              "    </tr>\n",
              "    <tr>\n",
              "      <th>363425</th>\n",
              "      <td>0.666947</td>\n",
              "      <td>-0.684312</td>\n",
              "      <td>-0.413945</td>\n",
              "      <td>-0.444373</td>\n",
              "      <td>0.182714</td>\n",
              "      <td>-0.831053</td>\n",
              "      <td>0.817019</td>\n",
              "      <td>-0.166989</td>\n",
              "      <td>-0.667745</td>\n",
              "      <td>-0.668463</td>\n",
              "    </tr>\n",
              "    <tr>\n",
              "      <th>111410</th>\n",
              "      <td>0.178158</td>\n",
              "      <td>1.039625</td>\n",
              "      <td>-0.280310</td>\n",
              "      <td>1.447756</td>\n",
              "      <td>-0.229263</td>\n",
              "      <td>2.016207</td>\n",
              "      <td>-0.864994</td>\n",
              "      <td>0.996592</td>\n",
              "      <td>1.346476</td>\n",
              "      <td>-0.496589</td>\n",
              "    </tr>\n",
              "    <tr>\n",
              "      <th>552313</th>\n",
              "      <td>-0.289224</td>\n",
              "      <td>0.512618</td>\n",
              "      <td>1.590582</td>\n",
              "      <td>-0.952706</td>\n",
              "      <td>-0.194931</td>\n",
              "      <td>0.389659</td>\n",
              "      <td>-0.939750</td>\n",
              "      <td>1.502497</td>\n",
              "      <td>1.241841</td>\n",
              "      <td>-0.500358</td>\n",
              "    </tr>\n",
              "    <tr>\n",
              "      <th>107881</th>\n",
              "      <td>0.745438</td>\n",
              "      <td>-1.068401</td>\n",
              "      <td>-1.082121</td>\n",
              "      <td>-0.364357</td>\n",
              "      <td>-0.349423</td>\n",
              "      <td>0.473647</td>\n",
              "      <td>0.293726</td>\n",
              "      <td>0.136554</td>\n",
              "      <td>-0.013777</td>\n",
              "      <td>1.807877</td>\n",
              "    </tr>\n",
              "    <tr>\n",
              "      <th>...</th>\n",
              "      <td>...</td>\n",
              "      <td>...</td>\n",
              "      <td>...</td>\n",
              "      <td>...</td>\n",
              "      <td>...</td>\n",
              "      <td>...</td>\n",
              "      <td>...</td>\n",
              "      <td>...</td>\n",
              "      <td>...</td>\n",
              "      <td>...</td>\n",
              "    </tr>\n",
              "    <tr>\n",
              "      <th>110268</th>\n",
              "      <td>0.795388</td>\n",
              "      <td>-0.764703</td>\n",
              "      <td>-0.146675</td>\n",
              "      <td>0.435797</td>\n",
              "      <td>-0.109103</td>\n",
              "      <td>0.411458</td>\n",
              "      <td>0.817019</td>\n",
              "      <td>-0.470532</td>\n",
              "      <td>-0.877015</td>\n",
              "      <td>1.774708</td>\n",
              "    </tr>\n",
              "    <tr>\n",
              "      <th>259178</th>\n",
              "      <td>0.759710</td>\n",
              "      <td>0.003476</td>\n",
              "      <td>1.991488</td>\n",
              "      <td>2.102000</td>\n",
              "      <td>4.199487</td>\n",
              "      <td>-0.766940</td>\n",
              "      <td>0.929153</td>\n",
              "      <td>0.237735</td>\n",
              "      <td>-1.164761</td>\n",
              "      <td>0.644713</td>\n",
              "    </tr>\n",
              "    <tr>\n",
              "      <th>365838</th>\n",
              "      <td>0.691921</td>\n",
              "      <td>1.173609</td>\n",
              "      <td>0.387866</td>\n",
              "      <td>0.308713</td>\n",
              "      <td>-0.091937</td>\n",
              "      <td>-0.674617</td>\n",
              "      <td>-1.537799</td>\n",
              "      <td>0.693049</td>\n",
              "      <td>1.634222</td>\n",
              "      <td>0.047678</td>\n",
              "    </tr>\n",
              "    <tr>\n",
              "      <th>131932</th>\n",
              "      <td>0.377955</td>\n",
              "      <td>1.718481</td>\n",
              "      <td>0.922406</td>\n",
              "      <td>-0.684419</td>\n",
              "      <td>-0.469582</td>\n",
              "      <td>1.522537</td>\n",
              "      <td>-1.313531</td>\n",
              "      <td>-1.077617</td>\n",
              "      <td>0.430921</td>\n",
              "      <td>-1.023518</td>\n",
              "    </tr>\n",
              "    <tr>\n",
              "      <th>121958</th>\n",
              "      <td>0.220971</td>\n",
              "      <td>-1.157725</td>\n",
              "      <td>0.254231</td>\n",
              "      <td>-0.985653</td>\n",
              "      <td>-0.675571</td>\n",
              "      <td>1.032713</td>\n",
              "      <td>-0.042676</td>\n",
              "      <td>-0.976436</td>\n",
              "      <td>-0.458475</td>\n",
              "      <td>0.387656</td>\n",
              "    </tr>\n",
              "  </tbody>\n",
              "</table>\n",
              "<p>406708 rows × 10 columns</p>\n",
              "</div>\n",
              "      <button class=\"colab-df-convert\" onclick=\"convertToInteractive('df-50b963c6-d9d9-4d7d-9a4e-210c1796bb8f')\"\n",
              "              title=\"Convert this dataframe to an interactive table.\"\n",
              "              style=\"display:none;\">\n",
              "        \n",
              "  <svg xmlns=\"http://www.w3.org/2000/svg\" height=\"24px\"viewBox=\"0 0 24 24\"\n",
              "       width=\"24px\">\n",
              "    <path d=\"M0 0h24v24H0V0z\" fill=\"none\"/>\n",
              "    <path d=\"M18.56 5.44l.94 2.06.94-2.06 2.06-.94-2.06-.94-.94-2.06-.94 2.06-2.06.94zm-11 1L8.5 8.5l.94-2.06 2.06-.94-2.06-.94L8.5 2.5l-.94 2.06-2.06.94zm10 10l.94 2.06.94-2.06 2.06-.94-2.06-.94-.94-2.06-.94 2.06-2.06.94z\"/><path d=\"M17.41 7.96l-1.37-1.37c-.4-.4-.92-.59-1.43-.59-.52 0-1.04.2-1.43.59L10.3 9.45l-7.72 7.72c-.78.78-.78 2.05 0 2.83L4 21.41c.39.39.9.59 1.41.59.51 0 1.02-.2 1.41-.59l7.78-7.78 2.81-2.81c.8-.78.8-2.07 0-2.86zM5.41 20L4 18.59l7.72-7.72 1.47 1.35L5.41 20z\"/>\n",
              "  </svg>\n",
              "      </button>\n",
              "      \n",
              "  <style>\n",
              "    .colab-df-container {\n",
              "      display:flex;\n",
              "      flex-wrap:wrap;\n",
              "      gap: 12px;\n",
              "    }\n",
              "\n",
              "    .colab-df-convert {\n",
              "      background-color: #E8F0FE;\n",
              "      border: none;\n",
              "      border-radius: 50%;\n",
              "      cursor: pointer;\n",
              "      display: none;\n",
              "      fill: #1967D2;\n",
              "      height: 32px;\n",
              "      padding: 0 0 0 0;\n",
              "      width: 32px;\n",
              "    }\n",
              "\n",
              "    .colab-df-convert:hover {\n",
              "      background-color: #E2EBFA;\n",
              "      box-shadow: 0px 1px 2px rgba(60, 64, 67, 0.3), 0px 1px 3px 1px rgba(60, 64, 67, 0.15);\n",
              "      fill: #174EA6;\n",
              "    }\n",
              "\n",
              "    [theme=dark] .colab-df-convert {\n",
              "      background-color: #3B4455;\n",
              "      fill: #D2E3FC;\n",
              "    }\n",
              "\n",
              "    [theme=dark] .colab-df-convert:hover {\n",
              "      background-color: #434B5C;\n",
              "      box-shadow: 0px 1px 3px 1px rgba(0, 0, 0, 0.15);\n",
              "      filter: drop-shadow(0px 1px 2px rgba(0, 0, 0, 0.3));\n",
              "      fill: #FFFFFF;\n",
              "    }\n",
              "  </style>\n",
              "\n",
              "      <script>\n",
              "        const buttonEl =\n",
              "          document.querySelector('#df-50b963c6-d9d9-4d7d-9a4e-210c1796bb8f button.colab-df-convert');\n",
              "        buttonEl.style.display =\n",
              "          google.colab.kernel.accessAllowed ? 'block' : 'none';\n",
              "\n",
              "        async function convertToInteractive(key) {\n",
              "          const element = document.querySelector('#df-50b963c6-d9d9-4d7d-9a4e-210c1796bb8f');\n",
              "          const dataTable =\n",
              "            await google.colab.kernel.invokeFunction('convertToInteractive',\n",
              "                                                     [key], {});\n",
              "          if (!dataTable) return;\n",
              "\n",
              "          const docLinkHtml = 'Like what you see? Visit the ' +\n",
              "            '<a target=\"_blank\" href=https://colab.research.google.com/notebooks/data_table.ipynb>data table notebook</a>'\n",
              "            + ' to learn more about interactive tables.';\n",
              "          element.innerHTML = '';\n",
              "          dataTable['output_type'] = 'display_data';\n",
              "          await google.colab.output.renderOutput(dataTable, element);\n",
              "          const docLink = document.createElement('div');\n",
              "          docLink.innerHTML = docLinkHtml;\n",
              "          element.appendChild(docLink);\n",
              "        }\n",
              "      </script>\n",
              "    </div>\n",
              "  </div>\n",
              "  "
            ],
            "text/plain": [
              "        Elevation    Aspect  ...  Hillshade_3pm  Horizontal_Distance_To_Fire_Points\n",
              "110220  -1.213285  1.521970  ...       0.614032                           -0.199579\n",
              "363425   0.666947 -0.684312  ...      -0.667745                           -0.668463\n",
              "111410   0.178158  1.039625  ...       1.346476                           -0.496589\n",
              "552313  -0.289224  0.512618  ...       1.241841                           -0.500358\n",
              "107881   0.745438 -1.068401  ...      -0.013777                            1.807877\n",
              "...           ...       ...  ...            ...                                 ...\n",
              "110268   0.795388 -0.764703  ...      -0.877015                            1.774708\n",
              "259178   0.759710  0.003476  ...      -1.164761                            0.644713\n",
              "365838   0.691921  1.173609  ...       1.634222                            0.047678\n",
              "131932   0.377955  1.718481  ...       0.430921                           -1.023518\n",
              "121958   0.220971 -1.157725  ...      -0.458475                            0.387656\n",
              "\n",
              "[406708 rows x 10 columns]"
            ]
          },
          "metadata": {},
          "execution_count": 7
        }
      ],
      "source": [
        "X_train_std"
      ]
    },
    {
      "cell_type": "markdown",
      "metadata": {
        "id": "mOqccry5LCG0"
      },
      "source": [
        "### Modelo"
      ]
    },
    {
      "cell_type": "code",
      "execution_count": 8,
      "metadata": {
        "colab": {
          "base_uri": "https://localhost:8080/"
        },
        "id": "vo4Z8pMPfygm",
        "outputId": "94e814eb-c0a8-43e8-83f6-533872cf395d"
      },
      "outputs": [
        {
          "output_type": "stream",
          "name": "stdout",
          "text": [
            "Iteration 1, loss = 0.97796298\n",
            "Iteration 2, loss = 0.71103124\n",
            "Iteration 3, loss = 0.69041675\n",
            "Iteration 4, loss = 0.68291265\n",
            "Iteration 5, loss = 0.67751866\n",
            "Iteration 6, loss = 0.67271831\n",
            "Iteration 7, loss = 0.66981802\n",
            "Iteration 8, loss = 0.66792920\n",
            "Iteration 9, loss = 0.66644756\n",
            "Iteration 10, loss = 0.66540990\n",
            "Iteration 11, loss = 0.66450811\n",
            "Iteration 12, loss = 0.66349983\n",
            "Iteration 13, loss = 0.66291347\n",
            "Iteration 14, loss = 0.66218223\n",
            "Iteration 15, loss = 0.66168144\n",
            "Iteration 16, loss = 0.66094735\n",
            "Iteration 17, loss = 0.66021539\n",
            "Iteration 18, loss = 0.65945762\n",
            "Iteration 19, loss = 0.65873748\n",
            "Iteration 20, loss = 0.65792527\n",
            "Iteration 21, loss = 0.65703754\n",
            "Iteration 22, loss = 0.65615734\n",
            "Iteration 23, loss = 0.65484772\n",
            "Iteration 24, loss = 0.65334666\n",
            "Iteration 25, loss = 0.65200478\n",
            "Iteration 26, loss = 0.65094428\n",
            "Iteration 27, loss = 0.64999758\n",
            "Iteration 28, loss = 0.64925113\n",
            "Iteration 29, loss = 0.64858599\n",
            "Iteration 30, loss = 0.64809011\n",
            "Iteration 31, loss = 0.64763879\n",
            "Iteration 32, loss = 0.64726894\n",
            "Iteration 33, loss = 0.64683703\n",
            "Iteration 34, loss = 0.64658807\n",
            "Iteration 35, loss = 0.64635866\n",
            "Iteration 36, loss = 0.64609431\n",
            "Iteration 37, loss = 0.64593545\n",
            "Iteration 38, loss = 0.64581369\n",
            "Iteration 39, loss = 0.64570639\n",
            "Iteration 40, loss = 0.64553076\n",
            "Iteration 41, loss = 0.64550039\n",
            "Iteration 42, loss = 0.64538319\n",
            "Iteration 43, loss = 0.64528175\n",
            "Iteration 44, loss = 0.64516408\n",
            "Iteration 45, loss = 0.64517979\n",
            "Iteration 46, loss = 0.64500272\n",
            "Iteration 47, loss = 0.64499524\n",
            "Iteration 48, loss = 0.64485976\n",
            "Iteration 49, loss = 0.64479137\n",
            "Iteration 50, loss = 0.64465193\n",
            "Iteration 51, loss = 0.64450460\n",
            "Iteration 52, loss = 0.64430767\n",
            "Iteration 53, loss = 0.64412063\n",
            "Iteration 54, loss = 0.64398803\n",
            "Iteration 55, loss = 0.64396611\n",
            "Iteration 56, loss = 0.64381798\n",
            "Iteration 57, loss = 0.64369295\n",
            "Iteration 58, loss = 0.64362534\n",
            "Iteration 59, loss = 0.64351997\n",
            "Iteration 60, loss = 0.64352823\n",
            "Iteration 61, loss = 0.64340168\n",
            "Iteration 62, loss = 0.64340080\n",
            "Iteration 63, loss = 0.64329403\n",
            "Iteration 64, loss = 0.64326546\n",
            "Iteration 65, loss = 0.64323659\n",
            "Iteration 66, loss = 0.64324905\n",
            "Iteration 67, loss = 0.64309442\n",
            "Iteration 68, loss = 0.64303507\n",
            "Iteration 69, loss = 0.64299275\n",
            "Iteration 70, loss = 0.64300496\n",
            "Iteration 71, loss = 0.64296558\n",
            "Iteration 72, loss = 0.64294664\n",
            "Iteration 73, loss = 0.64288239\n",
            "Iteration 74, loss = 0.64286717\n",
            "Iteration 75, loss = 0.64278359\n",
            "Iteration 76, loss = 0.64268357\n",
            "Iteration 77, loss = 0.64270974\n",
            "Iteration 78, loss = 0.64268078\n",
            "Iteration 79, loss = 0.64266809\n",
            "Iteration 80, loss = 0.64256824\n",
            "Iteration 81, loss = 0.64252770\n",
            "Iteration 82, loss = 0.64242520\n",
            "Iteration 83, loss = 0.64245969\n",
            "Iteration 84, loss = 0.64254298\n",
            "Iteration 85, loss = 0.64243314\n",
            "Iteration 86, loss = 0.64242638\n",
            "Iteration 87, loss = 0.64238862\n",
            "Iteration 88, loss = 0.64234961\n",
            "Iteration 89, loss = 0.64219718\n",
            "Iteration 90, loss = 0.64211385\n",
            "Iteration 91, loss = 0.64199863\n",
            "Iteration 92, loss = 0.64191846\n",
            "Iteration 93, loss = 0.64176206\n",
            "Iteration 94, loss = 0.64164796\n",
            "Iteration 95, loss = 0.64146261\n",
            "Iteration 96, loss = 0.64127751\n",
            "Iteration 97, loss = 0.64125878\n",
            "Iteration 98, loss = 0.64105313\n",
            "Iteration 99, loss = 0.64087409\n",
            "Iteration 100, loss = 0.64077868\n",
            "Iteration 101, loss = 0.64060540\n",
            "Iteration 102, loss = 0.64051668\n",
            "Iteration 103, loss = 0.64036558\n",
            "Iteration 104, loss = 0.64024700\n",
            "Iteration 105, loss = 0.64025077\n",
            "Iteration 106, loss = 0.64014761\n",
            "Iteration 107, loss = 0.64001842\n",
            "Iteration 108, loss = 0.63983905\n",
            "Iteration 109, loss = 0.63984121\n",
            "Iteration 110, loss = 0.63974080\n",
            "Iteration 111, loss = 0.63964047\n",
            "Iteration 112, loss = 0.63943834\n",
            "Iteration 113, loss = 0.63955174\n",
            "Iteration 114, loss = 0.63945139\n",
            "Iteration 115, loss = 0.63938365\n",
            "Iteration 116, loss = 0.63940267\n",
            "Iteration 117, loss = 0.63924319\n",
            "Iteration 118, loss = 0.63935939\n",
            "Iteration 119, loss = 0.63927352\n",
            "Iteration 120, loss = 0.63927611\n",
            "Iteration 121, loss = 0.63919353\n",
            "Iteration 122, loss = 0.63913652\n",
            "Iteration 123, loss = 0.63910446\n",
            "Iteration 124, loss = 0.63898989\n",
            "Iteration 125, loss = 0.63900712\n",
            "Iteration 126, loss = 0.63897486\n",
            "Iteration 127, loss = 0.63899250\n",
            "Iteration 128, loss = 0.63897750\n",
            "Iteration 129, loss = 0.63889318\n",
            "Iteration 130, loss = 0.63899741\n",
            "Iteration 131, loss = 0.63893287\n",
            "Iteration 132, loss = 0.63886302\n",
            "Iteration 133, loss = 0.63884563\n",
            "Iteration 134, loss = 0.63886443\n",
            "Iteration 135, loss = 0.63879117\n",
            "Training loss did not improve more than tol=0.000100 for 10 consecutive epochs. Stopping.\n"
          ]
        },
        {
          "output_type": "execute_result",
          "data": {
            "text/plain": [
              "MLPClassifier(hidden_layer_sizes=10, max_iter=300, verbose=True)"
            ]
          },
          "metadata": {},
          "execution_count": 8
        }
      ],
      "source": [
        "#5\n",
        "rede = MLPClassifier(hidden_layer_sizes=(10),activation='relu',max_iter=300,verbose=True)\n",
        "rede.fit(X_train_std,y_train)"
      ]
    },
    {
      "cell_type": "markdown",
      "metadata": {
        "id": "138irDLNLQSh"
      },
      "source": [
        "## Questão 6 - Validação da questão 5"
      ]
    },
    {
      "cell_type": "code",
      "execution_count": 9,
      "metadata": {
        "id": "MgZoRwPFLXtU"
      },
      "outputs": [],
      "source": [
        "## Essa função vai ser reutilizada posteriormente\n",
        "def validation(rede, X_test_std,y_test, p = True):\n",
        "  y_pred = rede.predict(X_test_std)\n",
        "  cmatrix = confusion_matrix(y_test,y_pred)\n",
        "  \n",
        "  #6.2 Acurácia\n",
        "  acc = balanced_accuracy_score(y_test,y_pred,adjusted=False)\n",
        "  \n",
        "\n",
        "  #6.4 Precisão\n",
        "  pre = precision_score(y_test,y_pred,average='weighted')\n",
        "  \n",
        "\n",
        "  #6.5 Revocação \n",
        "  rev = recall_score(y_test,y_pred,average='weighted')\n",
        "  \n",
        "\n",
        "  #6.3 F-Score\n",
        "  f1 = f1_score(y_test,y_pred,average='weighted')\n",
        "  \n",
        "\n",
        "  if (p):\n",
        "    print(\"Matriz de confusão:\\n\")\n",
        "    print(cmatrix)\n",
        "    print(\"\\nAcurácia: \",acc)\n",
        "    print(\"\\nPrecisão: \",pre)\n",
        "    print(\"\\nRevocação: \",rev)\n",
        "    print(\"\\nF-Score: \",f1)\n",
        "  return cmatrix, acc, pre, rev, f1"
      ]
    },
    {
      "cell_type": "code",
      "execution_count": 10,
      "metadata": {
        "colab": {
          "base_uri": "https://localhost:8080/"
        },
        "id": "MBOlwaBcL8_8",
        "outputId": "7cc73cf4-3f47-4ef5-b70d-0e711e6a9b81"
      },
      "outputs": [
        {
          "output_type": "stream",
          "name": "stdout",
          "text": [
            "Matriz de confusão:\n",
            "\n",
            "[[45939 16531     4     0    14    14  1054]\n",
            " [16182 67089   913     0   136   645   113]\n",
            " [    0  1865  7288   135     0  1350     0]\n",
            " [    0     4   298   368     0   125     0]\n",
            " [    3  2596    34     0   294    14     0]\n",
            " [    0  1457  1932    59     0  1779     0]\n",
            " [ 2697    35     0     0     0     0  3337]]\n",
            "\n",
            "Acurácia:  0.5213588620616247\n",
            "\n",
            "Precisão:  0.7200064857221942\n",
            "\n",
            "Revocação:  0.7234142647328805\n",
            "\n",
            "F-Score:  0.7171272774056595\n"
          ]
        }
      ],
      "source": [
        "validation(rede,X_test_std, y_test)\n",
        "!"
      ]
    },
    {
      "cell_type": "markdown",
      "metadata": {
        "id": "jYLLPk-nNRcl"
      },
      "source": [
        "## Questão 7- Repetir a mesma rede anterior 15x"
      ]
    },
    {
      "cell_type": "markdown",
      "metadata": {
        "id": "KDL3_HE3JVDp"
      },
      "source": [
        "### Train/Test split"
      ]
    },
    {
      "cell_type": "code",
      "execution_count": 12,
      "metadata": {
        "id": "NdE-ypknHMHp"
      },
      "outputs": [],
      "source": [
        "resultados = []\n",
        "for x in range(15):\n",
        "  #7 e 7.1\n",
        "  X_train, X_test, y_train, y_test = train_test_split(X, y, test_size= 0.3,train_size= 0.7, shuffle=True)\n",
        "  \n",
        "  ## Padronização\n",
        "  X_train_std = (X_train - np.mean(X_train))/np.std(X_train)\n",
        "  X_test_std = (X_test - np.mean(X_train))/np.std(X_train)\n",
        "  \n",
        "  ### Modelo\n",
        "  rede1 = MLPClassifier(hidden_layer_sizes=(10),activation='relu',max_iter=300,verbose=False)\n",
        "  rede1.fit(X_train_std,y_train)\n",
        "\n",
        "  resultados.append(validation(rede1, X_test_std, y_test, p = False))\n"
      ]
    },
    {
      "cell_type": "code",
      "execution_count": 13,
      "metadata": {
        "id": "T-LWEKG0HUnS",
        "colab": {
          "base_uri": "https://localhost:8080/"
        },
        "outputId": "6ba8c050-a12c-4ae8-d860-5b66e333ed74"
      },
      "outputs": [
        {
          "output_type": "stream",
          "name": "stdout",
          "text": [
            "(array([[45145, 17029,     2,     0,     0,    37,  1116],\n",
            "       [15957, 67294,  1122,     1,   152,   642,   116],\n",
            "       [    0,  1839,  7981,   135,     0,   666,     0],\n",
            "       [    0,     4,   373,   397,     0,    59,     0],\n",
            "       [   12,  2539,    38,     0,   303,    15,     0],\n",
            "       [    0,  1458,  2647,    73,     3,   989,     0],\n",
            "       [ 2973,    15,     0,     0,     0,     0,  3172]]), 0.5057729915761909, 0.7128419915801023, 0.71875, 0.7100593959704395)\n",
            "(array([[45713, 17173,     9,     0,    19,    13,   824],\n",
            "       [15071, 68130,   992,     0,    79,   488,    16],\n",
            "       [    0,  1772,  8041,   122,     0,   873,     0],\n",
            "       [    0,     8,   499,   149,     0,   153,     0],\n",
            "       [   21,  2519,    30,     0,   226,     3,     0],\n",
            "       [    0,  1511,  2660,    23,     0,  1015,     0],\n",
            "       [ 3402,    29,     0,     0,     0,     0,  2721]]), 0.45239428298867707, 0.7171712043810636, 0.7228462915366257, 0.7125093977825597)\n",
            "(array([[44685, 18038,    16,     0,     6,     8,   788],\n",
            "       [15325, 67966,  1349,     4,    60,   328,    14],\n",
            "       [    0,  1876,  7818,    96,     0,   943,     0],\n",
            "       [    0,     8,   445,   229,     0,   150,     0],\n",
            "       [   20,  2681,    24,     0,   143,    22,     0],\n",
            "       [    0,  1398,  2352,    40,     0,  1370,     0],\n",
            "       [ 2944,    36,     0,     0,     0,     0,  3122]]), 0.4760975293198423, 0.7157531453639868, 0.7190483293556086, 0.7097787590658329)\n",
            "(array([[44734, 17706,     3,     0,     4,    21,   800],\n",
            "       [14956, 68610,  1126,     2,    42,   419,    44],\n",
            "       [    0,  1804,  7955,   128,     0,   803,     0],\n",
            "       [    0,     7,   450,   309,     0,    74,     0],\n",
            "       [   36,  2635,    70,     0,   149,    13,     0],\n",
            "       [    0,  1391,  2588,    81,     0,  1142,     0],\n",
            "       [ 3041,    26,     0,     0,     0,     0,  3135]]), 0.4858138093121617, 0.7199361095323973, 0.7230700385533321, 0.7130272797953632)\n",
            "(array([[45919, 16603,     0,     0,    11,    15,  1036],\n",
            "       [16340, 67205,  1030,     0,    50,   514,    51],\n",
            "       [    0,  2024,  7464,   131,     0,  1098,     0],\n",
            "       [    0,     9,   340,   352,     0,   129,     0],\n",
            "       [    3,  2554,    27,     0,   143,     2,     0],\n",
            "       [    0,  1509,  2096,    81,     0,  1461,     0],\n",
            "       [ 3179,    23,     0,     0,     0,     0,  2905]]), 0.49193723090009817, 0.7159475911894795, 0.7197138333027354, 0.7115320770096504)\n",
            "(array([[45162, 17489,     0,     0,     0,    26,  1022],\n",
            "       [15800, 67529,   756,     0,    26,   728,    49],\n",
            "       [    0,  2100,  7082,   224,     0,  1356,     0],\n",
            "       [    0,     6,   291,   378,     0,   132,     0],\n",
            "       [    0,  2662,    24,     0,   165,    27,     0],\n",
            "       [    0,  1426,  2023,    64,     0,  1684,     0],\n",
            "       [ 3091,    27,     0,     0,     0,     0,  2955]]), 0.49984283908818167, 0.7162561408951461, 0.7168797044244538, 0.7091149699984587)\n",
            "(array([[46686, 15597,    12,     0,     4,    19,  1140],\n",
            "       [17168, 66207,  1055,     0,    92,   572,    65],\n",
            "       [    0,  1799,  7475,   206,     0,  1209,     0],\n",
            "       [    0,     4,   378,   270,     0,   173,     0],\n",
            "       [    0,  2654,    35,     0,   184,    27,     0],\n",
            "       [    0,  1324,  2164,    57,     0,  1548,     0],\n",
            "       [ 3004,    23,     0,     0,     0,     0,  3153]]), 0.4881899456211619, 0.7163973617315239, 0.7201383789241784, 0.7128387213371402)\n",
            "(array([[45884, 16762,     0,     0,     0,    17,   998],\n",
            "       [16042, 67426,   846,     1,    39,   563,    31],\n",
            "       [    0,  1864,  7410,   137,     0,  1250,     0],\n",
            "       [    0,     7,   468,   252,     0,   106,     0],\n",
            "       [    5,  2627,    48,     0,    74,    39,     0],\n",
            "       [    0,  1349,  2151,    33,     0,  1644,     0],\n",
            "       [ 3042,    29,     0,     0,     0,     0,  3160]]), 0.48046579928278843, 0.7180736219655917, 0.7220144116027171, 0.7135923917565904)\n",
            "(array([[43619, 18750,     0,     0,     1,    20,  1139],\n",
            "       [14774, 68821,   868,     0,    46,   474,    41],\n",
            "       [    0,  2043,  7316,    87,     0,  1256,     0],\n",
            "       [    0,    12,   363,   299,     0,   152,     0],\n",
            "       [   10,  2722,    37,     0,    81,    24,     0],\n",
            "       [    0,  1485,  2102,    69,     1,  1505,     0],\n",
            "       [ 2729,    38,     0,     0,     0,     0,  3420]]), 0.48773363284551424, 0.7125639131411161, 0.717487837341656, 0.7083526711347499)\n",
            "(array([[44195, 17879,     2,     0,     1,     8,  1338],\n",
            "       [15435, 67752,  1228,     2,    98,   427,    57],\n",
            "       [    0,  1793,  7841,   158,     0,   978,     0],\n",
            "       [    0,     1,   443,   293,     0,   120,     0],\n",
            "       [   26,  2604,    40,     0,   251,    21,     0],\n",
            "       [    0,  1500,  2471,    33,     0,  1192,     0],\n",
            "       [ 3140,    28,     0,     0,     0,     0,  2949]]), 0.480096363107689, 0.7090639324302099, 0.7141144207820819, 0.7050346895048226)\n",
            "(array([[45447, 17264,    11,     0,     0,    13,  1100],\n",
            "       [15857, 67422,   811,     0,    95,   489,    46],\n",
            "       [    0,  1945,  7551,    98,     0,  1081,     0],\n",
            "       [    0,     9,   432,   235,     0,   164,     0],\n",
            "       [    5,  2620,    36,     0,   182,    10,     0],\n",
            "       [    0,  1478,  2146,    53,     1,  1536,     0],\n",
            "       [ 2931,    33,     0,     0,     0,     0,  3203]]), 0.48180617669483616, 0.7158626315827524, 0.7204424453827795, 0.7121814660346203)\n",
            "(array([[44057, 17650,     1,     0,     9,     6,  1637],\n",
            "       [15800, 68092,   746,     3,    33,   436,    13],\n",
            "       [    0,  2207,  7092,   170,     0,  1267,     0],\n",
            "       [    0,     5,   234,   468,     0,   111,     0],\n",
            "       [    7,  2627,    30,     0,   158,     4,     0],\n",
            "       [    0,  1628,  2053,    34,     0,  1553,     0],\n",
            "       [ 3082,    26,     0,     0,     0,     0,  3065]]), 0.5107432185754404, 0.7109445336714352, 0.7141832660179915, 0.7058237290214093)\n",
            "(array([[44453, 17224,     4,     0,     0,    17,  1730],\n",
            "       [15815, 67583,  1031,     0,    52,   507,    30],\n",
            "       [    0,  1788,  8135,    46,     0,   782,     0],\n",
            "       [    0,     4,   518,   216,     0,   121,     0],\n",
            "       [    7,  2689,    36,     0,   143,    26,     0],\n",
            "       [    0,  1464,  2487,    46,     0,  1177,     0],\n",
            "       [ 3125,    31,     0,     0,     0,     0,  3017]]), 0.4670592670972738, 0.7106563522743341, 0.7155544336331926, 0.7056385452913074)\n",
            "(array([[46505, 16242,     7,     0,     1,    14,   849],\n",
            "       [16921, 66556,  1001,     0,    29,   452,    14],\n",
            "       [    0,  1922,  7581,    63,     0,  1211,     0],\n",
            "       [    0,     5,   410,   274,     0,   171,     0],\n",
            "       [    2,  2713,    22,     0,    45,    17,     0],\n",
            "       [    1,  1486,  2198,    29,     0,  1363,     1],\n",
            "       [ 3059,    26,     0,     0,     0,     0,  3114]]), 0.474734365000801, 0.7153028060155422, 0.7196507251698182, 0.7106787093467788)\n",
            "(array([[45411, 16752,    10,     0,     0,    17,  1180],\n",
            "       [16061, 67513,   957,     0,    44,   535,   102],\n",
            "       [    0,  1968,  7810,    89,     0,   918,     0],\n",
            "       [    0,     5,   392,   279,     0,   107,     0],\n",
            "       [   16,  2616,    40,     0,   182,    10,     0],\n",
            "       [    0,  1463,  2241,    57,     0,  1376,     0],\n",
            "       [ 2599,    27,     0,     0,     0,     0,  3527]]), 0.4991422295204985, 0.7209013976216827, 0.7234372131448503, 0.7152742857588658)\n"
          ]
        }
      ],
      "source": [
        "for resultado in resultados:\n",
        "  print(resultado)"
      ]
    },
    {
      "cell_type": "markdown",
      "metadata": {
        "id": "wr2wyxS0Kcii"
      },
      "source": [
        "### 7.2 Média e Desvio Padrão  da acurácia e F-score"
      ]
    },
    {
      "cell_type": "markdown",
      "metadata": {
        "id": "0RgdsICRP56r"
      },
      "source": [
        "#### Media"
      ]
    },
    {
      "cell_type": "code",
      "execution_count": 14,
      "metadata": {
        "id": "VdnJH54GNvNl",
        "colab": {
          "base_uri": "https://localhost:8080/"
        },
        "outputId": "650b9af5-5e56-4b3a-ed9e-6e3d1506cf37"
      },
      "outputs": [
        {
          "output_type": "stream",
          "name": "stdout",
          "text": [
            "medias:\n",
            "Acurácia: 0.4854553120620771\n",
            "f1 score:0.7103624725872392\n"
          ]
        }
      ],
      "source": [
        "soma_acc = 0\n",
        "soma_f1score = 0\n",
        "for resultado in resultados:\n",
        "  soma_acc+= resultado[1]\n",
        "  soma_f1score+= resultado[4]\n",
        "media_acc = soma_acc/len(resultados)\n",
        "media_f1 = soma_f1score/len(resultados)\n",
        "print(f\"medias:\\nAcurácia: {media_acc}\\nf1 score:{media_f1}\")"
      ]
    },
    {
      "cell_type": "markdown",
      "metadata": {
        "id": "_FUL2Dj7P7h6"
      },
      "source": [
        "#### Desvio padrão"
      ]
    },
    {
      "cell_type": "code",
      "execution_count": 15,
      "metadata": {
        "id": "sApI7Yp3P84T",
        "colab": {
          "base_uri": "https://localhost:8080/"
        },
        "outputId": "9a4da41b-4769-483d-eb60-90000dd8d32d"
      },
      "outputs": [
        {
          "output_type": "stream",
          "name": "stdout",
          "text": [
            "desvio padrao:\n",
            "Acurácia: 0.025307368083555378\n",
            "f1 score:0.005186644257616843\n"
          ]
        }
      ],
      "source": [
        "somatorio_acc = 0\n",
        "somatorio_f1 = 0\n",
        "for resultado in resultados:\n",
        "  somatorio_acc += (resultado[1] - media_acc)**(2)\n",
        "  somatorio_f1 += (resultado[4] - media_f1)**(2)\n",
        "\n",
        "dp_acc = (somatorio_acc/len(resultado))**(1/2)\n",
        "dp_f1 = (somatorio_f1/len(resultado))**(1/2)\n",
        "print(f\"desvio padrao:\\nAcurácia: {dp_acc}\\nf1 score:{dp_f1}\")"
      ]
    },
    {
      "cell_type": "markdown",
      "metadata": {
        "id": "cBGeea4PTrZC"
      },
      "source": [
        "## Questão 8 - utilizando otimizador SGD"
      ]
    },
    {
      "cell_type": "code",
      "execution_count": 17,
      "metadata": {
        "id": "fbStKC9LN4QX",
        "colab": {
          "base_uri": "https://localhost:8080/"
        },
        "outputId": "7c4de17f-f745-49bb-9434-f929c91ffbc1"
      },
      "outputs": [
        {
          "output_type": "stream",
          "name": "stderr",
          "text": [
            "/usr/local/lib/python3.7/dist-packages/sklearn/metrics/_classification.py:1308: UndefinedMetricWarning: Precision is ill-defined and being set to 0.0 in labels with no predicted samples. Use `zero_division` parameter to control this behavior.\n",
            "  _warn_prf(average, modifier, msg_start, len(result))\n"
          ]
        }
      ],
      "source": [
        "resultados = []\n",
        "for x in range(15):\n",
        "  #7 e 7.1\n",
        "  X_train, X_test, y_train, y_test = train_test_split(X, y, test_size= 0.3,train_size= 0.7, shuffle=True)\n",
        "  \n",
        "  ## Padronização\n",
        "  X_train_std = (X_train - np.mean(X_train))/np.std(X_train)\n",
        "  X_test_std = (X_test - np.mean(X_train))/np.std(X_train)\n",
        "  \n",
        "  ### Modelo\n",
        "  rede1 = MLPClassifier(hidden_layer_sizes=(10),activation='relu',max_iter=300,verbose=False, solver = 'sgd')\n",
        "  rede1.fit(X_train_std,y_train)\n",
        "\n",
        "  resultados.append(validation(rede1, X_test_std, y_test, p = False))\n",
        "\n"
      ]
    },
    {
      "cell_type": "code",
      "execution_count": 18,
      "metadata": {
        "id": "YnBzpmCCJgRP",
        "colab": {
          "base_uri": "https://localhost:8080/"
        },
        "outputId": "bdfb583d-679b-4a14-8306-ac0854ade34b"
      },
      "outputs": [
        {
          "output_type": "stream",
          "name": "stdout",
          "text": [
            "(array([[44466, 17866,     4,     0,     2,    15,   966],\n",
            "       [15040, 68560,  1053,     0,     2,   440,    48],\n",
            "       [    0,  1873,  7998,    87,     0,   685,     0],\n",
            "       [    0,     5,   522,   159,     0,   141,     0],\n",
            "       [   13,  2727,    32,     0,    10,     7,     0],\n",
            "       [    0,  1404,  2727,    20,     0,  1111,     0],\n",
            "       [ 2851,    35,     0,     0,     0,     0,  3435]]), 0.4584824120929292, 0.7169897105486605, 0.7213775931705526, 0.7100293554934484)\n",
            "(array([[45247, 17057,    49,     0,     5,     7,  1221],\n",
            "       [16053, 67542,   922,     0,    16,   334,    22],\n",
            "       [    0,  2130,  7415,   102,     0,  1089,     0],\n",
            "       [    0,     5,   462,   121,     0,   241,     0],\n",
            "       [   24,  2727,    37,     0,   106,     1,     0],\n",
            "       [    0,  1602,  2210,    19,     0,  1285,     0],\n",
            "       [ 3381,    29,     0,     0,     0,     0,  2843]]), 0.4409019365666956, 0.7113263890718984, 0.7146078116394345, 0.7043132410087092)\n",
            "(array([[44683, 17314,     3,     0,     9,    19,  1613],\n",
            "       [15517, 67892,   922,     1,    42,   504,    64],\n",
            "       [    0,  2008,  7654,    91,     0,  1017,     0],\n",
            "       [    0,    10,   460,   229,     0,   124,     0],\n",
            "       [    5,  2714,    22,     0,   111,    17,     0],\n",
            "       [    0,  1561,  2382,    44,     0,  1175,     0],\n",
            "       [ 2711,    29,     0,     0,     0,     0,  3357]]), 0.47246089029522503, 0.7118611049075773, 0.7177173214613549, 0.7081721307571471)\n",
            "(array([[45056, 17055,    10,     0,     0,    23,  1206],\n",
            "       [16722, 66868,   977,     0,    15,   444,     9],\n",
            "       [    0,  1989,  7912,    68,     0,   854,     0],\n",
            "       [    0,     4,   513,   199,     0,   106,     0],\n",
            "       [    0,  2737,    27,     0,   111,     8,     0],\n",
            "       [    0,  1549,  2550,    23,     0,  1072,     0],\n",
            "       [ 3881,    20,     0,     0,     0,     0,  2296]]), 0.4408722203554021, 0.7057498225874077, 0.7086125390123004, 0.6972319607190044)\n",
            "(array([[43602, 18695,     4,     0,     0,     5,  1320],\n",
            "       [14523, 69007,  1083,     0,     3,   253,    17],\n",
            "       [    0,  1942,  7980,    74,     0,   731,     0],\n",
            "       [    0,     8,   557,   156,     0,    75,     0],\n",
            "       [   20,  2798,    11,     0,    11,     0,     0],\n",
            "       [    0,  1627,  2805,    27,     0,   822,     0],\n",
            "       [ 3463,    29,     0,     0,     0,     0,  2656]]), 0.43280804947392815, 0.707173303251334, 0.7127432531668808, 0.6989884329265639)\n",
            "(array([[45305, 17162,     1,     0,     9,    12,  1045],\n",
            "       [15437, 68084,   949,     0,    88,   362,    12],\n",
            "       [    0,  2201,  7336,   135,     0,  1156,     0],\n",
            "       [    0,     7,   554,   143,     0,   136,     0],\n",
            "       [    5,  2602,    10,     0,   192,     1,     0],\n",
            "       [    0,  1587,  2476,    14,     0,  1099,     0],\n",
            "       [ 3441,    28,     0,     0,     0,     0,  2715]]), 0.4403061298281776, 0.7098039010465074, 0.7164149990820635, 0.7062129942361689)\n",
            "(array([[43212, 18860,     1,     0,    30,     2,  1373],\n",
            "       [14368, 69316,   911,     0,    51,   314,    14],\n",
            "       [    0,  2033,  7595,   122,     0,  1013,     0],\n",
            "       [    0,     7,   438,   226,     0,   159,     0],\n",
            "       [   21,  2664,    19,     0,   177,    14,     0],\n",
            "       [    0,  1491,  2579,    19,     0,  1079,     0],\n",
            "       [ 3294,    33,     0,     0,     0,     0,  2869]]), 0.4581977832320979, 0.7076902960976357, 0.7141201578850743, 0.7033118054249288)\n",
            "(array([[43843, 18589,     1,     0,     0,    18,  1086],\n",
            "       [14111, 69638,   828,     0,     0,   329,     2],\n",
            "       [    0,  2384,  7041,   265,     0,  1052,     0],\n",
            "       [    0,     7,   409,   290,     0,   109,     0],\n",
            "       [   12,  2883,     7,     0,     9,     0,     0],\n",
            "       [    0,  1700,  2454,    59,     0,  1069,     0],\n",
            "       [ 3493,    29,     0,     0,     0,     0,  2587]]), 0.45006295160957616, 0.7128066592193261, 0.7141373691940518, 0.7015185228654199)\n",
            "(array([[44546, 17682,     2,     0,     0,    24,  1185],\n",
            "       [15688, 67845,  1081,     0,     2,   365,    13],\n",
            "       [    0,  2138,  7723,    97,     0,   786,     0],\n",
            "       [    0,     8,   509,   188,     0,   138,     0],\n",
            "       [    0,  2833,    10,     0,     0,     1,     0],\n",
            "       [    0,  1601,  2490,    16,     0,  1119,     0],\n",
            "       [ 3506,    53,     0,     0,     0,     0,  2655]]), 0.44051924948700677, 0.6949938566925367, 0.7118367908940701, 0.6998080903930669)\n",
            "(array([[45386, 16922,     1,     0,    26,     1,  1248],\n",
            "       [16589, 66726,  1127,     0,    93,   292,    29],\n",
            "       [    0,  2136,  7688,    96,     0,   855,     0],\n",
            "       [    0,    13,   565,   111,     0,    89,     0],\n",
            "       [   52,  2556,    16,     0,   235,     1,     0],\n",
            "       [    0,  1621,  2599,    11,     0,  1031,     0],\n",
            "       [ 3433,    40,     0,     0,     0,     0,  2716]]), 0.4390372708068985, 0.7044510279416321, 0.7107869010464476, 0.7004655762465439)\n",
            "(array([[43965, 18241,     1,     0,     2,    21,  1186],\n",
            "       [15041, 68572,   755,     0,    67,   512,    81],\n",
            "       [    0,  2145,  7396,    95,     0,  1292,     0],\n",
            "       [    0,    12,   524,   211,     0,    96,     0],\n",
            "       [   19,  2562,    21,     0,   203,    18,     0],\n",
            "       [    0,  1512,  2340,    40,     0,  1306,     0],\n",
            "       [ 2956,    28,     0,     0,     0,     0,  3084]]), 0.46546184485760417, 0.7112017503406733, 0.7156290159720947, 0.7066513875751317)\n",
            "(array([[44481, 17928,     4,     0,     0,    15,  1083],\n",
            "       [15097, 68324,  1210,     0,     0,   353,    46],\n",
            "       [    0,  1810,  8281,    92,     0,   385,     0],\n",
            "       [    0,     8,   471,   251,     0,    85,     0],\n",
            "       [    2,  2894,    27,     0,     0,    30,     0],\n",
            "       [    0,  1392,  2966,    51,     0,   846,     0],\n",
            "       [ 3095,    31,     0,     0,     0,     0,  3046]]), 0.4642815886268445, 0.7018001532520317, 0.7184516706443914, 0.705400052802005)\n",
            "(array([[45626, 16686,    29,     0,    12,     9,  1305],\n",
            "       [16281, 66971,  1318,     0,    65,   269,    18],\n",
            "       [    0,  2086,  7605,    99,     0,   964,     0],\n",
            "       [    0,     5,   477,   201,     0,   141,     0],\n",
            "       [   21,  2656,    28,     0,   111,     0,     0],\n",
            "       [    0,  1602,  2447,    24,     0,  1151,     0],\n",
            "       [ 3378,    35,     0,     0,     0,     0,  2684]]), 0.4509038440121339, 0.706497950157368, 0.7134030200110152, 0.7031548803609914)\n",
            "(array([[45318, 16973,     1,     0,    11,     1,  1178],\n",
            "       [15819, 67999,   808,     0,    40,   280,    66],\n",
            "       [    0,  2096,  7681,    51,     0,   915,     0],\n",
            "       [    0,     8,   548,   123,     0,   162,     0],\n",
            "       [   21,  2552,    33,     0,   173,    24,     0],\n",
            "       [    0,  1626,  2533,    10,     0,  1063,     0],\n",
            "       [ 3316,    27,     0,     0,     0,     0,  2848]]), 0.44284194233001334, 0.7135313157488077, 0.7183139801725721, 0.7075750183985435)\n",
            "(array([[45444, 16724,     6,     0,    13,    25,  1138],\n",
            "       [16461, 67199,   999,     0,    27,   503,    22],\n",
            "       [    0,  2016,  7659,    75,     0,  1015,     0],\n",
            "       [    0,     4,   575,   130,     0,   121,     0],\n",
            "       [    2,  2766,    23,     0,    11,    31,     0],\n",
            "       [    0,  1438,  2487,    10,     0,  1285,     0],\n",
            "       [ 3302,    31,     0,     0,     0,     0,  2762]]), 0.4396107850529997, 0.7017612756534258, 0.7142119515329539, 0.7035544714754661)\n"
          ]
        }
      ],
      "source": [
        "for resultado in resultados:\n",
        "  print(resultado)"
      ]
    },
    {
      "cell_type": "code",
      "execution_count": 19,
      "metadata": {
        "id": "M7ouuwV95UJ2",
        "colab": {
          "base_uri": "https://localhost:8080/"
        },
        "outputId": "5f87b81f-780b-494a-e2a5-5ccb9d756fd7"
      },
      "outputs": [
        {
          "output_type": "stream",
          "name": "stdout",
          "text": [
            "medias:\n",
            "Acurácia: 0.4491165932418355\n",
            "f1 score:0.7037591947122093\n",
            "desvio padrao:\n",
            "Acurácia: 0.02000329373849373\n",
            "f1 score:0.006134927870607552\n"
          ]
        }
      ],
      "source": [
        "soma_acc = 0\n",
        "soma_f1score = 0\n",
        "for resultado in resultados:\n",
        "  soma_acc+= resultado[1]\n",
        "  soma_f1score+= resultado[4]\n",
        "media_acc = soma_acc/len(resultados)\n",
        "media_f1 = soma_f1score/len(resultados)\n",
        "print(f\"medias:\\nAcurácia: {media_acc}\\nf1 score:{media_f1}\")\n",
        "\n",
        "\n",
        "\n",
        "somatorio_acc = 0\n",
        "somatorio_f1 = 0\n",
        "\n",
        "for resultado in resultados:\n",
        "  somatorio_acc += (resultado[1] - media_acc)**(2)\n",
        "  somatorio_f1 += (resultado[4] - media_f1)**(2)\n",
        "\n",
        "dp_acc = (somatorio_acc/len(resultado))**(1/2)\n",
        "dp_f1 = (somatorio_f1/len(resultado))**(1/2)\n",
        "print(f\"desvio padrao:\\nAcurácia: {dp_acc}\\nf1 score:{dp_f1}\")"
      ]
    },
    {
      "cell_type": "markdown",
      "metadata": {
        "id": "hizMEnIf5sTk"
      },
      "source": [
        "<h1>Houve influência da escolha do otimizador no desempenho da rede?"
      ]
    },
    {
      "cell_type": "markdown",
      "metadata": {
        "id": "4egI-5JG5wPU"
      },
      "source": [
        "R: Os resultados de acurácia foram semelhantes, mas o F1-Score do solver Adam foi maior que o do solver SGD. Quanto ao desvio-padrão, houve pouca variação entre as redes."
      ]
    },
    {
      "cell_type": "markdown",
      "metadata": {
        "id": "3HijGjlR-F5x"
      },
      "source": [
        "## Discussão\n",
        "\n",
        "Nos passos anteriores, você avaliou o desempenho de uma única rede neural que contém os seguintes parâmetros: uma única camada oculta com 10 neurônios e função de ativação ReLU. O otimizador utilizado, quer seja SGD ou ADAM, trata-se do algoritmo para aproximar o gradiente do erro. Neste sentido, a escolha do otimizador é um hiperparâmetro, pois diz respeito a como a rede neural definida previamente atuará \"em tempo de execução\"  durante o processo de treinamento. Também são hiperparâmetros a quantidade de épocas, a taxa de aprendizado inicial, dentre outros.\n",
        "\n",
        "Cabe alientar também que você efetuou o treinamento desta rede por 100 vezes e apresentou os resultados em termos de média +- desvio padrão. Lembre-se que em uma rede neural há a inicialização aleatória de pesos e, em consequência, o desempenho delas está sujeito à uma flutuação estocástica. A execução destas múltiplas vezes faz com que eliminemos algum viés introduzido por uma boa ou má \"sorte\" na escolha de pesos no caso de uma única execução.\n",
        "\n",
        "Você também aprendeu uma estratégia para escalonar os atributos para uma melhor convergência da rede. Utilize-a em todos os treinamentos e testes propostos a seguir.\n",
        "\n",
        "## Propondo Novas Arquiteturas\n",
        "\n",
        "Variando  os parâmetros (uma ou duas camadas ocultas, com diferente números de neurônios em cada uma delas e a função de ativação) e o hiperparâmetros solver (Adam ou SGD) e o número de épocas (100,150 e 200), atenda ao que se pede:\n",
        "\n",
        "1. Proponha 10 arquiteturas distintas de RNAs para o problema em questão, à sua escolha\n",
        "2. Avalie cada uma das arquiteturas perante todos os hiperparâmetros apresentados por 100 vezes\n",
        "3. Como resultado da avaliação, apresente:  \n",
        "    3.1 Top-3 melhores redes no tocante à F-Score e Acurácia  \n",
        "    3.2 Repetição em que houve o melhor desempenho de cada uma dessas redes: ilustre tp, tf, fp e fn  "
      ]
    },
    {
      "cell_type": "code",
      "execution_count": null,
      "metadata": {
        "id": "bPf0AfJ_-F52"
      },
      "outputs": [],
      "source": [
        "#1\n",
        "#Uma ou duas camadas ocultas\n",
        "#solver Adam ou SGD\n",
        "# épocas: 100, 150 ou 200\n",
        "redes = [[] for i in range(10)]\n",
        "redes[0] = MLPClassifier(hidden_layer_sizes=(10),activation='tanh',max_iter=100,solver=\"adam\")\n",
        "redes[1] = MLPClassifier(hidden_layer_sizes=(10),activation='relu',max_iter=150,solver=\"sgd\")\n",
        "redes[2] = MLPClassifier(hidden_layer_sizes=(10),activation='logistic',max_iter=200,solver=\"adam\")\n",
        "redes[3] = MLPClassifier(hidden_layer_sizes=(10,15),activation='identity',max_iter=100,solver=\"adam\")\n",
        "redes[4] = MLPClassifier(hidden_layer_sizes=(10,15),activation='relu',max_iter=150,solver=\"adam\")\n",
        "redes[5] = MLPClassifier(hidden_layer_sizes=(10,15),activation='tanh',max_iter=200,solver=\"adam\")\n",
        "redes[6] = MLPClassifier(hidden_layer_sizes=(20),activation='relu',max_iter=100,solver=\"adam\")\n",
        "redes[7] = MLPClassifier(hidden_layer_sizes=(20),activation='logistic',max_iter=150,solver=\"adam\")\n",
        "redes[8] = MLPClassifier(hidden_layer_sizes=(20),activation='identity',max_iter=200,solver=\"adam\")\n",
        "redes[9] = MLPClassifier(hidden_layer_sizes=(30,40),activation='logistic',max_iter=200,solver=\"adam\")"
      ]
    },
    {
      "cell_type": "code",
      "execution_count": null,
      "metadata": {
        "colab": {
          "background_save": true
        },
        "id": "-G3hcqLLhydf"
      },
      "outputs": [],
      "source": [
        "#2 Avaliar cada rede 15 vezes\n",
        "\n",
        "#métricas\n",
        "matriz_c = [[] for i in range(len(redes))]\n",
        "acc = [[] for i in range(len(redes))]\n",
        "pre = [[] for i in range(len(redes))]\n",
        "rev = [[] for i in range(len(redes))]\n",
        "f1 = [[] for i in range(len(redes))]\n",
        "\n",
        "for i in range(15):\n",
        "  #Inicialização\n",
        "  X_train, X_test, y_train, y_test = train_test_split(X, y, test_size=0.3,train_size=0.7,shuffle=True)\n",
        "\n",
        "  #Normalização\n",
        "  X_train_std = (X_train - np.mean(X_train))/np.std(X_train)\n",
        "  X_test_std = (X_test - np.mean(X_train))/np.std(X_train)\n",
        "\n",
        "  for j in range(len(redes)):\n",
        "    redes[j].fit(X_train_std,y_train)\n",
        "    a,b,c,d,e = validation(redes[j], X_test_std,y_test, p = False)\n",
        "\n",
        "    \n",
        "    matriz_c[j].append(a)\n",
        "    acc[j].append(b)\n",
        "    pre[j].append(c)\n",
        "    rev[j].append(d)\n",
        "    f1[j].append(e)\n",
        "\n",
        "\n",
        "\n"
      ]
    },
    {
      "cell_type": "code",
      "execution_count": null,
      "metadata": {
        "id": "rtrx0DLJScNt"
      },
      "outputs": [],
      "source": [
        "#3\n",
        "#3.1 Top-3 melhores redes no tocante à F-Score e Acurácia\n",
        "\n",
        "#Usando a média para descobrir a melhor rede\n",
        "acc_m =[[] for i in range(len(acc))]\n",
        "f1_m =[[] for i in range(len(f1))]\n",
        "resultado = [[] for i in range(len(f1))]\n",
        "indices = [i for i in range(len(f1))]\n",
        "#Média das Acurácias\n",
        "for i in range(len(acc)):\n",
        "  aux = 0\n",
        "  for j in range(len(acc[i])):\n",
        "    aux += acc[i][j]\n",
        "\n",
        "  acc_m[i] = (aux/(j+1))\n",
        "\n",
        "#Média dos F_Scores\n",
        "for i in range(len(f1)):\n",
        "  aux = 0\n",
        "  for j in range(len(f1[i])):\n",
        "    aux += f1[i][j]\n",
        "\n",
        "  f1_m[i] = (aux/(j+1))\n",
        "\n",
        "\n",
        "# Soma dos valores\n",
        "#As redes com maior soma de acurácia e f-score serão selecionadas\n",
        "for i in range(len(resultado)):\n",
        "  resultado[i] = acc_m[i] + f1_m[i]\n",
        "\n",
        "resultado1 = sorted(zip(resultado,indices), reverse=True)[:3]\n",
        "print(\"Melhores redes:\\n\")\n",
        "for i in resultado1:\n",
        "\n",
        "  print(\"Rede de índice: \",i[1])\n",
        "  print(\"Acurácia Média: \",acc_m[i[1]])\n",
        "  print(\"F-Score Médio: \",f1_m[i[1]])\n",
        "  print('')\n",
        "\n",
        "\n",
        "\n",
        "  "
      ]
    },
    {
      "cell_type": "code",
      "source": [
        "'''\n",
        "# Propondo Novas Arquiteturas -3- Melhores Redes das 10 sugeridas.\n",
        "============================================================================\n",
        "Melhores redes:\n",
        "\n",
        "Rede de índice:  9\n",
        "Acurácia Média:  0.6625432510864768\n",
        "F-Score Médio:  0.8036498803809674\n",
        "\n",
        "Rede de índice:  5\n",
        "Acurácia Média:  0.5381018340996561\n",
        "F-Score Médio:  0.7439390815931607\n",
        "\n",
        "Rede de índice:  4\n",
        "Acurácia Média:  0.5429059643905464\n",
        "F-Score Médio:  0.7346680900384723\n",
        "'''"
      ],
      "metadata": {
        "id": "7o7V0pfdSVnN"
      },
      "execution_count": null,
      "outputs": []
    },
    {
      "cell_type": "code",
      "execution_count": null,
      "metadata": {
        "id": "FXto7cTviIma"
      },
      "outputs": [],
      "source": [
        "#3.2 Repetição em que houve o melhor desempenho de cada uma dessas redes: ilustre tp, tf, fp e fn\n",
        "\n",
        "#Melhor desempenho = maior valor de f-score + acurácia\n",
        "desempenho = [[] for i in range(len(resultado1))]\n",
        "for i in range(len(resultado1)):\n",
        "  indice = resultado1[i][1]\n",
        "  for j in range(len(acc[indice])):\n",
        "    desempenho[i].append([acc[indice][j]+f1[indice][j],j])\n",
        "\n",
        "desempenho1 = []\n",
        "\n",
        "for i in range(len(desempenho)):\n",
        "  desempenho1.append(max(desempenho[i]))\n",
        "\n",
        "for i in range(len(resultado1)):\n",
        "  print(\"\\nO melhor desempenho da rede\",resultado1[i][1],\" foi na repetição:\",desempenho1[i][1]+1)\n",
        "  print(\"\\n Matriz de Confusão: \")\n",
        "  m = matriz_c[resultado1[i][1]][desempenho1[i][1]]\n",
        "  print(m)\n"
      ]
    },
    {
      "cell_type": "code",
      "source": [
        "'''\n",
        "O melhor desempenho da rede 9  foi na repetição: 13\n",
        "\n",
        " Matriz de Confusão: \n",
        "\n",
        "[[51531 10955     3     0    72    19   937]\n",
        " [11479 71887   872     4   401   459   145]\n",
        " [    2  1220  8427    79    17   870     0]\n",
        " [    0     1   191   532     0    77     0]\n",
        " [  150  1490    39     0  1061    30     0]\n",
        " [   53   849  1492    41    14  2734     0]\n",
        " [ 1470    41     0     0     0     0  4660]]\n",
        "\n",
        "O melhor desempenho da rede 5  foi na repetição: 6\n",
        "\n",
        " Matriz de Confusão: \n",
        "[[47099 15987     4     0    33    23   727]\n",
        " [13080 69654   965     4   263   772    85]\n",
        " [    0  1627  7839   251     0   935     0]\n",
        " [    0     2   242   486     0    59     0]\n",
        " [   85  2215    39     0   432    61     0]\n",
        " [    0   990  2255    82     0  1891     0]\n",
        " [ 2618    88     0     0     0     0  3411]]\n",
        "\n",
        "O melhor desempenho da rede 4  foi na repetição: 2\n",
        "\n",
        " Matriz de Confusão: \n",
        "[[45989 16159    10     0    14    32  1451]\n",
        " [14187 68868   782     0   176   678   149]\n",
        " [    0  1615  7849   193     6   974     0]\n",
        " [    0     9   271   510     0    53     0]\n",
        " [   34  2220    40     0   484    38     0]\n",
        " [    0  1109  2008    72     5  2060     0]\n",
        " [ 2192    57     0     0     0     0  4010]]\n",
        "'''"
      ],
      "metadata": {
        "id": "BY8WjNglScWP"
      },
      "execution_count": null,
      "outputs": []
    },
    {
      "cell_type": "markdown",
      "metadata": {
        "id": "SvN3sED_-F53"
      },
      "source": [
        "## Estimando o número de neurônios\n",
        "\n",
        "Um dos problemas de pesquisa com redes neurais artificiais consiste na determinação do número de neurônios em sua arquitetura. Embora não seja possível definir a priori qual rede neural é adequada para um problema, pois isto só é possível mediante uma busca exaustiva, há regras na literatura que sugerem o número de neurônios escondidos, tal como a regra da Pirâmide Geométrica, dada a seguir:\n",
        "\n",
        "$$N_h = \\alpha \\cdot \\sqrt{N_i \\cdot N_o},$$\n",
        "\n",
        "em que $N_h$ é o número de neurônios ocultos (a serem distribuídos em uma ou duas camadas ocultas), $N_i$ é o número de neurônios na camada de entrada e $N_o$ é o número de neurônios na camada de saída. \n",
        "\n",
        "1. Consulte a documentação da classe MLPClassifier (disponível em https://scikit-learn.org/stable/modules/generated/sklearn.neural_network.MLPClassifier.html) e obtenha os valores de $N_i$ e $N_o$.\n",
        "2. Teste os valores de $\\alpha$ como sendo iguais a $0.5$, $2$ e $3$.\n",
        "3. Proponha pelo menos 30 redes neurais segundo a regra da pirâmide geométrica e teste-as nos mesmos termos estabelecidos anterioremente  (solver, épocas, etc.)  \n",
        "    3.1 Apresente as top-3 melhores redes no tocante à F-Score e Acurácia  "
      ]
    },
    {
      "cell_type": "markdown",
      "metadata": {
        "id": "mE0ocJ2Q9Z0B"
      },
      "source": [
        "1.\\\n",
        "$N_i = 10$ \\\n",
        "$N_o = 7$"
      ]
    },
    {
      "cell_type": "markdown",
      "metadata": {
        "id": "JO4lUlmR-AbQ"
      },
      "source": [
        "2. \\\n",
        "$N_{h1} = 0.5 \\cdot \\sqrt{10 \\cdot 7} = 4 $ \\\n",
        "$N_{h2} = 2 \\cdot \\sqrt{10 \\cdot 7} = 16 $ \\\n",
        "$N_{h3} = 3 \\cdot \\sqrt{10 \\cdot 7} = 25 $"
      ]
    },
    {
      "cell_type": "code",
      "execution_count": null,
      "metadata": {
        "id": "U-9Uf7DG_DAH"
      },
      "outputs": [],
      "source": [
        "#3\n",
        "#Nh1 = 4\n",
        "redes1 = [[] for i in range(30)]\n",
        "redes1[0] = MLPClassifier(hidden_layer_sizes=(4),activation='tanh',max_iter=100,solver=\"adam\")\n",
        "redes1[1] = MLPClassifier(hidden_layer_sizes=(4),activation='relu',max_iter=150,solver=\"sgd\")\n",
        "redes1[2] = MLPClassifier(hidden_layer_sizes=(4),activation='logistic',max_iter=200,solver=\"adam\")\n",
        "redes1[3] = MLPClassifier(hidden_layer_sizes=(4),activation='identity',max_iter=100,solver=\"adam\")\n",
        "redes1[4] = MLPClassifier(hidden_layer_sizes=(4),activation='relu',max_iter=200,solver=\"adam\")\n",
        "redes1[5] = MLPClassifier(hidden_layer_sizes=(4,4),activation='tanh',max_iter=100,solver=\"adam\")\n",
        "redes1[6] = MLPClassifier(hidden_layer_sizes=(4,4),activation='relu',max_iter=100,solver=\"adam\")\n",
        "redes1[7] = MLPClassifier(hidden_layer_sizes=(4,4),activation='logistic',max_iter=150,solver=\"adam\")\n",
        "redes1[8] = MLPClassifier(hidden_layer_sizes=(4,4),activation='identity',max_iter=200,solver=\"adam\")\n",
        "redes1[9] = MLPClassifier(hidden_layer_sizes=(4,4),activation='tanh',max_iter=200,solver=\"adam\")"
      ]
    },
    {
      "cell_type": "code",
      "execution_count": null,
      "metadata": {
        "id": "op13cTS2WUMy"
      },
      "outputs": [],
      "source": [
        "#Nh2 = 16\n",
        "redes1[10] = MLPClassifier(hidden_layer_sizes=(16),activation='tanh',max_iter=100,solver=\"adam\")\n",
        "redes1[11] = MLPClassifier(hidden_layer_sizes=(16),activation='relu',max_iter=150,solver=\"sgd\")\n",
        "redes1[12] = MLPClassifier(hidden_layer_sizes=(16),activation='logistic',max_iter=200,solver=\"adam\")\n",
        "redes1[13] = MLPClassifier(hidden_layer_sizes=(16),activation='identity',max_iter=100,solver=\"adam\")\n",
        "redes1[14] = MLPClassifier(hidden_layer_sizes=(16),activation='relu',max_iter=200,solver=\"adam\")\n",
        "redes1[15] = MLPClassifier(hidden_layer_sizes=(16,16),activation='tanh',max_iter=100,solver=\"adam\")\n",
        "redes1[16] = MLPClassifier(hidden_layer_sizes=(16,16),activation='relu',max_iter=100,solver=\"adam\")\n",
        "redes1[17] = MLPClassifier(hidden_layer_sizes=(16,16),activation='logistic',max_iter=150,solver=\"adam\")\n",
        "redes1[18] = MLPClassifier(hidden_layer_sizes=(16,16),activation='identity',max_iter=200,solver=\"adam\")\n",
        "redes1[19] = MLPClassifier(hidden_layer_sizes=(16,16),activation='tanh',max_iter=200,solver=\"adam\")"
      ]
    },
    {
      "cell_type": "code",
      "execution_count": null,
      "metadata": {
        "id": "WQYiCcRLXfqs"
      },
      "outputs": [],
      "source": [
        "#Nh3 = 25\n",
        "redes1[20] = MLPClassifier(hidden_layer_sizes=(25),activation='tanh',max_iter=100,solver=\"adam\")\n",
        "redes1[21] = MLPClassifier(hidden_layer_sizes=(25),activation='relu',max_iter=150,solver=\"sgd\")\n",
        "redes1[22] = MLPClassifier(hidden_layer_sizes=(25),activation='logistic',max_iter=200,solver=\"adam\")\n",
        "redes1[23] = MLPClassifier(hidden_layer_sizes=(25),activation='identity',max_iter=100,solver=\"adam\")\n",
        "redes1[24] = MLPClassifier(hidden_layer_sizes=(25),activation='relu',max_iter=200,solver=\"adam\")\n",
        "redes1[25] = MLPClassifier(hidden_layer_sizes=(25,25),activation='tanh',max_iter=100,solver=\"adam\")\n",
        "redes1[26] = MLPClassifier(hidden_layer_sizes=(25,25),activation='relu',max_iter=100,solver=\"adam\")\n",
        "redes1[27] = MLPClassifier(hidden_layer_sizes=(25,25),activation='logistic',max_iter=150,solver=\"adam\")\n",
        "redes1[28] = MLPClassifier(hidden_layer_sizes=(25,25),activation='identity',max_iter=200,solver=\"adam\")\n",
        "redes1[29] = MLPClassifier(hidden_layer_sizes=(25,25),activation='tanh',max_iter=200,solver=\"adam\")"
      ]
    },
    {
      "cell_type": "code",
      "execution_count": null,
      "metadata": {
        "id": "Nmfwl9ulXzIr"
      },
      "outputs": [],
      "source": [
        "#3.1\n",
        "#2 Avaliar cada rede 15 vezes\n",
        "\n",
        "#métricas\n",
        "matriz_c = [[] for i in range(len(redes1))]\n",
        "acc = [[] for i in range(len(redes1))]\n",
        "pre = [[] for i in range(len(redes1))]\n",
        "rev = [[] for i in range(len(redes1))]\n",
        "f1 = [[] for i in range(len(redes1))]\n",
        "\n",
        "for i in range(15):\n",
        "  #Inicialização\n",
        "  X_train, X_test, y_train, y_test = train_test_split(X, y, test_size=0.3,train_size=0.7,shuffle=True)\n",
        "\n",
        "  #Normalização\n",
        "  X_train_std = (X_train - np.mean(X_train))/np.std(X_train)\n",
        "  X_test_std = (X_test - np.mean(X_train))/np.std(X_train)\n",
        "\n",
        "  for j in range(len(redes1)):\n",
        "    redes1[j].fit(X_train_std,y_train)\n",
        "    a,b,c,d,e = validation(redes1[j], X_test_std,y_test, p = False)\n",
        "\n",
        "    \n",
        "    matriz_c[j].append(a)\n",
        "    acc[j].append(b)\n",
        "    pre[j].append(c)\n",
        "    rev[j].append(d)\n",
        "    f1[j].append(e)\n"
      ]
    },
    {
      "cell_type": "code",
      "execution_count": null,
      "metadata": {
        "id": "mOwo3MTGaQct"
      },
      "outputs": [],
      "source": [
        "#-------------------------------------------------------------------------------\n",
        "#Usando a média para descobrir a melhor rede\n",
        "acc_m =[[] for i in range(len(acc))]\n",
        "f1_m =[[] for i in range(len(f1))]\n",
        "resultado = [[] for i in range(len(f1))]\n",
        "indices = [i for i in range(len(f1))]\n",
        "#Média das Acurácias\n",
        "for i in range(len(acc)):\n",
        "  aux = 0\n",
        "  for j in range(len(acc[i])):\n",
        "    aux += acc[i][j]\n",
        "  acc_m[i] = (aux/(j+1))\n",
        "\n",
        "#Média dos F_Scores\n",
        "for i in range(len(f1)):\n",
        "  aux = 0\n",
        "  for j in range(len(f1[i])):\n",
        "    aux += f1[i][j]\n",
        "\n",
        "  f1_m[i] = (aux/(j+1))\n",
        "\n",
        "\n",
        "# Soma dos valores\n",
        "#As redes com maior soma de acurácia e f-score serão selecionadas\n",
        "for i in range(len(resultado)):\n",
        "  resultado[i] = acc_m[i] + f1_m[i]\n",
        "\n",
        "resultado2 = sorted(zip(resultado,indices), reverse=True)[:3]\n",
        "\n",
        "print(\"Melhores redes:\\n\")\n",
        "for i in resultado2:\n",
        "  \n",
        "  print(\"Rede de índice: \",i[1])\n",
        "  print(\"Acurácia Média: \",acc_m[i[1]])\n",
        "  print(\"F-Score Médio: \",f1_m[i[1]])\n",
        "  print('')\n"
      ]
    },
    {
      "cell_type": "code",
      "source": [
        "'''\n",
        "# Estimando o número de neurônios - As 3 melhores redes das 30 propostas.\n",
        "============================================================================\n",
        "Melhores redes:\n",
        "\n",
        "Rede de índice:  29\n",
        "Acurácia Média:  0.6442603044172408\n",
        "F-Score Médio:  0.7942627494389778\n",
        "\n",
        "Rede de índice:  25\n",
        "Acurácia Média:  0.6311301344393269\n",
        "F-Score Médio:  0.7901136926854332\n",
        "\n",
        "Rede de índice:  26\n",
        "Acurácia Média:  0.6233769019863493\n",
        "F-Score Médio:  0.7740351681237906\n",
        "'''"
      ],
      "metadata": {
        "id": "n3cF-JUcTDIR"
      },
      "execution_count": null,
      "outputs": []
    },
    {
      "cell_type": "code",
      "source": [
        ""
      ],
      "metadata": {
        "id": "T6u82vU5Ubdq"
      },
      "execution_count": null,
      "outputs": []
    },
    {
      "cell_type": "markdown",
      "metadata": {
        "id": "AzvYR61K-F56"
      },
      "source": [
        "## Testando as Redes Neurais com Atributos Categóricos\n",
        "\n",
        "1. Considere as 6 redes neurais obtidas nos dois top-3 anteriores (arquiteturas próprias e regra da pirâmide geométrica)\n",
        "2. Com todos os atributos preditores da base de dados original, incluindo os categóricos, treine e teste estas mesmas redes por 100 repetições  \n",
        "    2.1 Considere o melhor otimizador para cada uma delas  \n",
        "    2.2 Faça uso de 200 épocas para treinamento  \n",
        "    2.2 Apresente os resultados de acurácia e F-Score em termos da média +- dp para cada arquitetura\n",
        "3. Apresente o gráfico boxplot para o F-Score das 6 arquiteturas perante as 100 repetições"
      ]
    },
    {
      "cell_type": "code",
      "execution_count": null,
      "metadata": {
        "id": "rjPQsqay-F58"
      },
      "outputs": [],
      "source": [
        "#1\n",
        "redes2 = []\n",
        "for i in range(len(resultado1)):  \n",
        "  redes2.append(redes[resultado1[i][1]])\n",
        "\n",
        "for i in range(len(resultado2)):\n",
        "  redes2.append(redes1[resultado2[i][1]])\n",
        "\n",
        "#2.1\n",
        "for i in range(len(redes2)):\n",
        "  redes2[i].max_iter=200\n",
        "\n"
      ]
    },
    {
      "cell_type": "code",
      "execution_count": null,
      "metadata": {
        "id": "OVtjKANUegzA"
      },
      "outputs": [],
      "source": [
        "#2\n",
        "X = df[df.columns[0:54]]\n",
        "y = df[df.columns[-1]]"
      ]
    },
    {
      "cell_type": "code",
      "execution_count": null,
      "metadata": {
        "id": "aHjXoFREfjX1"
      },
      "outputs": [],
      "source": [
        "#métricas\n",
        "matriz_c = [[] for i in range(len(redes2))]\n",
        "acc = [[] for i in range(len(redes2))]\n",
        "pre = [[] for i in range(len(redes2))]\n",
        "rev = [[] for i in range(len(redes2))]\n",
        "f1 = [[] for i in range(len(redes2))]\n",
        "\n",
        "for i in range(15):\n",
        "  #Inicialização\n",
        "  X_train, X_test, y_train, y_test = train_test_split(X, y, test_size=0.3,train_size=0.7,shuffle=True)\n",
        "\n",
        "  #Normalização\n",
        "  X_train_std = (X_train - np.mean(X_train))/np.std(X_train)\n",
        "  X_test_std = (X_test - np.mean(X_train))/np.std(X_train)\n",
        "\n",
        "  for j in range(len(redes2)):\n",
        "    redes1[j].fit(X_train_std,y_train)\n",
        "    a,b,c,d,e = validation(redes1[j], X_test_std,y_test, p = False)\n",
        "\n",
        "    \n",
        "    matriz_c[j].append(a)\n",
        "    acc[j].append(b)\n",
        "    pre[j].append(c)\n",
        "    rev[j].append(d)\n",
        "    f1[j].append(e)\n"
      ]
    },
    {
      "cell_type": "code",
      "execution_count": null,
      "metadata": {
        "id": "HBMZVlJWimQK"
      },
      "outputs": [],
      "source": [
        "#-------------------------------------------------------------------------------\n",
        "acc_m =[[] for i in range(len(acc))]\n",
        "f1_m =[[] for i in range(len(f1))]\n",
        "resultado = [[] for i in range(len(f1))]\n",
        "indices = [i for i in range(len(f1))]\n",
        "dp_acc = [[] for i in range(len(acc))]\n",
        "dp_f1 = [[] for i in range(len(f1))]\n",
        "#Média das Acurácias\n",
        "for i in range(len(acc)):\n",
        "  aux = 0\n",
        "  for j in range(len(acc[i])):\n",
        "    aux += acc[i][j]\n",
        "  acc_m[i] = (aux/(j+1))\n",
        "\n",
        "#Média dos F_Scores\n",
        "for i in range(len(f1)):\n",
        "  aux = 0\n",
        "  for j in range(len(f1[i])):\n",
        "    aux += f1[i][j]\n",
        "  \n",
        "  f1_m[i] = (aux/(j+1))\n",
        "\n",
        "\n",
        "\n"
      ]
    },
    {
      "cell_type": "code",
      "execution_count": null,
      "metadata": {
        "id": "UhMb9dSAlW4F"
      },
      "outputs": [],
      "source": [
        "#DP das Acurácias\n",
        "\n",
        "for i in range(len(acc)):\n",
        "  aux = 0\n",
        "  for j in range(len(acc[i])):\n",
        "    aux += (acc[i][j] - acc_m[i])**2\n",
        "\n",
        "  dp_acc[i] = (aux/(j+1))**(1/2)\n",
        "\n",
        "\n",
        "#DP dos F-Scores\n",
        "for i in range(len(f1)):\n",
        "  aux = 0\n",
        "  for j in range(len(f1[i])):\n",
        "    aux += (f1[i][j] - f1_m[i])**2\n",
        "\n",
        "  dp_f1[i] = (aux/(j+1))**(1/2)\n",
        "\n",
        "    "
      ]
    },
    {
      "cell_type": "code",
      "execution_count": null,
      "metadata": {
        "id": "z1NLzdvRnirs"
      },
      "outputs": [],
      "source": [
        "#2.2\n",
        "for i in range(len(redes2)):\n",
        "  print(\"Rede de índice: \",i)\n",
        "  print(\"Acurácia média +- dp:\")\n",
        "  print(str(acc_m[i])+\" +- \"+str(dp_acc[i]))\n",
        "  print('')\n",
        "  print(\"F-Score médio +- dp:\")\n",
        "  print(str(f1_m[i])+\" +- \"+str(dp_f1[i]))\n",
        "  print('')\n",
        "  print('-------------------------------')\n",
        "\n"
      ]
    },
    {
      "cell_type": "code",
      "source": [
        "'''\n",
        "#Testando as Redes Neurais com Atributos Categóricos\n",
        "============================================================================\n",
        "\n",
        "Rede de índice:  0\n",
        "Acurácia média +- dp:\n",
        "0.45402085370495127 +- 0.01588016359191586\n",
        "\n",
        "F-Score médio +- dp:\n",
        "0.7174517538629049 +- 0.0045648277188429075\n",
        "\n",
        "-------------------------------\n",
        "Rede de índice:  1\n",
        "Acurácia média +- dp:\n",
        "0.4454839773778742 +- 0.018719906052779747\n",
        "\n",
        "F-Score médio +- dp:\n",
        "0.7104240018416076 +- 0.003543659155120881\n",
        "\n",
        "-------------------------------\n",
        "Rede de índice:  2\n",
        "Acurácia média +- dp:\n",
        "0.46212750484491144 +- 0.022204016349861563\n",
        "\n",
        "F-Score médio +- dp:\n",
        "0.7204291820522143 +- 0.0029847897695783458\n",
        "\n",
        "-------------------------------\n",
        "Rede de índice:  3\n",
        "Acurácia média +- dp:\n",
        "0.49220165823525913 +- 0.01293928560013884\n",
        "\n",
        "F-Score médio +- dp:\n",
        "0.7117626438246962 +- 0.002179195698170138\n",
        "\n",
        "-------------------------------\n",
        "Rede de índice:  4\n",
        "Acurácia média +- dp:\n",
        "0.4524221476735899 +- 0.022002147834087684\n",
        "\n",
        "F-Score médio +- dp:\n",
        "0.71277065524871 +- 0.005210046288133535\n",
        "\n",
        "-------------------------------\n",
        "Rede de índice:  5\n",
        "Acurácia média +- dp:\n",
        "0.4889289113429412 +- 0.02994399869565992\n",
        "\n",
        "F-Score médio +- dp:\n",
        "0.726083113429269 +- 0.0038835156771150404\n",
        "'''"
      ],
      "metadata": {
        "id": "jTjck0WnTSGb"
      },
      "execution_count": null,
      "outputs": []
    },
    {
      "cell_type": "code",
      "source": [
        "#3\n",
        "f1 = [[0.7167472168203611, 0.7106038954820889, 0.7213307618332057, 0.7121238579789588, 0.7225643779924362, 0.7216085411514026, 0.7104714928224948, 0.7166720585567473, 0.7161831204833692, 0.7117189321396781, 0.7151483460948174, 0.7235915444652866, 0.7203492624183914, 0.7238824558280551, 0.7187804438762796],\n",
        "[0.7102461825137216, 0.7084975020098947, 0.7103300806228432, 0.7044742252345403, 0.7113533460063833, 0.7153234378804749, 0.7014941315316844, 0.7114899017522426, 0.7112787502379172, 0.7115044602195179, 0.7094581955459016, 0.712431028814141, 0.7158850272993946, 0.7129184039153826, 0.7096753540400724],\n",
        "[0.7201058172302525, 0.7163550952775659, 0.7189625867497331, 0.7190229837159173, 0.7247051257636145, 0.7163259069517719, 0.7226949059144653, 0.7223721429899547, 0.7179783676338817, 0.7220058457427215, 0.7165083423188703, 0.7225263269044078, 0.717900990539976, 0.7252590435931634, 0.7237142494569163],\n",
        "[0.7105975018663372, 0.7133618930432719, 0.7136625036034405, 0.7128178652469069, 0.7099148818967261, 0.7116583584052402, 0.7084120740919188, 0.7074164417986919, 0.7093714810095174, 0.7125629162731775, 0.7154716648862881, 0.7129542286646482, 0.7141461467033585, 0.7129618470106999, 0.7111298528702205],\n",
        "[0.7042507189590957, 0.7074299017548458, 0.7162860689892173, 0.712769005918206, 0.71695435282409, 0.7064891529819586, 0.7102512386649449, 0.7110273535988264, 0.7200592359899503, 0.7174150931028902, 0.709175472872466, 0.7173781560900641, 0.721815058515522, 0.7135021441024705, 0.7067568743661011],\n",
        "[0.7275093834298537, 0.7228089454559965, 0.7250773011716987, 0.7277531207324843, 0.729478189000814, 0.7327793595523842, 0.7237964151588568, 0.7255586591150975, 0.7221078334133759, 0.7205801520396012, 0.7205131920381441, 0.7273619269646195, 0.726964875930416, 0.7247237748844874, 0.7342335725512044]\n",
        "]"
      ],
      "metadata": {
        "id": "TpxwAwKiTXcu"
      },
      "execution_count": null,
      "outputs": []
    },
    {
      "cell_type": "code",
      "execution_count": null,
      "metadata": {
        "id": "uXvYuiwBqsbu",
        "colab": {
          "base_uri": "https://localhost:8080/",
          "height": 281
        },
        "outputId": "bb228689-6756-4aea-bd38-81d4cfefb490"
      },
      "outputs": [
        {
          "output_type": "display_data",
          "data": {
            "image/png": "[encoded data removed]",
            "text/plain": [
              "<Figure size 432x288 with 1 Axes>"
            ]
          },
          "metadata": {
            "needs_background": "light"
          }
        }
      ],
      "source": [
        "#3\n",
        "fig, ax  = plt.subplots()\n",
        "ax.set_title(\"Boxplot dos F-Scores\")\n",
        "ax.boxplot(f1[:])\n",
        "!"
      ]
    },
    {
      "cell_type": "markdown",
      "metadata": {
        "id": "WtFp-PMD-F6B"
      },
      "source": [
        "## Considerações Parciais\n",
        "\n",
        "1. É possível identificar uma rede com desempenho superior às demais?\n",
        "2. Qual estratégia mostrou-se mais producente para a obtenção de boas arquiteturas (Estratégia Própria ou Pirâmide Geométrica)? Por quê?\n",
        "3. Considerar os atributos categóricos trouxe melhorias? Justifique.\n",
        "4. Um número maior de épocas trouxe melhorias?\n",
        "5. Qual a maior dificuldade de resolução do problema proposto perante as RNAs?"
      ]
    },
    {
      "cell_type": "markdown",
      "source": [
        "<h1>Respostas:</h1>\n",
        "\n",
        "\n",
        "1. A melhor rede foi:\n",
        "\n",
        "```\n",
        "redes[9] = MLPClassifier(hidden_layer_sizes=(30,40),activation='logistic',max_iter=200,solver=\"adam\")\n",
        "```\n",
        "Acurácia Média:  0.6625432510864768\\\n",
        "F-Score Médio:  0.8036498803809674\n",
        "\n",
        "2. Pirâmide Geométrica. Apesar da melhor rede ter sido proposta, o método da pirâmide geométrica gerou melhores resultados de acurácia e F-Score no geral.\n",
        "\n",
        "3. Não. As medidas de acurácia cairam drasticamente quando os atributos categóricos foram introduzidos.\n",
        "\n",
        "4. Em geral, treinar as redes por épocas maiores trouxe melhorias. Por causa da tolerância, mesmo colocando um número alto de épocas, o treinamento para quando o erro-médio não possui uma mudança significativa, o que significa que treinar por épocas maiores trás menos riscos.\n",
        "\n",
        "5. No presente trabalho, tivemos duas dificuldades principais:\n",
        "\n",
        "\n",
        "*   O custo computacional para treinar e validar as redes.\n",
        "*   Avaliar os parâmetros de treinamento de cada rede, de maneira que as pontuações de Acurácia e F-Score melhorassem.\n",
        "\n",
        "\n",
        "\n"
      ],
      "metadata": {
        "id": "GOwGGfcDUm0h"
      }
    }
  ],
  "metadata": {
    "colab": {
      "collapsed_sections": [],
      "name": "PP2.2.2 - Proposição e Avaliação de RNAs.ipynb",
      "provenance": [],
      "include_colab_link": true
    },
    "kernelspec": {
      "display_name": "Python 3",
      "language": "python",
      "name": "python3"
    },
    "language_info": {
      "codemirror_mode": {
        "name": "ipython",
        "version": 3
      },
      "file_extension": ".py",
      "mimetype": "text/x-python",
      "name": "python",
      "nbconvert_exporter": "python",
      "pygments_lexer": "ipython3",
      "version": "3.6.10"
    }
  },
  "nbformat": 4,
  "nbformat_minor": 0
}