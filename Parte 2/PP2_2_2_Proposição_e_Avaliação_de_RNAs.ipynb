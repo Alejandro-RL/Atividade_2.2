{
  "cells": [
    {
      "cell_type": "markdown",
      "metadata": {
        "id": "view-in-github",
        "colab_type": "text"
      },
      "source": [
        "<a href=\"https://colab.research.google.com/github/Alejandro-RL/Atividade_2.2/blob/main/Parte%202/PP2_2_2_Proposic%CC%A7a%CC%83o_e_Avaliac%CC%A7a%CC%83o_de_RNAs.ipynb\" target=\"_parent\"><img src=\"https://colab.research.google.com/assets/colab-badge.svg\" alt=\"Open In Colab\"/></a>"
      ]
    },
    {
      "cell_type": "markdown",
      "metadata": {
        "id": "0TNil5vpb95f"
      },
      "source": [
        "* Adan Thierry Souza dos Santos - 1915080050\n",
        "* Alejandro da Rocha Loureiro - 1915080001\n",
        "* Fernando Araújo Alves Filho - 1915080063\n",
        "* Victor Brasil de Pina - 1915080079\n"
      ]
    },
    {
      "cell_type": "markdown",
      "metadata": {
        "id": "lb0APdge-F5i"
      },
      "source": [
        "## Redes Neurais Artificiais 2021.1\n",
        "\n",
        "- **Disciplina**: Redes Neurais Artificiais 2021.1  \n",
        "- **Professora**: Elloá B. Guedes (ebgcosta@uea.edu.br)  \n",
        "- **Github**: http://github.com/elloa  \n",
        "        \n",
        "\n",
        "Levando em conta a base de dados **_Forest Cover Type_**, esta segunda parte do Projeto Prático 2.2 diz respeito à proposição e avaliação de múltiplas redes neurais artificiais do tipo feedforward multilayer perceptron para o problema da classificação multi-classe da cobertura florestal em uma área do Roosevelt National Forest.\n",
        "\n",
        "## Testando Redes Neurais sem os Atributos Categórios\n",
        "\n",
        "1. Abra a base de dados em questão\n",
        "2. Elimine todas as colunas relativas aos atributos categóricos\n",
        "3. Armazene o atributo alvo em uma variável y e os atributos preditores em uma variável X\n",
        "4. Efetue uma partição holdout 70/30 com o sklearn, distribuindo os exemplos de maneira aleatória\n",
        "5. Efetue o escalonamento dos atributos\n",
        "\n",
        "### Escalonando os atributos\n",
        "\n",
        "O treinamento de uma rede neural artificial é mais eficiente quando os valores que lhes são fornecidos como entrada são pequenos, pois isto favorece a convergência. Isto é feito escalonando-se todos os atributos para o intervalo [0,1], mas precisa ser feito de maneira cautelosa, para que informações do conjunto de teste não sejam fornecidas no treinamento.\n",
        "\n",
        "Há duas estratégias para tal escalonamento: normalização e padronização. Ambas possuem características particulares, vantagens e limitações, como é possível ver aqui: https://www.analyticsvidhya.com/blog/2020/04/feature-scaling-machine-learning-normalization-standardization/\n",
        "\n",
        "\n",
        "No nosso caso, vamos usar a padronização. Assim, com os atributos preditores do treinamento, isto é, X_train, deve-se subtrair a média e dividir pelo desvio padrão:\n",
        "\n",
        "X_train_std = (X_train - np.mean(X_train))/np.std(X_train)\n",
        "\n",
        "Em seguida, o mesmo deve ser feito com os atributos preditores do conjunto de testes, mas com padronização relativa ao conjunto de treinamento:\n",
        "\n",
        "X_test_std = (X_test - np.mean(X_train))/np.std(X_train)\n",
        "\n",
        "Se todo o conjunto X for utilizado na padronização, a rede neural receberá informações do conjunto de teste por meio da média e variância utilizada para preparar os dados de treinamento, o que não é desejável.\n",
        "\n",
        "\n",
        "### Continuando\n",
        "\n",
        "5. Treine uma rede neural multilayer perceptron para este problema com uma única camada e dez neurônios  \n",
        "    5.1 Utilize a função de ativação ReLU  \n",
        "    5.2 Utilize o solver Adam    \n",
        "    5.3 Imprima o passo a passo do treinamento    \n",
        "    5.4 Utilize o número máximo de épocas igual a 300  \n",
        "6. Com o modelo em questão, após o treinamento, apresente:  \n",
        "    6.1 Matriz de confusão para o conjunto de teste  \n",
        "    6.2 Acurácia  \n",
        "    6.3 F-Score  \n",
        "    6.4 Precisão  \n",
        "    6.5 Revocação  \n",
        "7. Repita o treinamento da mesma rede anterior sem imprimir o passo a passo (verbose False) por 100 vezes  \n",
        "    7.1 Cada uma destas repetições deve ser feita com uma nova partição Holdout  \n",
        "    7.2 Apresente a média e o desvio padrão da acurácia e do F-Score para o conjunto de treino  \n",
        "8. Repita por 100 vezes o treinamento desta mesma rede, mas utilizando o otimizador SGD  \n",
        "    8.1 Apresente a média e o desvio padrão da acurácia e do F-Score para o conjunto de treino  \n",
        "9. Houve influência da escolha do otimizador no desempenho da rede?"
      ]
    },
    {
      "cell_type": "markdown",
      "metadata": {
        "id": "pgBvsTZjKkmi"
      },
      "source": [
        "### Import"
      ]
    },
    {
      "cell_type": "code",
      "execution_count": 15,
      "metadata": {
        "id": "yFeTm9SqdCbk"
      },
      "outputs": [],
      "source": [
        "from IPython.display import clear_output\n",
        "import pandas as pd\n",
        "import matplotlib.pyplot as plt\n",
        "import numpy as np\n",
        "import matplotlib.pyplot as plt\n",
        "from sklearn.model_selection import train_test_split\n",
        "from sklearn.neural_network import MLPClassifier\n",
        "from sklearn.metrics import confusion_matrix, balanced_accuracy_score,f1_score,precision_score,recall_score"
      ]
    },
    {
      "cell_type": "markdown",
      "metadata": {
        "id": "Lj8aqNp4KobK"
      },
      "source": [
        "### Dataset"
      ]
    },
    {
      "cell_type": "code",
      "execution_count": null,
      "metadata": {
        "id": "ABP_oNft-F5q"
      },
      "outputs": [],
      "source": [
        "!wget https://www.dropbox.com/s/2j9euhvkl1njfzh/covtype.csv"
      ]
    },
    {
      "cell_type": "markdown",
      "metadata": {
        "id": "dF0Vjg3rOESI"
      },
      "source": [
        "## Questão 1"
      ]
    },
    {
      "cell_type": "code",
      "execution_count": 17,
      "metadata": {
        "id": "Q9STox4TddBi"
      },
      "outputs": [],
      "source": [
        "#1\n",
        "df = pd.read_csv('/content/covtype.csv')"
      ]
    },
    {
      "cell_type": "markdown",
      "metadata": {
        "id": "RLJ_IQUrOGwZ"
      },
      "source": [
        "##Questão 2 e 3\n",
        "### Definindo atributos preditores e atributo alvo"
      ]
    },
    {
      "cell_type": "code",
      "execution_count": 18,
      "metadata": {
        "id": "Jsyf4eoIdhre"
      },
      "outputs": [],
      "source": [
        "#2 e 3\n",
        "X = df[df.columns[0:10]]\n",
        "y = df[df.columns[-1]]"
      ]
    },
    {
      "cell_type": "markdown",
      "metadata": {
        "id": "9Ka9TJdEKu42"
      },
      "source": [
        "## Questão 4\n",
        "### Train/Test Split \n",
        "70/30"
      ]
    },
    {
      "cell_type": "code",
      "execution_count": 19,
      "metadata": {
        "id": "IAXrEXcdeSzm"
      },
      "outputs": [],
      "source": [
        "#4\n",
        "X_train, X_test, y_train, y_test = train_test_split(X, y, test_size=0.3,train_size=0.7,random_state=42, shuffle=True)"
      ]
    },
    {
      "cell_type": "markdown",
      "metadata": {
        "id": "gFhAYzI7LK-I"
      },
      "source": [
        "## Questão 5\n",
        "### Padronização"
      ]
    },
    {
      "cell_type": "code",
      "execution_count": 20,
      "metadata": {
        "id": "oEY4IzZfe6D1"
      },
      "outputs": [],
      "source": [
        "#5\n",
        "X_train_std = (X_train - np.mean(X_train))/np.std(X_train)\n",
        "X_test_std = (X_test - np.mean(X_train))/np.std(X_train)"
      ]
    },
    {
      "cell_type": "code",
      "execution_count": 21,
      "metadata": {
        "colab": {
          "base_uri": "https://localhost:8080/",
          "height": 444
        },
        "id": "CJDsvao8Y26u",
        "outputId": "4c836ce9-9d54-44e0-eb63-cabd96313572"
      },
      "outputs": [
        {
          "output_type": "execute_result",
          "data": {
            "text/html": [
              "<div>\n",
              "<style scoped>\n",
              "    .dataframe tbody tr th:only-of-type {\n",
              "        vertical-align: middle;\n",
              "    }\n",
              "\n",
              "    .dataframe tbody tr th {\n",
              "        vertical-align: top;\n",
              "    }\n",
              "\n",
              "    .dataframe thead th {\n",
              "        text-align: right;\n",
              "    }\n",
              "</style>\n",
              "<table border=\"1\" class=\"dataframe\">\n",
              "  <thead>\n",
              "    <tr style=\"text-align: right;\">\n",
              "      <th></th>\n",
              "      <th>Elevation</th>\n",
              "      <th>Aspect</th>\n",
              "      <th>Slope</th>\n",
              "      <th>Horizontal_Distance_To_Hydrology</th>\n",
              "      <th>Vertical_Distance_To_Hydrology</th>\n",
              "      <th>Horizontal_Distance_To_Roadways</th>\n",
              "      <th>Hillshade_9am</th>\n",
              "      <th>Hillshade_Noon</th>\n",
              "      <th>Hillshade_3pm</th>\n",
              "      <th>Horizontal_Distance_To_Fire_Points</th>\n",
              "    </tr>\n",
              "  </thead>\n",
              "  <tbody>\n",
              "    <tr>\n",
              "      <th>110220</th>\n",
              "      <td>-1.213285</td>\n",
              "      <td>1.521970</td>\n",
              "      <td>-1.215756</td>\n",
              "      <td>-0.985653</td>\n",
              "      <td>-0.709902</td>\n",
              "      <td>-0.962484</td>\n",
              "      <td>-0.229567</td>\n",
              "      <td>0.541278</td>\n",
              "      <td>0.614032</td>\n",
              "      <td>-0.199579</td>\n",
              "    </tr>\n",
              "    <tr>\n",
              "      <th>363425</th>\n",
              "      <td>0.666947</td>\n",
              "      <td>-0.684312</td>\n",
              "      <td>-0.413945</td>\n",
              "      <td>-0.444373</td>\n",
              "      <td>0.182714</td>\n",
              "      <td>-0.831053</td>\n",
              "      <td>0.817019</td>\n",
              "      <td>-0.166989</td>\n",
              "      <td>-0.667745</td>\n",
              "      <td>-0.668463</td>\n",
              "    </tr>\n",
              "    <tr>\n",
              "      <th>111410</th>\n",
              "      <td>0.178158</td>\n",
              "      <td>1.039625</td>\n",
              "      <td>-0.280310</td>\n",
              "      <td>1.447756</td>\n",
              "      <td>-0.229263</td>\n",
              "      <td>2.016207</td>\n",
              "      <td>-0.864994</td>\n",
              "      <td>0.996592</td>\n",
              "      <td>1.346476</td>\n",
              "      <td>-0.496589</td>\n",
              "    </tr>\n",
              "    <tr>\n",
              "      <th>552313</th>\n",
              "      <td>-0.289224</td>\n",
              "      <td>0.512618</td>\n",
              "      <td>1.590582</td>\n",
              "      <td>-0.952706</td>\n",
              "      <td>-0.194931</td>\n",
              "      <td>0.389659</td>\n",
              "      <td>-0.939750</td>\n",
              "      <td>1.502497</td>\n",
              "      <td>1.241841</td>\n",
              "      <td>-0.500358</td>\n",
              "    </tr>\n",
              "    <tr>\n",
              "      <th>107881</th>\n",
              "      <td>0.745438</td>\n",
              "      <td>-1.068401</td>\n",
              "      <td>-1.082121</td>\n",
              "      <td>-0.364357</td>\n",
              "      <td>-0.349423</td>\n",
              "      <td>0.473647</td>\n",
              "      <td>0.293726</td>\n",
              "      <td>0.136554</td>\n",
              "      <td>-0.013777</td>\n",
              "      <td>1.807877</td>\n",
              "    </tr>\n",
              "    <tr>\n",
              "      <th>...</th>\n",
              "      <td>...</td>\n",
              "      <td>...</td>\n",
              "      <td>...</td>\n",
              "      <td>...</td>\n",
              "      <td>...</td>\n",
              "      <td>...</td>\n",
              "      <td>...</td>\n",
              "      <td>...</td>\n",
              "      <td>...</td>\n",
              "      <td>...</td>\n",
              "    </tr>\n",
              "    <tr>\n",
              "      <th>110268</th>\n",
              "      <td>0.795388</td>\n",
              "      <td>-0.764703</td>\n",
              "      <td>-0.146675</td>\n",
              "      <td>0.435797</td>\n",
              "      <td>-0.109103</td>\n",
              "      <td>0.411458</td>\n",
              "      <td>0.817019</td>\n",
              "      <td>-0.470532</td>\n",
              "      <td>-0.877015</td>\n",
              "      <td>1.774708</td>\n",
              "    </tr>\n",
              "    <tr>\n",
              "      <th>259178</th>\n",
              "      <td>0.759710</td>\n",
              "      <td>0.003476</td>\n",
              "      <td>1.991488</td>\n",
              "      <td>2.102000</td>\n",
              "      <td>4.199487</td>\n",
              "      <td>-0.766940</td>\n",
              "      <td>0.929153</td>\n",
              "      <td>0.237735</td>\n",
              "      <td>-1.164761</td>\n",
              "      <td>0.644713</td>\n",
              "    </tr>\n",
              "    <tr>\n",
              "      <th>365838</th>\n",
              "      <td>0.691921</td>\n",
              "      <td>1.173609</td>\n",
              "      <td>0.387866</td>\n",
              "      <td>0.308713</td>\n",
              "      <td>-0.091937</td>\n",
              "      <td>-0.674617</td>\n",
              "      <td>-1.537799</td>\n",
              "      <td>0.693049</td>\n",
              "      <td>1.634222</td>\n",
              "      <td>0.047678</td>\n",
              "    </tr>\n",
              "    <tr>\n",
              "      <th>131932</th>\n",
              "      <td>0.377955</td>\n",
              "      <td>1.718481</td>\n",
              "      <td>0.922406</td>\n",
              "      <td>-0.684419</td>\n",
              "      <td>-0.469582</td>\n",
              "      <td>1.522537</td>\n",
              "      <td>-1.313531</td>\n",
              "      <td>-1.077617</td>\n",
              "      <td>0.430921</td>\n",
              "      <td>-1.023518</td>\n",
              "    </tr>\n",
              "    <tr>\n",
              "      <th>121958</th>\n",
              "      <td>0.220971</td>\n",
              "      <td>-1.157725</td>\n",
              "      <td>0.254231</td>\n",
              "      <td>-0.985653</td>\n",
              "      <td>-0.675571</td>\n",
              "      <td>1.032713</td>\n",
              "      <td>-0.042676</td>\n",
              "      <td>-0.976436</td>\n",
              "      <td>-0.458475</td>\n",
              "      <td>0.387656</td>\n",
              "    </tr>\n",
              "  </tbody>\n",
              "</table>\n",
              "<p>406708 rows × 10 columns</p>\n",
              "</div>"
            ],
            "text/plain": [
              "        Elevation    Aspect  ...  Hillshade_3pm  Horizontal_Distance_To_Fire_Points\n",
              "110220  -1.213285  1.521970  ...       0.614032                           -0.199579\n",
              "363425   0.666947 -0.684312  ...      -0.667745                           -0.668463\n",
              "111410   0.178158  1.039625  ...       1.346476                           -0.496589\n",
              "552313  -0.289224  0.512618  ...       1.241841                           -0.500358\n",
              "107881   0.745438 -1.068401  ...      -0.013777                            1.807877\n",
              "...           ...       ...  ...            ...                                 ...\n",
              "110268   0.795388 -0.764703  ...      -0.877015                            1.774708\n",
              "259178   0.759710  0.003476  ...      -1.164761                            0.644713\n",
              "365838   0.691921  1.173609  ...       1.634222                            0.047678\n",
              "131932   0.377955  1.718481  ...       0.430921                           -1.023518\n",
              "121958   0.220971 -1.157725  ...      -0.458475                            0.387656\n",
              "\n",
              "[406708 rows x 10 columns]"
            ]
          },
          "metadata": {},
          "execution_count": 21
        }
      ],
      "source": [
        "X_train_std"
      ]
    },
    {
      "cell_type": "markdown",
      "metadata": {
        "id": "mOqccry5LCG0"
      },
      "source": [
        "### Modelo"
      ]
    },
    {
      "cell_type": "code",
      "execution_count": 22,
      "metadata": {
        "colab": {
          "base_uri": "https://localhost:8080/"
        },
        "id": "vo4Z8pMPfygm",
        "outputId": "0ff5b99c-947f-444c-fae1-6ffdd1c513e9"
      },
      "outputs": [
        {
          "output_type": "stream",
          "name": "stdout",
          "text": [
            "Iteration 1, loss = 0.92178157\n",
            "Iteration 2, loss = 0.70929728\n",
            "Iteration 3, loss = 0.68865408\n",
            "Iteration 4, loss = 0.68049050\n",
            "Iteration 5, loss = 0.67506513\n",
            "Iteration 6, loss = 0.67157673\n",
            "Iteration 7, loss = 0.66860068\n",
            "Iteration 8, loss = 0.66578105\n",
            "Iteration 9, loss = 0.66344279\n",
            "Iteration 10, loss = 0.66160838\n",
            "Iteration 11, loss = 0.66020205\n",
            "Iteration 12, loss = 0.65845671\n",
            "Iteration 13, loss = 0.65701726\n",
            "Iteration 14, loss = 0.65616597\n",
            "Iteration 15, loss = 0.65531421\n",
            "Iteration 16, loss = 0.65458032\n",
            "Iteration 17, loss = 0.65385896\n",
            "Iteration 18, loss = 0.65319440\n",
            "Iteration 19, loss = 0.65271368\n",
            "Iteration 20, loss = 0.65219952\n",
            "Iteration 21, loss = 0.65180072\n",
            "Iteration 22, loss = 0.65139865\n",
            "Iteration 23, loss = 0.65106788\n",
            "Iteration 24, loss = 0.65069413\n",
            "Iteration 25, loss = 0.65048339\n",
            "Iteration 26, loss = 0.65025984\n",
            "Iteration 27, loss = 0.65003823\n",
            "Iteration 28, loss = 0.64976894\n",
            "Iteration 29, loss = 0.64976099\n",
            "Iteration 30, loss = 0.64948296\n",
            "Iteration 31, loss = 0.64940832\n",
            "Iteration 32, loss = 0.64930810\n",
            "Iteration 33, loss = 0.64918137\n",
            "Iteration 34, loss = 0.64911773\n",
            "Iteration 35, loss = 0.64903245\n",
            "Iteration 36, loss = 0.64890191\n",
            "Iteration 37, loss = 0.64882841\n",
            "Iteration 38, loss = 0.64875953\n",
            "Iteration 39, loss = 0.64869965\n",
            "Iteration 40, loss = 0.64863401\n",
            "Iteration 41, loss = 0.64853652\n",
            "Iteration 42, loss = 0.64839010\n",
            "Iteration 43, loss = 0.64838690\n",
            "Iteration 44, loss = 0.64831774\n",
            "Iteration 45, loss = 0.64830409\n",
            "Iteration 46, loss = 0.64817757\n",
            "Iteration 47, loss = 0.64816097\n",
            "Iteration 48, loss = 0.64818253\n",
            "Iteration 49, loss = 0.64803227\n",
            "Iteration 50, loss = 0.64806250\n",
            "Iteration 51, loss = 0.64803891\n",
            "Iteration 52, loss = 0.64782185\n",
            "Iteration 53, loss = 0.64790284\n",
            "Iteration 54, loss = 0.64779121\n",
            "Iteration 55, loss = 0.64780566\n",
            "Iteration 56, loss = 0.64779748\n",
            "Iteration 57, loss = 0.64771389\n",
            "Iteration 58, loss = 0.64765994\n",
            "Iteration 59, loss = 0.64765268\n",
            "Iteration 60, loss = 0.64761483\n",
            "Iteration 61, loss = 0.64760904\n",
            "Iteration 62, loss = 0.64744371\n",
            "Iteration 63, loss = 0.64749023\n",
            "Iteration 64, loss = 0.64744250\n",
            "Iteration 65, loss = 0.64741396\n",
            "Iteration 66, loss = 0.64750464\n",
            "Iteration 67, loss = 0.64741356\n",
            "Iteration 68, loss = 0.64733510\n",
            "Iteration 69, loss = 0.64738846\n",
            "Iteration 70, loss = 0.64735095\n",
            "Iteration 71, loss = 0.64719061\n",
            "Iteration 72, loss = 0.64726602\n",
            "Iteration 73, loss = 0.64716393\n",
            "Iteration 74, loss = 0.64722548\n",
            "Iteration 75, loss = 0.64717785\n",
            "Iteration 76, loss = 0.64710372\n",
            "Iteration 77, loss = 0.64709153\n",
            "Iteration 78, loss = 0.64715455\n",
            "Iteration 79, loss = 0.64701628\n",
            "Iteration 80, loss = 0.64700578\n",
            "Iteration 81, loss = 0.64708735\n",
            "Iteration 82, loss = 0.64702634\n",
            "Training loss did not improve more than tol=0.000100 for 10 consecutive epochs. Stopping.\n"
          ]
        },
        {
          "output_type": "execute_result",
          "data": {
            "text/plain": [
              "MLPClassifier(hidden_layer_sizes=10, max_iter=300, verbose=True)"
            ]
          },
          "metadata": {},
          "execution_count": 22
        }
      ],
      "source": [
        "#5\n",
        "rede = MLPClassifier(hidden_layer_sizes=(10),activation='relu',max_iter=300,verbose=True)\n",
        "rede.fit(X_train_std,y_train)"
      ]
    },
    {
      "cell_type": "markdown",
      "metadata": {
        "id": "138irDLNLQSh"
      },
      "source": [
        "## Questão 6 - Validação da questão 5"
      ]
    },
    {
      "cell_type": "code",
      "execution_count": 23,
      "metadata": {
        "id": "MgZoRwPFLXtU"
      },
      "outputs": [],
      "source": [
        "## Essa função vai ser reutilizada posteriormente\n",
        "def validation(rede, X_test_std,y_test, p = True):\n",
        "  y_pred = rede.predict(X_test_std)\n",
        "  cmatrix = confusion_matrix(y_test,y_pred)\n",
        "  \n",
        "  #6.2 Acurácia\n",
        "  acc = balanced_accuracy_score(y_test,y_pred,adjusted=False)\n",
        "  \n",
        "\n",
        "  #6.4 Precisão\n",
        "  pre = precision_score(y_test,y_pred,average='weighted')\n",
        "  \n",
        "\n",
        "  #6.5 Revocação \n",
        "  rev = recall_score(y_test,y_pred,average='weighted')\n",
        "  \n",
        "\n",
        "  #6.3 F-Score\n",
        "  f1 = f1_score(y_test,y_pred,average='weighted')\n",
        "  \n",
        "\n",
        "  if (p):\n",
        "    print(\"Matriz de confusão:\\n\")\n",
        "    print(cmatrix)\n",
        "    print(\"\\nAcurácia: \",acc)\n",
        "    print(\"\\nPrecisão: \",pre)\n",
        "    print(\"\\nRevocação: \",rev)\n",
        "    print(\"\\nF-Score: \",f1)\n",
        "  return cmatrix, acc, pre, rev, f1"
      ]
    },
    {
      "cell_type": "code",
      "execution_count": 24,
      "metadata": {
        "colab": {
          "base_uri": "https://localhost:8080/"
        },
        "id": "MBOlwaBcL8_8",
        "outputId": "62b4e38e-1d79-4425-f6d6-a7ee7d439641"
      },
      "outputs": [
        {
          "output_type": "stream",
          "name": "stdout",
          "text": [
            "Matriz de confusão:\n",
            "\n",
            "[[44790 17778    14     0     9     8   957]\n",
            " [15260 68341  1056     0   123   272    26]\n",
            " [    0  2127  7402   126     0   983     0]\n",
            " [    0     4   441   201     0   149     0]\n",
            " [    9  2533    27     0   372     0     0]\n",
            " [    0  1576  2480    59     0  1112     0]\n",
            " [ 3103    26     0     0     0     0  2940]]\n",
            "\n",
            "Acurácia:  0.4686147623940348\n",
            "\n",
            "Precisão:  0.7133289608855148\n",
            "\n",
            "Revocação:  0.7180443363319259\n",
            "\n",
            "F-Score:  0.7089504657113548\n"
          ]
        }
      ],
      "source": [
        "validation(rede,X_test_std, y_test)\n",
        "!"
      ]
    },
    {
      "cell_type": "markdown",
      "metadata": {
        "id": "jYLLPk-nNRcl"
      },
      "source": [
        "## Questão 7- Repetir a mesma rede anterior 100x"
      ]
    },
    {
      "cell_type": "markdown",
      "metadata": {
        "id": "KDL3_HE3JVDp"
      },
      "source": [
        "### Train/Test split"
      ]
    },
    {
      "cell_type": "code",
      "execution_count": null,
      "metadata": {
        "id": "_mzXqEDqY2Gc"
      },
      "outputs": [],
      "source": [
        "\n",
        "def acompanha(x, k):\n",
        "  saida = '['\n",
        "  for i in range(x):\n",
        "    clear_output(wait=True)\n",
        "    saida+=':'\n",
        "  for k in range(k - x -1):\n",
        "    saida += ' '\n",
        "  saida+=']'\n",
        "  saida+= ' '+ str(round((x/k)*100, 3)) + '%'\n",
        "  print(saida)"
      ]
    },
    {
      "cell_type": "code",
      "execution_count": null,
      "metadata": {
        "colab": {
          "background_save": true
        },
        "id": "NdE-ypknHMHp"
      },
      "outputs": [],
      "source": [
        "resultados = []\n",
        "for x in range(15):\n",
        "  #7 e 7.1\n",
        "  X_train, X_test, y_train, y_test = train_test_split(X, y, test_size= 0.3,train_size= 0.7, shuffle=True)\n",
        "  \n",
        "  ## Padronização\n",
        "  X_train_std = (X_train - np.mean(X_train))/np.std(X_train)\n",
        "  X_test_std = (X_test - np.mean(X_train))/np.std(X_train)\n",
        "  \n",
        "  ### Modelo\n",
        "  rede1 = MLPClassifier(hidden_layer_sizes=(10),activation='relu',max_iter=300,verbose=False)\n",
        "  rede1.fit(X_train_std,y_train)\n",
        "\n",
        "  resultados.append(validation(rede1, X_test, y_test, p = False))\n"
      ]
    },
    {
      "cell_type": "code",
      "execution_count": null,
      "metadata": {
        "id": "T-LWEKG0HUnS"
      },
      "outputs": [],
      "source": [
        "for resultado in resultados:\n",
        "  print(resultado)"
      ]
    },
    {
      "cell_type": "code",
      "source": [
        "'''\n",
        "#7 - A mesma rede 15 vezes\n",
        "============================================================================\n",
        "Matriz de confusão:\n",
        "\n",
        "[[43925 18573     3     0     1     5  1049]\n",
        " [14642 68658  1076     0    36   465   201]\n",
        " [    0  2040  7279    90     0  1229     0]\n",
        " [    0     3   406   272     0   114     0]\n",
        " [   29  2829    33     0    49     1     0]\n",
        " [    0  1516  2330    29     0  1352     0]\n",
        " [ 2574    33     0     0     0     0  3462]]\n",
        "\n",
        "Acurácia:  0.48146640877950936\n",
        "\n",
        "Precisão:  0.7107671698953513\n",
        "\n",
        "Revocação:  0.7171206627501376\n",
        "\n",
        "F-Score:  0.7073086402028991\n",
        "(array([[  618,     0,     0,     0,     0,     0, 62930],\n",
        "       [ 1778,     0,     0,     0,     0,     0, 83462],\n",
        "       [    0,     0,     0,     0,     0,     0, 10568],\n",
        "       [    0,     0,     0,     0,     0,     0,   821],\n",
        "       [   71,     0,     0,     0,     0,     0,  2797],\n",
        "       [    0,     0,     0,     0,     0,     0,  5264],\n",
        "       [    0,     0,     0,     0,     0,     0,  5995]]), 0.14424641890494475, 0.09253001003264, 0.03793946208922343, 0.009145012825164193)\n",
        "(array([[12973,     0,     0,     0,     0,     0, 50887],\n",
        "       [15773,     0,     0,     0,     0,     0, 68780],\n",
        "       [    0,     0,     0,     0,     0,     0, 10861],\n",
        "       [    0,     0,     0,     0,     0,     0,   817],\n",
        "       [  123,     0,     0,     0,     0,     0,  2754],\n",
        "       [    0,     0,     0,     0,     0,     0,  5218],\n",
        "       [  459,     0,     0,     0,     0,     0,  5659]]), 0.1611604274803194, 0.1634314586685217, 0.10689370295575547, 0.10463667751126254)\n",
        "(array([[ 7322,     0,     0,     0,     0,     0, 56078],\n",
        "       [ 8137,     0,     0,     0,     0,     0, 76962],\n",
        "       [    0,     0,     0,     0,     0,     0, 10798],\n",
        "       [    0,     0,     0,     0,     0,     0,   812],\n",
        "       [   83,     0,     0,     0,     0,     0,  2756],\n",
        "       [    0,     0,     0,     0,     0,     0,  5136],\n",
        "       [   20,     0,     0,     0,     0,     0,  6200]]), 0.15889621784384786, 0.1725316511676999, 0.07757710666421884, 0.07013883349157597)\n",
        "(array([[    0,     0,     0,     0,     0,     0, 63519],\n",
        "       [    0,     0,     0,     0,     0,     0, 85166],\n",
        "       [    0,     0,     0,     0,     0,     0, 10675],\n",
        "       [    0,     0,     0,     0,     0,     0,   801],\n",
        "       [    0,     0,     0,     0,     0,     0,  2823],\n",
        "       [    0,     0,     0,     0,     0,     0,  5188],\n",
        "       [    0,     0,     0,     0,     0,     0,  6132]]), 0.14285714285714285, 0.0012376264580941524, 0.035179915549843954, 0.0023911330571686706)\n",
        "(array([[    0,     0,     0,     0,     0,     0, 63609],\n",
        "       [    0,     0,     0,     0,     0,     0, 85103],\n",
        "       [    0,     0,     0,     0,     0,     0, 10650],\n",
        "       [    0,     0,     0,     0,     0,     0,   839],\n",
        "       [    0,     0,     0,     0,     0,     0,  2791],\n",
        "       [    0,     0,     0,     0,     0,     0,  5206],\n",
        "       [    0,     0,     0,     0,     0,     0,  6106]]), 0.14285714285714285, 0.001227153506658907, 0.035030750872039655, 0.0023712406720766497)\n",
        "(array([[ 2646,     0,     0,     0,     0,     0, 61131],\n",
        "       [ 9340,     0,     0,     0,     0,     0, 75452],\n",
        "       [    0,     0,     0,     0,     0,     0, 10728],\n",
        "       [    0,     0,     0,     0,     0,     0,   803],\n",
        "       [   66,     0,     0,     0,     0,     0,  2786],\n",
        "       [    0,     0,     0,     0,     0,     0,  5222],\n",
        "       [    0,     0,     0,     0,     0,     0,  6130]]), 0.14878404440472273, 0.08166048064496104, 0.050348815861942356, 0.028095952663445074)\n",
        "(array([[ 3161,     0,     0,     0,     0,     0, 60281],\n",
        "       [ 4890,     0,     0,     0,     0,     0, 80072],\n",
        "       [    0,     0,     0,     0,     0,     0, 10609],\n",
        "       [    0,     0,     0,     0,     0,     0,   844],\n",
        "       [   79,     0,     0,     0,     0,     0,  2764],\n",
        "       [    0,     0,     0,     0,     0,     0,  5368],\n",
        "       [    0,     0,     0,     0,     0,     0,  6236]]), 0.1499750052916725, 0.14285790645008667, 0.05391155682026804, 0.034738039052806945)\n",
        "(array([[   49,     0,     0,     0,     0,     0, 63674],\n",
        "       [  458,     0,     0,     0,     0,     0, 84379],\n",
        "       [    0,     0,     0,     0,     0,     0, 10632],\n",
        "       [    0,     0,     0,     0,     0,     0,   867],\n",
        "       [   61,     0,     0,     0,     0,     0,  2776],\n",
        "       [    0,     0,     0,     0,     0,     0,  5186],\n",
        "       [    0,     0,     0,     0,     0,     0,  6222]]), 0.14296699330360646, 0.032816566779494134, 0.035977372865797684, 0.003025645871251329)\n",
        "(array([[    0,    20,     0,     0,     0,     0, 63697],\n",
        "       [   16,   385,     0,     0,     0,     0, 84628],\n",
        "       [    0,     0,     0,     0,     0,     0, 10574],\n",
        "       [    0,     0,     0,     0,     0,     0,   808],\n",
        "       [    0,    54,     0,     0,     0,     0,  2763],\n",
        "       [    0,     0,     0,     0,     0,     0,  5269],\n",
        "       [    0,     0,     0,     0,     0,     0,  6090]]), 0.14350398099471945, 0.41039781414137694, 0.037147741876262165, 0.006759117745591749)\n",
        "(array([[ 1442,     0,     0,     0,     0,     0, 62365],\n",
        "       [ 2321,     0,     0,     0,     0,     0, 82487],\n",
        "       [    0,     0,     0,     0,     0,     0, 10719],\n",
        "       [    0,     0,     0,     0,     0,     0,   815],\n",
        "       [    0,     0,     0,     0,     0,     0,  2829],\n",
        "       [    0,     0,     0,     0,     0,     0,  5132],\n",
        "       [    0,     0,     0,     0,     0,     0,  6194]]), 0.1460856287599435, 0.14156943440232228, 0.04380851845052322, 0.018115183388193137)\n",
        "(array([[    0,     0,     0,     0,     0,     0, 63456],\n",
        "       [    0,     0,     0,     0,     0,     0, 85037],\n",
        "       [    0,     0,     0,     0,     0,     0, 10829],\n",
        "       [    0,     0,     0,     0,     0,     0,   865],\n",
        "       [    0,     0,     0,     0,     0,     0,  2790],\n",
        "       [    0,     0,     0,     0,     0,     0,  5127],\n",
        "       [    0,     0,     0,     0,     0,     0,  6200]]), 0.14285714285714285, 0.0012652276426855327, 0.03557003855333211, 0.0024435385258017445)\n",
        "(array([[  213,     0,     0,     0,     0,     0, 63206],\n",
        "       [    0,     0,     0,     0,     0,     0, 85219],\n",
        "       [    0,     0,     0,     0,     0,     0, 10670],\n",
        "       [    0,     0,     0,     0,     0,     0,   829],\n",
        "       [    0,     0,     0,     0,     0,     0,  2846],\n",
        "       [    0,     0,     0,     0,     0,     0,  5241],\n",
        "       [    0,     0,     0,     0,     0,     0,  6080]]), 0.1433369449894466, 0.36505954839580557, 0.03610358913163209, 0.004790033313000499)\n",
        "(array([[  933,     0,     0,     0,     0,     0, 62664],\n",
        "       [ 1067,     0,     0,     0,     0,     0, 83823],\n",
        "       [    0,     0,     0,     0,     0,     0, 10746],\n",
        "       [    0,     0,     0,     0,     0,     0,   834],\n",
        "       [    3,     0,     0,     0,     0,     0,  2823],\n",
        "       [    0,     0,     0,     0,     0,     0,  5132],\n",
        "       [    0,     0,     0,     0,     0,     0,  6279]]), 0.14495292904651835, 0.17126620573156845, 0.0413759867817147, 0.012911767059946488)\n",
        "(array([[    0,     0,     0,     0,     0,     0, 63510],\n",
        "       [    0,     0,     0,     0,     0,     0, 85191],\n",
        "       [    0,     0,     0,     0,     0,     0, 10663],\n",
        "       [    0,     0,     0,     0,     0,     0,   809],\n",
        "       [    0,     0,     0,     0,     0,     0,  2874],\n",
        "       [    0,     0,     0,     0,     0,     0,  5172],\n",
        "       [    0,     0,     0,     0,     0,     0,  6085]]), 0.14285714285714285, 0.0012187270708100108, 0.03491027170919772, 0.002355232340668978)\n",
        "(array([[16402,     0,     0,     0,     0,     0, 47070],\n",
        "       [23332,     0,     0,     0,     0,     0, 61590],\n",
        "       [ 5406,     0,     0,     0,     0,     0,  5348],\n",
        "       [  590,     0,     0,     0,     0,     0,   224],\n",
        "       [ 1261,     0,     0,     0,     0,     0,  1605],\n",
        "       [ 2801,     0,     0,     0,     0,     0,  2385],\n",
        "       [ 2141,     0,     0,     0,     0,     0,  4149]]), 0.1311473715042125, 0.11623155827485873, 0.117903203598311, 0.1058361299346174)\n",
        "\n",
        "'''"
      ],
      "metadata": {
        "id": "ndt6IPFfNTQi"
      },
      "execution_count": null,
      "outputs": []
    },
    {
      "cell_type": "markdown",
      "metadata": {
        "id": "wr2wyxS0Kcii"
      },
      "source": [
        "### 7.2 Média e Desvio Padrão  da acurácia e F-score"
      ]
    },
    {
      "cell_type": "markdown",
      "metadata": {
        "id": "0RgdsICRP56r"
      },
      "source": [
        "#### Media"
      ]
    },
    {
      "cell_type": "code",
      "execution_count": null,
      "metadata": {
        "id": "VdnJH54GNvNl"
      },
      "outputs": [],
      "source": [
        "soma_acc = 0\n",
        "soma_f1score = 0\n",
        "for resultado in resultados:\n",
        "  soma_acc+= resultado[1]\n",
        "  soma_f1score+= resultado[4]\n",
        "media_acc = soma_acc/len(resultados)\n",
        "media_f1 = soma_f1score/len(resultados)\n",
        "print(f\"medias:\\nAcurácia: {media_acc}\\nf1 score:{media_f1}\")"
      ]
    },
    {
      "cell_type": "code",
      "source": [
        "'''\n",
        "medias:\n",
        "Acurácia: 0.14576563559683503\n",
        "f1 score:0.02718356916350476\n",
        "'''"
      ],
      "metadata": {
        "id": "TLZ-_h6GReXK"
      },
      "execution_count": null,
      "outputs": []
    },
    {
      "cell_type": "markdown",
      "metadata": {
        "id": "_FUL2Dj7P7h6"
      },
      "source": [
        "#### Desvio padrão"
      ]
    },
    {
      "cell_type": "code",
      "execution_count": null,
      "metadata": {
        "id": "sApI7Yp3P84T"
      },
      "outputs": [],
      "source": [
        "somatorio_acc = 0\n",
        "somatorio_f1 = 0\n",
        "for resultado in resultados:\n",
        "  somatorio_acc += (resultado[1] - media_acc)**(2)\n",
        "  somatorio_f1 += (resultado[4] - media_f1)**(2)\n",
        "\n",
        "dp_acc = (somatorio_acc/len(resultado))**(1/2)\n",
        "dp_f1 = (somatorio_f1/len(resultado))**(1/2)\n",
        "print(f\"desvio padrao:\\nAcurácia: {dp_acc}\\nf1 score:{dp_f1}\")"
      ]
    },
    {
      "cell_type": "code",
      "source": [
        "'''\n",
        "desvio padrao:\n",
        "Acurácia: 0.011880145475533179\n",
        "f1 score:0.0610911480521724\n",
        "'''"
      ],
      "metadata": {
        "id": "Ttvkn4cURirg"
      },
      "execution_count": null,
      "outputs": []
    },
    {
      "cell_type": "markdown",
      "metadata": {
        "id": "cBGeea4PTrZC"
      },
      "source": [
        "## Questão 8 - utilizando otimizador SGD"
      ]
    },
    {
      "cell_type": "code",
      "execution_count": null,
      "metadata": {
        "id": "fbStKC9LN4QX"
      },
      "outputs": [],
      "source": [
        "resultados = []\n",
        "for x in range(15):\n",
        "  #7 e 7.1\n",
        "  X_train, X_test, y_train, y_test = train_test_split(X, y, test_size= 0.3,train_size= 0.7, shuffle=True)\n",
        "  \n",
        "  ## Padronização\n",
        "  X_train_std = (X_train - np.mean(X_train))/np.std(X_train)\n",
        "  X_test_std = (X_test - np.mean(X_train))/np.std(X_train)\n",
        "  \n",
        "  ### Modelo\n",
        "  rede1 = MLPClassifier(hidden_layer_sizes=(10),activation='relu',max_iter=300,verbose=False, solver = 'sgd')\n",
        "  rede1.fit(X_train_std,y_train)\n",
        "\n",
        "  resultados.append(validation(rede1, X_test, y_test, p = False))\n",
        "  acompanha(x)\n",
        "\n"
      ]
    },
    {
      "cell_type": "code",
      "execution_count": null,
      "metadata": {
        "id": "YnBzpmCCJgRP"
      },
      "outputs": [],
      "source": [
        "for resultado in resultados:\n",
        "  print(resultado)"
      ]
    },
    {
      "cell_type": "code",
      "source": [
        "'''\n",
        "#8 - A mesma rede repetida 15 vezes, usando o Otimizador SGD\n",
        "============================================================================\n",
        "\n",
        "(array([[ 2953,     0,     0,     0,     0,     0, 60905],\n",
        "       [ 3381,     0,     0,     0,     0,     0, 81200],\n",
        "       [    0,     0,     0,     0,     0,     0, 10681],\n",
        "       [    0,     0,     0,     0,     0,     0,   859],\n",
        "       [    0,     0,     0,     0,     0,     0,  2908],\n",
        "       [    0,     0,     0,     0,     0,     0,  5227],\n",
        "       [    0,     0,     0,     0,     0,     0,  6190]]), 0.14946331816575167, 0.1721108617879326, 0.05245433266017992, 0.033350144022948905)\n",
        "(array([[   15,     0,     0,     0,     0,     0, 63555],\n",
        "       [   79,     0,     0,     0,     0,     0, 84775],\n",
        "       [    0,     0,     0,     0,     0,     0, 10837],\n",
        "       [    0,     0,     0,     0,     0,     0,   811],\n",
        "       [   28,     0,     0,     0,     0,     0,  2831],\n",
        "       [    0,     0,     0,     0,     0,     0,  5249],\n",
        "       [    0,     0,     0,     0,     0,     0,  6124]]), 0.14289085147980854, 0.046076366804126384, 0.03522007527079126, 0.0025584009481200436)\n",
        "(array([[    0,     0,     0,     0,     0,     0, 63527],\n",
        "       [    0,     0,     0,     0,     0,     0, 84935],\n",
        "       [    0,     0,     0,     0,     0,     0, 10712],\n",
        "       [    0,     0,     0,     0,     0,     0,   786],\n",
        "       [    0,     0,     0,     0,     0,     0,  2882],\n",
        "       [    0,     0,     0,     0,     0,     0,  5227],\n",
        "       [    0,     0,     0,     0,     0,     0,  6235]]), 0.14285714285714285, 0.0012795527909890657, 0.03577083715806866, 0.002470725656844871)\n",
        "(array([[    0,     0,     0,     0,     0,     0, 63701],\n",
        "       [    0,     0,     0,     0,     0,     0, 84712],\n",
        "       [    0,     0,     0,     0,     0,     0, 10820],\n",
        "       [    0,     0,     0,     0,     0,     0,   813],\n",
        "       [    0,     0,     0,     0,     0,     0,  2803],\n",
        "       [    0,     0,     0,     0,     0,     0,  5224],\n",
        "       [    0,     0,     0,     0,     0,     0,  6231]]), 0.14285714285714285, 0.0012779115498034552, 0.03574788874609877, 0.002467611208651413)\n",
        "(array([[   55,     0,     0,     0,     0,     0, 63541],\n",
        "       [  230,     0,     0,     0,     0,     0, 84887],\n",
        "       [    0,     0,     0,     0,     0,     0, 10611],\n",
        "       [    0,     0,     0,     0,     0,     0,   794],\n",
        "       [   24,     0,     0,     0,     0,     0,  2848],\n",
        "       [    0,     0,     0,     0,     0,     0,  5201],\n",
        "       [    0,     0,     0,     0,     0,     0,  6113]]), 0.1429806906094723, 0.06617430229463173, 0.035386451257572976, 0.0030086956434677466)\n",
        "(array([[  251,     0,     0,     0,     0,     0, 63299],\n",
        "       [  958,     0,     0,     0,     0,     0, 84423],\n",
        "       [    0,     0,     0,     0,     0,     0, 10624],\n",
        "       [    0,     0,     0,     0,     0,     0,   816],\n",
        "       [   76,     0,     0,     0,     0,     0,  2685],\n",
        "       [    0,     0,     0,     0,     0,     0,  5081],\n",
        "       [    0,     0,     0,     0,     0,     0,  6091]]), 0.14342137799258176, 0.07244640067824269, 0.03638470717826327, 0.005199675783038717)\n",
        "(array([[    0,     0,     0,     0,     0,     0, 63220],\n",
        "       [    0,     0,     0,     0,     0,     0, 85382],\n",
        "       [    0,     0,     0,     0,     0,     0, 10770],\n",
        "       [    0,     0,     0,     0,     0,     0,   798],\n",
        "       [    0,     0,     0,     0,     0,     0,  2788],\n",
        "       [    0,     0,     0,     0,     0,     0,  5222],\n",
        "       [    0,     0,     0,     0,     0,     0,  6124]]), 0.14285714285714285, 0.0012343992718321845, 0.035134018725904166, 0.0023850037763255938)\n",
        "(array([[    0,     0,     0,     0,     0,     0, 63533],\n",
        "       [    0,     0,     0,     0,     0,     0, 84790],\n",
        "       [    0,     0,     0,     0,     0,     0, 10800],\n",
        "       [    0,     0,     0,     0,     0,     0,   803],\n",
        "       [    0,     0,     0,     0,     0,     0,  2967],\n",
        "       [    0,     0,     0,     0,     0,     0,  5231],\n",
        "       [    0,     0,     0,     0,     0,     0,  6180]]), 0.14285714285714285, 0.001257078049440763, 0.03545529649348265, 0.002428068220226976)\n",
        "(array([[  706,     0,     0,     0,     0,     0, 62752],\n",
        "       [ 2386,     0,     0,     0,     0,     0, 82684],\n",
        "       [    0,     0,     0,     0,     0,     0, 10815],\n",
        "       [    0,     0,     0,     0,     0,     0,   785],\n",
        "       [   41,     0,     0,     0,     0,     0,  2748],\n",
        "       [    0,     0,     0,     0,     0,     0,  5274],\n",
        "       [    0,     0,     0,     0,     0,     0,  6113]]), 0.14444649554485983, 0.08329204327731354, 0.03912130530567285, 0.010138248232961698)\n",
        "(array([[    0,     0,     0,     0,     0,     0, 63184],\n",
        "       [    0,     0,     0,     0,     0,     0, 85321],\n",
        "       [    0,     0,     0,     0,     0,     0, 10651],\n",
        "       [    0,     0,     0,     0,     0,     0,   821],\n",
        "       [    0,     0,     0,     0,     0,     0,  2857],\n",
        "       [    0,     0,     0,     0,     0,     0,  5226],\n",
        "       [    0,     0,     0,     0,     0,     0,  6244]]), 0.14285714285714285, 0.001283249434635727, 0.03582247108500092, 0.00247774009631506)\n",
        "(array([[  253,     0,     0,     0,     0,     0, 63497],\n",
        "       [   18,     0,     0,     0,     0,     0, 84846],\n",
        "       [    0,     0,     0,     0,     0,     0, 10741],\n",
        "       [    0,     0,     0,     0,     0,     0,   804],\n",
        "       [    0,     0,     0,     0,     0,     0,  2843],\n",
        "       [    0,     0,     0,     0,     0,     0,  5185],\n",
        "       [    0,     0,     0,     0,     0,     0,  6117]]), 0.14342408963585435, 0.34268109779449896, 0.03654534606205251, 0.005273912460132707)\n",
        "(array([[    0,     0,     0,     0,     0,     0, 63633],\n",
        "       [    0,     0,     0,     0,     0,     0, 84861],\n",
        "       [    0,     0,     0,     0,     0,     0, 10623],\n",
        "       [    0,     0,     0,     0,     0,     0,   835],\n",
        "       [    0,     0,     0,     0,     0,     0,  2835],\n",
        "       [    0,     0,     0,     0,     0,     0,  5187],\n",
        "       [    0,     0,     0,     0,     0,     0,  6330]]), 0.14285714285714285, 0.0013188418286160858, 0.03631586194235359, 0.002545250684755896)\n",
        "(array([[    0,     0,     0,     0,     0,     0, 63324],\n",
        "       [    0,     0,     0,     0,     0,     0, 85161],\n",
        "       [    0,     0,     0,     0,     0,     0, 10733],\n",
        "       [    0,     0,     0,     0,     0,     0,   806],\n",
        "       [    0,     0,     0,     0,     0,     0,  2875],\n",
        "       [    0,     0,     0,     0,     0,     0,  5189],\n",
        "       [    0,     0,     0,     0,     0,     0,  6216]]), 0.14285714285714285, 0.001271766275947378, 0.03566183220121168, 0.00245594891383483)\n",
        "(array([[    0,     0,     0,     0,     0,     0, 63725],\n",
        "       [    0,     0,     0,     0,     0,     0, 84895],\n",
        "       [    0,     0,     0,     0,     0,     0, 10907],\n",
        "       [    0,     0,     0,     0,     0,     0,   830],\n",
        "       [    0,     0,     0,     0,     0,     0,  2835],\n",
        "       [    0,     0,     0,     0,     0,     0,  5157],\n",
        "       [    0,     0,     0,     0,     0,     0,  5955]]), 0.14285714285714285, 0.0011672095290219935, 0.03416444832017625, 0.002257299660451346)\n",
        "(array([[ 1495,     0,     0,     0,     0,     0, 62169],\n",
        "       [ 5082,     0,     0,     0,     0,     0, 79693],\n",
        "       [    0,     0,     0,     0,     0,     0, 10706],\n",
        "       [    0,     0,     0,     0,     0,     0,   807],\n",
        "       [   87,     0,     0,     0,     0,     0,  2804],\n",
        "       [    0,     0,     0,     0,     0,     0,  5285],\n",
        "       [    0,     0,     0,     0,     0,     0,  6176]]), 0.14621180842279108, 0.08324475647211396, 0.044009317055259775, 0.01804645150295336)\n",
        "\n",
        "\n",
        "'''"
      ],
      "metadata": {
        "id": "EN8wssCFQtfA"
      },
      "execution_count": null,
      "outputs": []
    },
    {
      "cell_type": "code",
      "execution_count": null,
      "metadata": {
        "id": "M7ouuwV95UJ2"
      },
      "outputs": [],
      "source": [
        "soma_acc = 0\n",
        "soma_f1score = 0\n",
        "for resultado in resultados:\n",
        "  soma_acc+= resultado[1]\n",
        "  soma_f1score+= resultado[4]\n",
        "media_acc = soma_acc/len(resultados)\n",
        "media_f1 = soma_f1score/len(resultados)\n",
        "print(f\"medias:\\nAcurácia: {media_acc}\\nf1 score:{media_f1}\")\n",
        "\n",
        "\n",
        "\n",
        "somatorio_acc = 0\n",
        "somatorio_f1 = 0\n",
        "\n",
        "for resultado in resultados:\n",
        "  somatorio_acc += (resultado[1] - media_acc)**(2)\n",
        "  somatorio_f1 += (resultado[4] - media_f1)**(2)\n",
        "\n",
        "dp_acc = (somatorio_acc/len(resultado))**(1/2)\n",
        "dp_f1 = (somatorio_f1/len(resultado))**(1/2)\n",
        "print(f\"desvio padrao:\\nAcurácia: {dp_acc}\\nf1 score:{dp_f1}\")"
      ]
    },
    {
      "cell_type": "code",
      "source": [
        "'''\n",
        "medias:\n",
        "Acurácia: 0.14371305164721748\n",
        "f1 score:0.00647087845406861\n",
        "'''"
      ],
      "metadata": {
        "id": "W5fpdPVmQwnq"
      },
      "execution_count": null,
      "outputs": []
    },
    {
      "cell_type": "code",
      "source": [
        "'''\n",
        "desvio padrao:\n",
        "Acurácia: 0.003068839117118046\n",
        "f1 score:0.014356719362002682\n",
        "'''"
      ],
      "metadata": {
        "id": "YIaSCrcPQ2_6"
      },
      "execution_count": null,
      "outputs": []
    },
    {
      "cell_type": "markdown",
      "metadata": {
        "id": "hizMEnIf5sTk"
      },
      "source": [
        "<h1>Houve influência da escolha do otimizador no desempenho da rede?"
      ]
    },
    {
      "cell_type": "markdown",
      "metadata": {
        "id": "4egI-5JG5wPU"
      },
      "source": [
        "R: Os resultados de acurácia foram semelhantes, mas o F1-Score do solver Adam foi maior que o do solver SGD. Quanto ao desvio-padrão, houve pouca variação entre as redes."
      ]
    },
    {
      "cell_type": "markdown",
      "metadata": {
        "id": "3HijGjlR-F5x"
      },
      "source": [
        "## Discussão\n",
        "\n",
        "Nos passos anteriores, você avaliou o desempenho de uma única rede neural que contém os seguintes parâmetros: uma única camada oculta com 10 neurônios e função de ativação ReLU. O otimizador utilizado, quer seja SGD ou ADAM, trata-se do algoritmo para aproximar o gradiente do erro. Neste sentido, a escolha do otimizador é um hiperparâmetro, pois diz respeito a como a rede neural definida previamente atuará \"em tempo de execução\"  durante o processo de treinamento. Também são hiperparâmetros a quantidade de épocas, a taxa de aprendizado inicial, dentre outros.\n",
        "\n",
        "Cabe alientar também que você efetuou o treinamento desta rede por 100 vezes e apresentou os resultados em termos de média +- desvio padrão. Lembre-se que em uma rede neural há a inicialização aleatória de pesos e, em consequência, o desempenho delas está sujeito à uma flutuação estocástica. A execução destas múltiplas vezes faz com que eliminemos algum viés introduzido por uma boa ou má \"sorte\" na escolha de pesos no caso de uma única execução.\n",
        "\n",
        "Você também aprendeu uma estratégia para escalonar os atributos para uma melhor convergência da rede. Utilize-a em todos os treinamentos e testes propostos a seguir.\n",
        "\n",
        "## Propondo Novas Arquiteturas\n",
        "\n",
        "Variando  os parâmetros (uma ou duas camadas ocultas, com diferente números de neurônios em cada uma delas e a função de ativação) e o hiperparâmetros solver (Adam ou SGD) e o número de épocas (100,150 e 200), atenda ao que se pede:\n",
        "\n",
        "1. Proponha 10 arquiteturas distintas de RNAs para o problema em questão, à sua escolha\n",
        "2. Avalie cada uma das arquiteturas perante todos os hiperparâmetros apresentados por 100 vezes\n",
        "3. Como resultado da avaliação, apresente:  \n",
        "    3.1 Top-3 melhores redes no tocante à F-Score e Acurácia  \n",
        "    3.2 Repetição em que houve o melhor desempenho de cada uma dessas redes: ilustre tp, tf, fp e fn  "
      ]
    },
    {
      "cell_type": "code",
      "execution_count": null,
      "metadata": {
        "id": "bPf0AfJ_-F52"
      },
      "outputs": [],
      "source": [
        "#1\n",
        "#Uma ou duas camadas ocultas\n",
        "#solver Adam ou SGD\n",
        "# épocas: 100, 150 ou 200\n",
        "redes = [[] for i in range(10)]\n",
        "redes[0] = MLPClassifier(hidden_layer_sizes=(10),activation='tanh',max_iter=100,solver=\"adam\")\n",
        "redes[1] = MLPClassifier(hidden_layer_sizes=(10),activation='relu',max_iter=150,solver=\"sgd\")\n",
        "redes[2] = MLPClassifier(hidden_layer_sizes=(10),activation='logistic',max_iter=200,solver=\"adam\")\n",
        "redes[3] = MLPClassifier(hidden_layer_sizes=(10,15),activation='identity',max_iter=100,solver=\"adam\")\n",
        "redes[4] = MLPClassifier(hidden_layer_sizes=(10,15),activation='relu',max_iter=150,solver=\"adam\")\n",
        "redes[5] = MLPClassifier(hidden_layer_sizes=(10,15),activation='tanh',max_iter=200,solver=\"adam\")\n",
        "redes[6] = MLPClassifier(hidden_layer_sizes=(20),activation='relu',max_iter=100,solver=\"adam\")\n",
        "redes[7] = MLPClassifier(hidden_layer_sizes=(20),activation='logistic',max_iter=150,solver=\"adam\")\n",
        "redes[8] = MLPClassifier(hidden_layer_sizes=(20),activation='identity',max_iter=200,solver=\"adam\")\n",
        "redes[9] = MLPClassifier(hidden_layer_sizes=(30,40),activation='logistic',max_iter=200,solver=\"adam\")"
      ]
    },
    {
      "cell_type": "code",
      "execution_count": null,
      "metadata": {
        "colab": {
          "background_save": true
        },
        "id": "-G3hcqLLhydf"
      },
      "outputs": [],
      "source": [
        "#2 Avaliar cada rede 15 vezes\n",
        "\n",
        "#métricas\n",
        "matriz_c = [[] for i in range(len(redes))]\n",
        "acc = [[] for i in range(len(redes))]\n",
        "pre = [[] for i in range(len(redes))]\n",
        "rev = [[] for i in range(len(redes))]\n",
        "f1 = [[] for i in range(len(redes))]\n",
        "\n",
        "for i in range(15):\n",
        "  #Inicialização\n",
        "  X_train, X_test, y_train, y_test = train_test_split(X, y, test_size=0.3,train_size=0.7,shuffle=True)\n",
        "\n",
        "  #Normalização\n",
        "  X_train_std = (X_train - np.mean(X_train))/np.std(X_train)\n",
        "  X_test_std = (X_test - np.mean(X_train))/np.std(X_train)\n",
        "\n",
        "  for j in range(len(redes)):\n",
        "    redes[j].fit(X_train_std,y_train)\n",
        "    a,b,c,d,e = validation(redes[j], X_test_std,y_test, p = False)\n",
        "\n",
        "    \n",
        "    matriz_c[j].append(a)\n",
        "    acc[j].append(b)\n",
        "    pre[j].append(c)\n",
        "    rev[j].append(d)\n",
        "    f1[j].append(e)\n",
        "\n",
        "\n",
        "\n"
      ]
    },
    {
      "cell_type": "code",
      "execution_count": null,
      "metadata": {
        "id": "rtrx0DLJScNt"
      },
      "outputs": [],
      "source": [
        "#3\n",
        "#3.1 Top-3 melhores redes no tocante à F-Score e Acurácia\n",
        "\n",
        "#Usando a média para descobrir a melhor rede\n",
        "acc_m =[[] for i in range(len(acc))]\n",
        "f1_m =[[] for i in range(len(f1))]\n",
        "resultado = [[] for i in range(len(f1))]\n",
        "indices = [i for i in range(len(f1))]\n",
        "#Média das Acurácias\n",
        "for i in range(len(acc)):\n",
        "  aux = 0\n",
        "  for j in range(len(acc[i])):\n",
        "    aux += acc[i][j]\n",
        "\n",
        "  acc_m[i] = (aux/(j+1))\n",
        "\n",
        "#Média dos F_Scores\n",
        "for i in range(len(f1)):\n",
        "  aux = 0\n",
        "  for j in range(len(f1[i])):\n",
        "    aux += f1[i][j]\n",
        "\n",
        "  f1_m[i] = (aux/(j+1))\n",
        "\n",
        "\n",
        "# Soma dos valores\n",
        "#As redes com maior soma de acurácia e f-score serão selecionadas\n",
        "for i in range(len(resultado)):\n",
        "  resultado[i] = acc_m[i] + f1_m[i]\n",
        "\n",
        "resultado1 = sorted(zip(resultado,indices), reverse=True)[:3]\n",
        "print(\"Melhores redes:\\n\")\n",
        "for i in resultado1:\n",
        "\n",
        "  print(\"Rede de índice: \",i[1])\n",
        "  print(\"Acurácia Média: \",acc_m[i[1]])\n",
        "  print(\"F-Score Médio: \",f1_m[i[1]])\n",
        "  print('')\n",
        "\n",
        "\n",
        "\n",
        "  "
      ]
    },
    {
      "cell_type": "code",
      "source": [
        "'''\n",
        "# Propondo Novas Arquiteturas -3- Melhores Redes das 10 sugeridas.\n",
        "============================================================================\n",
        "Melhores redes:\n",
        "\n",
        "Rede de índice:  9\n",
        "Acurácia Média:  0.6625432510864768\n",
        "F-Score Médio:  0.8036498803809674\n",
        "\n",
        "Rede de índice:  5\n",
        "Acurácia Média:  0.5381018340996561\n",
        "F-Score Médio:  0.7439390815931607\n",
        "\n",
        "Rede de índice:  4\n",
        "Acurácia Média:  0.5429059643905464\n",
        "F-Score Médio:  0.7346680900384723\n",
        "'''"
      ],
      "metadata": {
        "id": "7o7V0pfdSVnN"
      },
      "execution_count": null,
      "outputs": []
    },
    {
      "cell_type": "code",
      "execution_count": null,
      "metadata": {
        "id": "FXto7cTviIma"
      },
      "outputs": [],
      "source": [
        "#3.2 Repetição em que houve o melhor desempenho de cada uma dessas redes: ilustre tp, tf, fp e fn\n",
        "\n",
        "#Melhor desempenho = maior valor de f-score + acurácia\n",
        "desempenho = [[] for i in range(len(resultado1))]\n",
        "for i in range(len(resultado1)):\n",
        "  indice = resultado1[i][1]\n",
        "  for j in range(len(acc[indice])):\n",
        "    desempenho[i].append([acc[indice][j]+f1[indice][j],j])\n",
        "\n",
        "desempenho1 = []\n",
        "\n",
        "for i in range(len(desempenho)):\n",
        "  desempenho1.append(max(desempenho[i]))\n",
        "\n",
        "for i in range(len(resultado1)):\n",
        "  print(\"\\nO melhor desempenho da rede\",resultado1[i][1],\" foi na repetição:\",desempenho1[i][1]+1)\n",
        "  print(\"\\n Matriz de Confusão: \")\n",
        "  m = matriz_c[resultado1[i][1]][desempenho1[i][1]]\n",
        "  print(m)\n"
      ]
    },
    {
      "cell_type": "code",
      "source": [
        "'''\n",
        "O melhor desempenho da rede 9  foi na repetição: 13\n",
        "\n",
        " Matriz de Confusão: \n",
        "\n",
        "[[51531 10955     3     0    72    19   937]\n",
        " [11479 71887   872     4   401   459   145]\n",
        " [    2  1220  8427    79    17   870     0]\n",
        " [    0     1   191   532     0    77     0]\n",
        " [  150  1490    39     0  1061    30     0]\n",
        " [   53   849  1492    41    14  2734     0]\n",
        " [ 1470    41     0     0     0     0  4660]]\n",
        "\n",
        "O melhor desempenho da rede 5  foi na repetição: 6\n",
        "\n",
        " Matriz de Confusão: \n",
        "[[47099 15987     4     0    33    23   727]\n",
        " [13080 69654   965     4   263   772    85]\n",
        " [    0  1627  7839   251     0   935     0]\n",
        " [    0     2   242   486     0    59     0]\n",
        " [   85  2215    39     0   432    61     0]\n",
        " [    0   990  2255    82     0  1891     0]\n",
        " [ 2618    88     0     0     0     0  3411]]\n",
        "\n",
        "O melhor desempenho da rede 4  foi na repetição: 2\n",
        "\n",
        " Matriz de Confusão: \n",
        "[[45989 16159    10     0    14    32  1451]\n",
        " [14187 68868   782     0   176   678   149]\n",
        " [    0  1615  7849   193     6   974     0]\n",
        " [    0     9   271   510     0    53     0]\n",
        " [   34  2220    40     0   484    38     0]\n",
        " [    0  1109  2008    72     5  2060     0]\n",
        " [ 2192    57     0     0     0     0  4010]]\n",
        "'''"
      ],
      "metadata": {
        "id": "BY8WjNglScWP"
      },
      "execution_count": null,
      "outputs": []
    },
    {
      "cell_type": "markdown",
      "metadata": {
        "id": "SvN3sED_-F53"
      },
      "source": [
        "## Estimando o número de neurônios\n",
        "\n",
        "Um dos problemas de pesquisa com redes neurais artificiais consiste na determinação do número de neurônios em sua arquitetura. Embora não seja possível definir a priori qual rede neural é adequada para um problema, pois isto só é possível mediante uma busca exaustiva, há regras na literatura que sugerem o número de neurônios escondidos, tal como a regra da Pirâmide Geométrica, dada a seguir:\n",
        "\n",
        "$$N_h = \\alpha \\cdot \\sqrt{N_i \\cdot N_o},$$\n",
        "\n",
        "em que $N_h$ é o número de neurônios ocultos (a serem distribuídos em uma ou duas camadas ocultas), $N_i$ é o número de neurônios na camada de entrada e $N_o$ é o número de neurônios na camada de saída. \n",
        "\n",
        "1. Consulte a documentação da classe MLPClassifier (disponível em https://scikit-learn.org/stable/modules/generated/sklearn.neural_network.MLPClassifier.html) e obtenha os valores de $N_i$ e $N_o$.\n",
        "2. Teste os valores de $\\alpha$ como sendo iguais a $0.5$, $2$ e $3$.\n",
        "3. Proponha pelo menos 30 redes neurais segundo a regra da pirâmide geométrica e teste-as nos mesmos termos estabelecidos anterioremente  (solver, épocas, etc.)  \n",
        "    3.1 Apresente as top-3 melhores redes no tocante à F-Score e Acurácia  "
      ]
    },
    {
      "cell_type": "markdown",
      "metadata": {
        "id": "mE0ocJ2Q9Z0B"
      },
      "source": [
        "1.\\\n",
        "$N_i = 10$ \\\n",
        "$N_o = 7$"
      ]
    },
    {
      "cell_type": "markdown",
      "metadata": {
        "id": "JO4lUlmR-AbQ"
      },
      "source": [
        "2. \\\n",
        "$N_{h1} = 0.5 \\cdot \\sqrt{10 \\cdot 7} = 4 $ \\\n",
        "$N_{h1} = 2 \\cdot \\sqrt{10 \\cdot 7} = 16 $ \\\n",
        "$N_{h1} = 3 \\cdot \\sqrt{10 \\cdot 7} = 25 $"
      ]
    },
    {
      "cell_type": "code",
      "execution_count": null,
      "metadata": {
        "id": "U-9Uf7DG_DAH"
      },
      "outputs": [],
      "source": [
        "#3\n",
        "#Nh1 = 4\n",
        "redes1 = [[] for i in range(30)]\n",
        "redes1[0] = MLPClassifier(hidden_layer_sizes=(4),activation='tanh',max_iter=100,solver=\"adam\")\n",
        "redes1[1] = MLPClassifier(hidden_layer_sizes=(4),activation='relu',max_iter=150,solver=\"sgd\")\n",
        "redes1[2] = MLPClassifier(hidden_layer_sizes=(4),activation='logistic',max_iter=200,solver=\"adam\")\n",
        "redes1[3] = MLPClassifier(hidden_layer_sizes=(4),activation='identity',max_iter=100,solver=\"adam\")\n",
        "redes1[4] = MLPClassifier(hidden_layer_sizes=(4),activation='relu',max_iter=200,solver=\"adam\")\n",
        "redes1[5] = MLPClassifier(hidden_layer_sizes=(4,4),activation='tanh',max_iter=100,solver=\"adam\")\n",
        "redes1[6] = MLPClassifier(hidden_layer_sizes=(4,4),activation='relu',max_iter=100,solver=\"adam\")\n",
        "redes1[7] = MLPClassifier(hidden_layer_sizes=(4,4),activation='logistic',max_iter=150,solver=\"adam\")\n",
        "redes1[8] = MLPClassifier(hidden_layer_sizes=(4,4),activation='identity',max_iter=200,solver=\"adam\")\n",
        "redes1[9] = MLPClassifier(hidden_layer_sizes=(4,4),activation='tanh',max_iter=200,solver=\"adam\")"
      ]
    },
    {
      "cell_type": "code",
      "execution_count": null,
      "metadata": {
        "id": "op13cTS2WUMy"
      },
      "outputs": [],
      "source": [
        "#Nh1 = 16\n",
        "redes1[10] = MLPClassifier(hidden_layer_sizes=(16),activation='tanh',max_iter=100,solver=\"adam\")\n",
        "redes1[11] = MLPClassifier(hidden_layer_sizes=(16),activation='relu',max_iter=150,solver=\"sgd\")\n",
        "redes1[12] = MLPClassifier(hidden_layer_sizes=(16),activation='logistic',max_iter=200,solver=\"adam\")\n",
        "redes1[13] = MLPClassifier(hidden_layer_sizes=(16),activation='identity',max_iter=100,solver=\"adam\")\n",
        "redes1[14] = MLPClassifier(hidden_layer_sizes=(16),activation='relu',max_iter=200,solver=\"adam\")\n",
        "redes1[15] = MLPClassifier(hidden_layer_sizes=(16,16),activation='tanh',max_iter=100,solver=\"adam\")\n",
        "redes1[16] = MLPClassifier(hidden_layer_sizes=(16,16),activation='relu',max_iter=100,solver=\"adam\")\n",
        "redes1[17] = MLPClassifier(hidden_layer_sizes=(16,16),activation='logistic',max_iter=150,solver=\"adam\")\n",
        "redes1[18] = MLPClassifier(hidden_layer_sizes=(16,16),activation='identity',max_iter=200,solver=\"adam\")\n",
        "redes1[19] = MLPClassifier(hidden_layer_sizes=(16,16),activation='tanh',max_iter=200,solver=\"adam\")"
      ]
    },
    {
      "cell_type": "code",
      "execution_count": null,
      "metadata": {
        "id": "WQYiCcRLXfqs"
      },
      "outputs": [],
      "source": [
        "#Nh1 = 25\n",
        "redes1[20] = MLPClassifier(hidden_layer_sizes=(25),activation='tanh',max_iter=100,solver=\"adam\")\n",
        "redes1[21] = MLPClassifier(hidden_layer_sizes=(25),activation='relu',max_iter=150,solver=\"sgd\")\n",
        "redes1[22] = MLPClassifier(hidden_layer_sizes=(25),activation='logistic',max_iter=200,solver=\"adam\")\n",
        "redes1[23] = MLPClassifier(hidden_layer_sizes=(25),activation='identity',max_iter=100,solver=\"adam\")\n",
        "redes1[24] = MLPClassifier(hidden_layer_sizes=(25),activation='relu',max_iter=200,solver=\"adam\")\n",
        "redes1[25] = MLPClassifier(hidden_layer_sizes=(25,25),activation='tanh',max_iter=100,solver=\"adam\")\n",
        "redes1[26] = MLPClassifier(hidden_layer_sizes=(25,25),activation='relu',max_iter=100,solver=\"adam\")\n",
        "redes1[27] = MLPClassifier(hidden_layer_sizes=(25,25),activation='logistic',max_iter=150,solver=\"adam\")\n",
        "redes1[28] = MLPClassifier(hidden_layer_sizes=(25,25),activation='identity',max_iter=200,solver=\"adam\")\n",
        "redes1[29] = MLPClassifier(hidden_layer_sizes=(25,25),activation='tanh',max_iter=200,solver=\"adam\")"
      ]
    },
    {
      "cell_type": "code",
      "execution_count": null,
      "metadata": {
        "id": "Nmfwl9ulXzIr"
      },
      "outputs": [],
      "source": [
        "#3.1\n",
        "#2 Avaliar cada rede 15 vezes\n",
        "\n",
        "#métricas\n",
        "matriz_c = [[] for i in range(len(redes1))]\n",
        "acc = [[] for i in range(len(redes1))]\n",
        "pre = [[] for i in range(len(redes1))]\n",
        "rev = [[] for i in range(len(redes1))]\n",
        "f1 = [[] for i in range(len(redes1))]\n",
        "\n",
        "for i in range(15):\n",
        "  #Inicialização\n",
        "  X_train, X_test, y_train, y_test = train_test_split(X, y, test_size=0.3,train_size=0.7,shuffle=True)\n",
        "\n",
        "  #Normalização\n",
        "  X_train_std = (X_train - np.mean(X_train))/np.std(X_train)\n",
        "  X_test_std = (X_test - np.mean(X_train))/np.std(X_train)\n",
        "\n",
        "  for j in range(len(redes1)):\n",
        "    redes1[j].fit(X_train_std,y_train)\n",
        "    a,b,c,d,e = validation(redes1[j], X_test_std,y_test, p = False)\n",
        "\n",
        "    \n",
        "    matriz_c[j].append(a)\n",
        "    acc[j].append(b)\n",
        "    pre[j].append(c)\n",
        "    rev[j].append(d)\n",
        "    f1[j].append(e)\n"
      ]
    },
    {
      "cell_type": "code",
      "execution_count": null,
      "metadata": {
        "id": "mOwo3MTGaQct"
      },
      "outputs": [],
      "source": [
        "#-------------------------------------------------------------------------------\n",
        "#Usando a média para descobrir a melhor rede\n",
        "acc_m =[[] for i in range(len(acc))]\n",
        "f1_m =[[] for i in range(len(f1))]\n",
        "resultado = [[] for i in range(len(f1))]\n",
        "indices = [i for i in range(len(f1))]\n",
        "#Média das Acurácias\n",
        "for i in range(len(acc)):\n",
        "  aux = 0\n",
        "  for j in range(len(acc[i])):\n",
        "    aux += acc[i][j]\n",
        "  acc_m[i] = (aux/(j+1))\n",
        "\n",
        "#Média dos F_Scores\n",
        "for i in range(len(f1)):\n",
        "  aux = 0\n",
        "  for j in range(len(f1[i])):\n",
        "    aux += f1[i][j]\n",
        "\n",
        "  f1_m[i] = (aux/(j+1))\n",
        "\n",
        "\n",
        "# Soma dos valores\n",
        "#As redes com maior soma de acurácia e f-score serão selecionadas\n",
        "for i in range(len(resultado)):\n",
        "  resultado[i] = acc_m[i] + f1_m[i]\n",
        "\n",
        "resultado2 = sorted(zip(resultado,indices), reverse=True)[:3]\n",
        "\n",
        "print(\"Melhores redes:\\n\")\n",
        "for i in resultado2:\n",
        "  \n",
        "  print(\"Rede de índice: \",i[1])\n",
        "  print(\"Acurácia Média: \",acc_m[i[1]])\n",
        "  print(\"F-Score Médio: \",f1_m[i[1]])\n",
        "  print('')\n"
      ]
    },
    {
      "cell_type": "code",
      "source": [
        "'''\n",
        "# Estimando o número de neurônios - As 3 melhores redes das 30 propostas.\n",
        "============================================================================\n",
        "Melhores redes:\n",
        "\n",
        "Rede de índice:  29\n",
        "Acurácia Média:  0.6442603044172408\n",
        "F-Score Médio:  0.7942627494389778\n",
        "\n",
        "Rede de índice:  25\n",
        "Acurácia Média:  0.6311301344393269\n",
        "F-Score Médio:  0.7901136926854332\n",
        "\n",
        "Rede de índice:  26\n",
        "Acurácia Média:  0.6233769019863493\n",
        "F-Score Médio:  0.7740351681237906\n",
        "'''"
      ],
      "metadata": {
        "id": "n3cF-JUcTDIR"
      },
      "execution_count": null,
      "outputs": []
    },
    {
      "cell_type": "code",
      "source": [
        ""
      ],
      "metadata": {
        "id": "T6u82vU5Ubdq"
      },
      "execution_count": null,
      "outputs": []
    },
    {
      "cell_type": "markdown",
      "metadata": {
        "id": "AzvYR61K-F56"
      },
      "source": [
        "## Testando as Redes Neurais com Atributos Categóricos\n",
        "\n",
        "1. Considere as 6 redes neurais obtidas nos dois top-3 anteriores (arquiteturas próprias e regra da pirâmide geométrica)\n",
        "2. Com todos os atributos preditores da base de dados original, incluindo os categóricos, treine e teste estas mesmas redes por 100 repetições  \n",
        "    2.1 Considere o melhor otimizador para cada uma delas  \n",
        "    2.2 Faça uso de 200 épocas para treinamento  \n",
        "    2.2 Apresente os resultados de acurácia e F-Score em termos da média +- dp para cada arquitetura\n",
        "3. Apresente o gráfico boxplot para o F-Score das 6 arquiteturas perante as 100 repetições"
      ]
    },
    {
      "cell_type": "code",
      "execution_count": null,
      "metadata": {
        "id": "rjPQsqay-F58"
      },
      "outputs": [],
      "source": [
        "#1\n",
        "redes2 = []\n",
        "for i in range(len(resultado1)):  \n",
        "  redes2.append(redes[resultado1[i][1]])\n",
        "\n",
        "for i in range(len(resultado2)):\n",
        "  redes2.append(redes1[resultado2[i][1]])\n",
        "\n",
        "#2.1\n",
        "for i in range(len(redes2)):\n",
        "  redes2[i].max_iter=200\n",
        "\n"
      ]
    },
    {
      "cell_type": "code",
      "execution_count": null,
      "metadata": {
        "id": "OVtjKANUegzA"
      },
      "outputs": [],
      "source": [
        "#2\n",
        "X = df[df.columns[0:54]]\n",
        "y = df[df.columns[-1]]"
      ]
    },
    {
      "cell_type": "code",
      "execution_count": null,
      "metadata": {
        "id": "aHjXoFREfjX1"
      },
      "outputs": [],
      "source": [
        "#métricas\n",
        "matriz_c = [[] for i in range(len(redes2))]\n",
        "acc = [[] for i in range(len(redes2))]\n",
        "pre = [[] for i in range(len(redes2))]\n",
        "rev = [[] for i in range(len(redes2))]\n",
        "f1 = [[] for i in range(len(redes2))]\n",
        "\n",
        "for i in range(15):\n",
        "  #Inicialização\n",
        "  X_train, X_test, y_train, y_test = train_test_split(X, y, test_size=0.3,train_size=0.7,shuffle=True)\n",
        "\n",
        "  #Normalização\n",
        "  X_train_std = (X_train - np.mean(X_train))/np.std(X_train)\n",
        "  X_test_std = (X_test - np.mean(X_train))/np.std(X_train)\n",
        "\n",
        "  for j in range(len(redes2)):\n",
        "    redes1[j].fit(X_train_std,y_train)\n",
        "    a,b,c,d,e = validation(redes1[j], X_test_std,y_test, p = False)\n",
        "\n",
        "    \n",
        "    matriz_c[j].append(a)\n",
        "    acc[j].append(b)\n",
        "    pre[j].append(c)\n",
        "    rev[j].append(d)\n",
        "    f1[j].append(e)\n"
      ]
    },
    {
      "cell_type": "code",
      "execution_count": null,
      "metadata": {
        "id": "HBMZVlJWimQK"
      },
      "outputs": [],
      "source": [
        "#-------------------------------------------------------------------------------\n",
        "acc_m =[[] for i in range(len(acc))]\n",
        "f1_m =[[] for i in range(len(f1))]\n",
        "resultado = [[] for i in range(len(f1))]\n",
        "indices = [i for i in range(len(f1))]\n",
        "dp_acc = [[] for i in range(len(acc))]\n",
        "dp_f1 = [[] for i in range(len(f1))]\n",
        "#Média das Acurácias\n",
        "for i in range(len(acc)):\n",
        "  aux = 0\n",
        "  for j in range(len(acc[i])):\n",
        "    aux += acc[i][j]\n",
        "  acc_m[i] = (aux/(j+1))\n",
        "\n",
        "#Média dos F_Scores\n",
        "for i in range(len(f1)):\n",
        "  aux = 0\n",
        "  for j in range(len(f1[i])):\n",
        "    aux += f1[i][j]\n",
        "  \n",
        "  f1_m[i] = (aux/(j+1))\n",
        "\n",
        "\n",
        "\n"
      ]
    },
    {
      "cell_type": "code",
      "execution_count": null,
      "metadata": {
        "id": "UhMb9dSAlW4F"
      },
      "outputs": [],
      "source": [
        "#DP das Acurácias\n",
        "\n",
        "for i in range(len(acc)):\n",
        "  aux = 0\n",
        "  for j in range(len(acc[i])):\n",
        "    aux += (acc[i][j] - acc_m[i])**2\n",
        "\n",
        "  dp_acc[i] = (aux/(j+1))**(1/2)\n",
        "\n",
        "\n",
        "#DP dos F-Scores\n",
        "for i in range(len(f1)):\n",
        "  aux = 0\n",
        "  for j in range(len(f1[i])):\n",
        "    aux += (f1[i][j] - f1_m[i])**2\n",
        "\n",
        "  dp_f1[i] = (aux/(j+1))**(1/2)\n",
        "\n",
        "    "
      ]
    },
    {
      "cell_type": "code",
      "execution_count": null,
      "metadata": {
        "id": "z1NLzdvRnirs"
      },
      "outputs": [],
      "source": [
        "#2.2\n",
        "for i in range(len(redes2)):\n",
        "  print(\"Rede de índice: \",i)\n",
        "  print(\"Acurácia média +- dp:\")\n",
        "  print(str(acc_m[i])+\" +- \"+str(dp_acc[i]))\n",
        "  print('')\n",
        "  print(\"F-Score médio +- dp:\")\n",
        "  print(str(f1_m[i])+\" +- \"+str(dp_f1[i]))\n",
        "  print('')\n",
        "  print('-------------------------------')\n",
        "\n"
      ]
    },
    {
      "cell_type": "code",
      "source": [
        "'''\n",
        "#Testando as Redes Neurais com Atributos Categóricos\n",
        "============================================================================\n",
        "\n",
        "Rede de índice:  0\n",
        "Acurácia média +- dp:\n",
        "0.45402085370495127 +- 0.01588016359191586\n",
        "\n",
        "F-Score médio +- dp:\n",
        "0.7174517538629049 +- 0.0045648277188429075\n",
        "\n",
        "-------------------------------\n",
        "Rede de índice:  1\n",
        "Acurácia média +- dp:\n",
        "0.4454839773778742 +- 0.018719906052779747\n",
        "\n",
        "F-Score médio +- dp:\n",
        "0.7104240018416076 +- 0.003543659155120881\n",
        "\n",
        "-------------------------------\n",
        "Rede de índice:  2\n",
        "Acurácia média +- dp:\n",
        "0.46212750484491144 +- 0.022204016349861563\n",
        "\n",
        "F-Score médio +- dp:\n",
        "0.7204291820522143 +- 0.0029847897695783458\n",
        "\n",
        "-------------------------------\n",
        "Rede de índice:  3\n",
        "Acurácia média +- dp:\n",
        "0.49220165823525913 +- 0.01293928560013884\n",
        "\n",
        "F-Score médio +- dp:\n",
        "0.7117626438246962 +- 0.002179195698170138\n",
        "\n",
        "-------------------------------\n",
        "Rede de índice:  4\n",
        "Acurácia média +- dp:\n",
        "0.4524221476735899 +- 0.022002147834087684\n",
        "\n",
        "F-Score médio +- dp:\n",
        "0.71277065524871 +- 0.005210046288133535\n",
        "\n",
        "-------------------------------\n",
        "Rede de índice:  5\n",
        "Acurácia média +- dp:\n",
        "0.4889289113429412 +- 0.02994399869565992\n",
        "\n",
        "F-Score médio +- dp:\n",
        "0.726083113429269 +- 0.0038835156771150404\n",
        "'''"
      ],
      "metadata": {
        "id": "jTjck0WnTSGb"
      },
      "execution_count": null,
      "outputs": []
    },
    {
      "cell_type": "code",
      "source": [
        "#3\n",
        "f1 = [[0.7167472168203611, 0.7106038954820889, 0.7213307618332057, 0.7121238579789588, 0.7225643779924362, 0.7216085411514026, 0.7104714928224948, 0.7166720585567473, 0.7161831204833692, 0.7117189321396781, 0.7151483460948174, 0.7235915444652866, 0.7203492624183914, 0.7238824558280551, 0.7187804438762796],\n",
        "[0.7102461825137216, 0.7084975020098947, 0.7103300806228432, 0.7044742252345403, 0.7113533460063833, 0.7153234378804749, 0.7014941315316844, 0.7114899017522426, 0.7112787502379172, 0.7115044602195179, 0.7094581955459016, 0.712431028814141, 0.7158850272993946, 0.7129184039153826, 0.7096753540400724],\n",
        "[0.7201058172302525, 0.7163550952775659, 0.7189625867497331, 0.7190229837159173, 0.7247051257636145, 0.7163259069517719, 0.7226949059144653, 0.7223721429899547, 0.7179783676338817, 0.7220058457427215, 0.7165083423188703, 0.7225263269044078, 0.717900990539976, 0.7252590435931634, 0.7237142494569163],\n",
        "[0.7105975018663372, 0.7133618930432719, 0.7136625036034405, 0.7128178652469069, 0.7099148818967261, 0.7116583584052402, 0.7084120740919188, 0.7074164417986919, 0.7093714810095174, 0.7125629162731775, 0.7154716648862881, 0.7129542286646482, 0.7141461467033585, 0.7129618470106999, 0.7111298528702205],\n",
        "[0.7042507189590957, 0.7074299017548458, 0.7162860689892173, 0.712769005918206, 0.71695435282409, 0.7064891529819586, 0.7102512386649449, 0.7110273535988264, 0.7200592359899503, 0.7174150931028902, 0.709175472872466, 0.7173781560900641, 0.721815058515522, 0.7135021441024705, 0.7067568743661011],\n",
        "[0.7275093834298537, 0.7228089454559965, 0.7250773011716987, 0.7277531207324843, 0.729478189000814, 0.7327793595523842, 0.7237964151588568, 0.7255586591150975, 0.7221078334133759, 0.7205801520396012, 0.7205131920381441, 0.7273619269646195, 0.726964875930416, 0.7247237748844874, 0.7342335725512044]\n",
        "]"
      ],
      "metadata": {
        "id": "TpxwAwKiTXcu"
      },
      "execution_count": 4,
      "outputs": []
    },
    {
      "cell_type": "code",
      "execution_count": 14,
      "metadata": {
        "id": "uXvYuiwBqsbu",
        "colab": {
          "base_uri": "https://localhost:8080/",
          "height": 281
        },
        "outputId": "bb228689-6756-4aea-bd38-81d4cfefb490"
      },
      "outputs": [
        {
          "output_type": "display_data",
          "data": {
            "image/png": "[encoded data removed]",
            "text/plain": [
              "<Figure size 432x288 with 1 Axes>"
            ]
          },
          "metadata": {
            "needs_background": "light"
          }
        }
      ],
      "source": [
        "#3\n",
        "fig, ax  = plt.subplots()\n",
        "ax.set_title(\"Boxplot dos F-Scores\")\n",
        "ax.boxplot(f1[:])\n",
        "!"
      ]
    },
    {
      "cell_type": "markdown",
      "metadata": {
        "id": "WtFp-PMD-F6B"
      },
      "source": [
        "## Considerações Parciais\n",
        "\n",
        "1. É possível identificar uma rede com desempenho superior às demais?\n",
        "2. Qual estratégia mostrou-se mais producente para a obtenção de boas arquiteturas (Estratégia Própria ou Pirâmide Geométrica)? Por quê?\n",
        "3. Considerar os atributos categóricos trouxe melhorias? Justifique.\n",
        "4. Um número maior de épocas trouxe melhorias?\n",
        "5. Qual a maior dificuldade de resolução do problema proposto perante as RNAs?"
      ]
    },
    {
      "cell_type": "markdown",
      "source": [
        "<h1>Respostas:</h1>\n",
        "\n",
        "\n",
        "1. A melhor rede foi:\n",
        "\n",
        "```\n",
        "redes[9] = MLPClassifier(hidden_layer_sizes=(30,40),activation='logistic',max_iter=200,solver=\"adam\")\n",
        "```\n",
        "Acurácia Média:  0.6625432510864768\\\n",
        "F-Score Médio:  0.8036498803809674\n",
        "\n",
        "2. Pirâmide Geométrica. Apesar da melhor rede ter sido proposta, o método da pirâmide geométrica gerou melhores resultados de acurácia e F-Score no geral.\n",
        "\n",
        "3. Não. As medidas de acurácia cairam drasticamente quando os atributos categóricos foram introduzidos.\n",
        "\n",
        "4. Em geral, treinar as redes por épocas maiores trouxe melhorias. Por causa da tolerância, mesmo colocando um número alto de épocas, o treinamento para quando o erro-médio não possui uma mudança significativa, o que significa que treinar por épocas maiores trás menos riscos.\n",
        "\n",
        "5. No presente trabalho, tivemos duas dificuldades principais:\n",
        "\n",
        "\n",
        "*   O custo computacional para treinar e validar as redes.\n",
        "*   Avaliar os parâmetros de treinamento de cada rede, de maneira que as pontuações de Acurácia e F-Score melhorassem.\n",
        "\n",
        "\n",
        "\n"
      ],
      "metadata": {
        "id": "GOwGGfcDUm0h"
      }
    }
  ],
  "metadata": {
    "colab": {
      "collapsed_sections": [],
      "name": "PP2.2.2 - Proposição e Avaliação de RNAs.ipynb",
      "provenance": [],
      "include_colab_link": true
    },
    "kernelspec": {
      "display_name": "Python 3",
      "language": "python",
      "name": "python3"
    },
    "language_info": {
      "codemirror_mode": {
        "name": "ipython",
        "version": 3
      },
      "file_extension": ".py",
      "mimetype": "text/x-python",
      "name": "python",
      "nbconvert_exporter": "python",
      "pygments_lexer": "ipython3",
      "version": "3.6.10"
    }
  },
  "nbformat": 4,
  "nbformat_minor": 0
}